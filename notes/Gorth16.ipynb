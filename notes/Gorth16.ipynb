{
 "cells": [
  {
   "cell_type": "code",
   "execution_count": 1,
   "id": "loved-highlight",
   "metadata": {},
   "outputs": [],
   "source": [
    "%load_ext autoreload\n",
    "%autoreload 2"
   ]
  },
  {
   "cell_type": "markdown",
   "id": "measured-pursuit",
   "metadata": {},
   "source": [
    "Gorth16 in Klefki\n",
    "===================="
   ]
  },
  {
   "cell_type": "markdown",
   "id": "passive-absence",
   "metadata": {},
   "source": [
    "## Bilinear groups"
   ]
  },
  {
   "cell_type": "markdown",
   "id": "structural-database",
   "metadata": {},
   "source": [
    "We will work over bilinear groups $(p,\\mathbb{G}_1,\\mathbb{G}_2,\\mathbb{G}_T,e,g,h)$ with the following properties:\n",
    "\n",
    "* $\\mathbb{G}_1, \\mathbb{G}_2, mathbb{G}_T$ are groups of prime order p\n",
    "\n",
    "* The pairing $e$: $\\mathbb{G}_1x\\mathbb{G}_2 \\rightarrow \\mathbb{G}_T$ is a binlinear map\n",
    "\n",
    "* $g$ is a generator for $\\mathbb{G}_1$, $h$ is a generator for $\\mathbb{G}_2$ and $e(g, h)$ is a generator for $\\mathbb{G}_T$\n",
    "\n",
    "* There are efficient algorithms for computing group operations, evaluating the bilinearmap, deciding membership of the groups, deciding equality of group elements andsampling generators of the groups. We refer to these as the generic group operations."
   ]
  },
  {
   "cell_type": "code",
   "execution_count": 2,
   "id": "cordless-dylan",
   "metadata": {},
   "outputs": [],
   "source": [
    "from klefki.curves.barreto_naehrig.bn128 import BN128FP as FP, BN128FP2 as FP2, BN128FP12 as FP12, ECGBN128 as ECG\n",
    "from klefki.algebra.utils import randfield"
   ]
  },
  {
   "cell_type": "code",
   "execution_count": 3,
   "id": "together-community",
   "metadata": {},
   "outputs": [],
   "source": [
    "g = ECG.G1\n",
    "h = ECG.G2"
   ]
  },
  {
   "cell_type": "markdown",
   "id": "convinced-settlement",
   "metadata": {},
   "source": [
    "We write $[a]_1$ for $g^a$, $[b]_2$ for $h^b$, and $[c]_T$ for $e(g, h)^c$. A vector of group elements will be represented as $[\\mathbf{a}]_i$. We defined dot product as $[\\mathbf{a}]_1 \\circ [\\mathbf{b}]_2 = [\\mathbf{a}\\circ \\mathbf{b}]_T$"
   ]
  },
  {
   "cell_type": "markdown",
   "id": "dental-cornell",
   "metadata": {},
   "source": [
    "## NIZK"
   ]
  },
  {
   "cell_type": "markdown",
   "id": "actual-retailer",
   "metadata": {},
   "source": [
    "let $R$ be a relation generator that given a security parameter $λ$ in unary returns a polynomial time decidable binary relation $R$. For pairs $(\\phi, \\omega) \\in R$.\n",
    "\n",
    "For pairs $(\\phi, \\omega) \\ in R$, we call $\\phi$ the statement and $\\omega$ the witness. We defined $R_{\\lambda}$  to be the set of possible relations $R $the relation gen-erator may output given $1^λ$. The relation generator may also output someside information, an auxiliary input $z$, which will be given to the adversary."
   ]
  },
  {
   "cell_type": "markdown",
   "id": "angry-illustration",
   "metadata": {},
   "source": [
    "An efficient prover publicly verifiable non-interactive argument for $R$ is a quadruple of probabilistic polynomial algorithms $(Setup,Prove,Vfy,Sim)$ such that\n",
    "\n",
    "* $(\\sigma,\\tau) \\leftarrow Setup(R)$: The setup produces a common reference stringσand a simulationtrapdoorτfor the relationR\n",
    "\n",
    "* $\\pi \\leftarrow Prov(R, \\sigma, \\phi, \\omega)$:The prover algorithm takes as input a common reference string σ and $(φ,w)∈R$ and returns an argument π.\n",
    "\n",
    "* $0/1 \\leftarrow Vfy(R, \\sigma, \\phi, \\pi)$: The  verification  algorithm  takes  as  input  a  common  referencestring σ, a statement φ and an argumentπand returns 0 (reject) or 1 (accept).\n",
    "\n",
    "* $\\pi \\leftarrow Sim(R, \\tau, \\phi)$: The simulator takes as input a simulation trapdoor and statementφand returns an argument π."
   ]
  },
  {
   "cell_type": "markdown",
   "id": "paperback-venture",
   "metadata": {},
   "source": [
    "## QAP"
   ]
  },
  {
   "cell_type": "markdown",
   "id": "romantic-interview",
   "metadata": {},
   "source": [
    "Given $n$ equations we pick arbitrary distinct $r_1,\\cdots,r_n \\in \\mathbb{F}$ and define\n",
    "$$\n",
    "t(x) = \\prod_{q=1}^n (x - r_q)\n",
    "$$"
   ]
  },
  {
   "cell_type": "markdown",
   "id": "veterinary-claim",
   "metadata": {},
   "source": [
    "$$\n",
    "\\sum_{i=0}^m a_i u_i(X) \\circ \\sum_{i=0}^m a_i v_i(X) = \\sum_{i=0}^m a_i w_i(X) + h(X)t(X)\n",
    "$$"
   ]
  },
  {
   "cell_type": "markdown",
   "id": "successful-liberty",
   "metadata": {},
   "source": [
    " we will be working with quadratic arithmetic programsRthat have thefollowing description\n",
    " \n",
    " $$\n",
    " R = (p, \\mathbb{G}_1,\\mathbb{G}_2, \\mathbb{G}_T, e, g, h, l, \\{u_i(X), v_i(X), w_i(X)\\}_{i=0}^n, t(X))\n",
    " $$"
   ]
  },
  {
   "cell_type": "markdown",
   "id": "excited-century",
   "metadata": {},
   "source": [
    "with $|p|=\\lambda$. The realation defineds a field $\\mathbb{Z}_p$ and a language of statement $(a_i,\\cdots, a_l) \\in \\mathbb{Z}_p^l$ and witness $(a_{l+1}, \\cdots, a_m) \\in \\mathbb{Z}_p^{m-l}$ such that with $a_0=1$"
   ]
  },
  {
   "cell_type": "code",
   "execution_count": 106,
   "id": "understanding-competition",
   "metadata": {},
   "outputs": [],
   "source": [
    "from collections import namedtuple\n",
    "\n",
    "RationalGenerator = namedtuple(\"RelationGenerator\", [\"F\", \"G1\", \"G2\", \"Gt\", \"e\", \"g\", \"h\", \"l\", \"U\", \"V\", \"W\", \"T\"])"
   ]
  },
  {
   "cell_type": "code",
   "execution_count": 107,
   "id": "racial-astrology",
   "metadata": {},
   "outputs": [],
   "source": [
    "from klefki.zkp.r1cs import R1CS\n",
    "from klefki.zkp.qap import QAP\n"
   ]
  },
  {
   "cell_type": "code",
   "execution_count": 108,
   "id": "loved-philippines",
   "metadata": {},
   "outputs": [],
   "source": [
    "@R1CS.r1cs(FP)\n",
    "def f(x, k, c):\n",
    "    y = x + c + k\n",
    "    return y ** 3\n"
   ]
  },
  {
   "cell_type": "code",
   "execution_count": 109,
   "id": "intermediate-machinery",
   "metadata": {},
   "outputs": [],
   "source": [
    "qap = QAP(f.A, f.B, f.C)\n",
    "U, V, W, T = qap.qap\n",
    "a = f.witness(FP(89), FP(8), FP(8))"
   ]
  },
  {
   "cell_type": "code",
   "execution_count": 110,
   "id": "prepared-technician",
   "metadata": {},
   "outputs": [
    {
     "data": {
      "text/plain": [
       "8"
      ]
     },
     "execution_count": 110,
     "metadata": {},
     "output_type": "execute_result"
    }
   ],
   "source": [
    "len(a)"
   ]
  },
  {
   "cell_type": "code",
   "execution_count": 111,
   "id": "logical-justice",
   "metadata": {},
   "outputs": [],
   "source": [
    "R = RationalGenerator(FP, ECG, ECG, ECG, ECG.e, ECG.G1, ECG.G2, 4, U, V, W, T)"
   ]
  },
  {
   "cell_type": "markdown",
   "id": "guided-irrigation",
   "metadata": {},
   "source": [
    "## $(\\sigma,\\tau) \\leftarrow Setup(R)$:"
   ]
  },
  {
   "cell_type": "markdown",
   "id": "biological-updating",
   "metadata": {},
   "source": [
    "Pick $\\alpha, \\beta, \\gamma, \\delta, x \\leftarrow \\mathbb{Z}_P^*$, Define $\\tau = (\\alpha, \\beta, \\gamma, \\delta, x)$ and compute $\\sigma = ([\\mathbf{\\sigma_1}]_1, [\\mathbf{\\sigma_2}]_2$ where"
   ]
  },
  {
   "cell_type": "markdown",
   "id": "stable-impression",
   "metadata": {},
   "source": [
    "$$\n",
    "(\\mathbf{\\sigma}_1, \\mathbf{\\sigma}_2) = \\left( \\left(\\begin{split}\n",
    "\\alpha, \\beta, \\delta, \\{x^i\\}_{i=0}^{n-1},\n",
    "\\left\\{\\frac{\\beta u_i(x) + \\alpha v_i (x) + w_i (x)}{\\gamma} \\right\\}_{i=0}^l \\\\\n",
    "\\left\\{ \\frac{\\beta u_i (x) + \\alpha v_i(x) + w_i(x)}{\\delta} \\right\\}_{i=l+1}^m,\n",
    "\\left\\{\\frac{x^i t(x)}{\\delta} \\right \\}_{i=0}^{n-2}\n",
    "\\end{split}\\right) , \\left(\\beta, \\gamma, \\delta, \\{x^i\\}^{n-1}_{i=0} \\right)\n",
    "\\right)\n",
    "$$"
   ]
  },
  {
   "cell_type": "code",
   "execution_count": 112,
   "id": "welcome-tampa",
   "metadata": {},
   "outputs": [],
   "source": [
    "from typing import Iterable, Tuple, Type\n",
    "from operator import add\n",
    "from functools import reduce\n",
    "\n",
    "def setup(R, m) -> Tuple[Iterable, Tuple[R.G1, R.G2]]:\n",
    "    tau = alpha, beta, delta, gamma, x = \\\n",
    "        randfield(R.F), randfield(R.F), randfield(R.F), randfield(R.F), randfield(R.F)\n",
    "    n = R.U[0].degree\n",
    "    sigma_1 = [alpha, beta, delta] + \\\n",
    "              [x ** i for i in range(0, n)] + \\\n",
    "              [(R.U[i](x) * beta + R.V[i](x) * alpha + R.W[i](x)) / gamma  for i in range(0, R.l)] + \\\n",
    "              [(R.U[i](x) * beta + R.V[i](x) * alpha + R.W[i](x)) / delta  for i in range(R.l, m)] + \\\n",
    "              [(x ** i * R.T(x)) / delta for i in range(0, n)]\n",
    "    \n",
    "    sigma_2 = [beta, gamma, delta] + \\\n",
    "              [x**i for i in (0, n)]\n",
    "    \n",
    "    sigma = ([R.g @ s for s in sigma_1], [R.h @ s for s in sigma_2])\n",
    "    return tau, sigma"
   ]
  },
  {
   "cell_type": "code",
   "execution_count": 113,
   "id": "grand-harvey",
   "metadata": {},
   "outputs": [],
   "source": [
    "tau, sigma = setup(R, len(a))"
   ]
  },
  {
   "cell_type": "markdown",
   "id": "operating-veteran",
   "metadata": {},
   "source": [
    "## $\\pi \\leftarrow Prov(R, \\tau, \\sigma, a_1, \\cdots, a_m)$"
   ]
  },
  {
   "cell_type": "markdown",
   "id": "public-steering",
   "metadata": {},
   "source": [
    "Pick $r, s \\leftarrow \\mathbb{Z}_p$ and compute $\\pi = ([A]_1, [C]_1, [B]_2$ where"
   ]
  },
  {
   "cell_type": "markdown",
   "id": "duplicate-means",
   "metadata": {},
   "source": [
    "$$\n",
    "A = \\alpha + \\sum_{i=0}^m a_i u_i(x) + r\\delta\n",
    "$$\n",
    "\n",
    "$$\n",
    "B = \\beta + \\sum_{i=0}^m a_i v_i(x) + s\\delta\n",
    "$$\n",
    "\n",
    "$$\n",
    "C = \\frac{\\sum_{i=l+1}^m a_i(\\beta u_i(x) + \\alpha v_i(x) + w_i(x)) + h(x)t(x)}{\\delta} + As + Br - rs\\delta\n",
    "$$"
   ]
  },
  {
   "cell_type": "code",
   "execution_count": 146,
   "id": "medieval-domain",
   "metadata": {},
   "outputs": [],
   "source": [
    "H = qap.H(a)\n",
    "r, s = randfield(R.F), randfield(R.F)"
   ]
  },
  {
   "cell_type": "code",
   "execution_count": 164,
   "id": "streaming-convertible",
   "metadata": {},
   "outputs": [],
   "source": [
    "def prov(R, tau, sigma, a, r=None, s=None) -> Tuple[R.G1, R.G1, R.G2]:\n",
    "    r = r or randfield(R.F)\n",
    "    s = s or randfield(R.F)\n",
    "    alpha, beta, delta, gamma, x = tau\n",
    "    m = len(a)\n",
    "    A = alpha + reduce(add, [a[i] * (R.U[i](x)) for i in range(0, m)]) + r * delta\n",
    "    B = beta + reduce(add, [a[i] * (R.V[i](x)) for i in range(0, m)]) + s * delta\n",
    "    C = (reduce(add, [a[i]*(beta * R.U[i](x) + alpha * R.V[i](x) + R.W[i](x)) for i in range(R.l, m)]) + H(x) * R.T(x)) / delta \\\n",
    "        + (A * s + B * r - r * s * delta)\n",
    "    return (R.g @ A, R.g @ C, R.h @ B)\n",
    "    \n",
    "    \n",
    "\n",
    "    "
   ]
  },
  {
   "cell_type": "code",
   "execution_count": 148,
   "id": "elegant-enforcement",
   "metadata": {},
   "outputs": [
    {
     "name": "stdout",
     "output_type": "stream",
     "text": [
      "4942604902296779075809431979033738284185203075880862909660049746423573980166 (BN128FP::19460512573285895588679260972005574897782858912491868405481399432028687208029, BN128FP::2487399355994072332711110933414807183225998174411095489176014745558032028736) 8 11165886778148313461534639174021484234537146584513390715825964224194478086542 1504659904395999616036886185914360641325080814954958563570929030711121730938\n"
     ]
    },
    {
     "data": {
      "text/plain": [
       "(ECGBN128::(BN128FP::19460512573285895588679260972005574897782858912491868405481399432028687208029, BN128FP::2487399355994072332711110933414807183225998174411095489176014745558032028736),\n",
       " ECGBN128::(BN128FP::5511525442912288811058191965003795768205095872588125406013603638888366158111, BN128FP::4052267250562808496422781660003101339341371594508897142035902809733586758098),\n",
       " ECGBN128::(BN128FP2::[BN128FP::17162876590856523208266851555041087223217105142344576910559080810978778079899, BN128FP::1869747915584218122255709438583046323742350513768211964756811857944838632243], BN128FP2::[BN128FP::8493532577520640865474137758245782027849577410914366858131560337610337480246, BN128FP::20597319043044317499331501337871157868200051274777062384331098590255124918972]))"
      ]
     },
     "execution_count": 148,
     "metadata": {},
     "output_type": "execute_result"
    }
   ],
   "source": [
    "pi = prov(R, tau, sigma, a, r, s)\n",
    "pi"
   ]
  },
  {
   "cell_type": "markdown",
   "id": "collective-elimination",
   "metadata": {},
   "source": [
    "## $0/1 \\leftarrow Vfy(R, \\tau, a_1, \\cdots, a_l, \\pi)$"
   ]
  },
  {
   "cell_type": "markdown",
   "id": "joint-poker",
   "metadata": {},
   "source": [
    "Parse $\\pi = ([A]_1, [C]_1, [B]_2 \\in G_1^2 x G_2$. Accept the proof iff:"
   ]
  },
  {
   "cell_type": "markdown",
   "id": "composed-appraisal",
   "metadata": {},
   "source": [
    "$$\n",
    "[A]_1 \\circ [B]_2 = [\\alpha]_1 \\circ [\\beta]_2 + \\sum_{i=0}^l a_i \\left[ \\frac{\\beta u_i(x) + \\alpha v_i(x) + w_i(x)}{\\gamma} \\right]_1 \\circ [\\gamma]_2 + [C]_1 \\circ [\\delta]_2\n",
    "$$"
   ]
  },
  {
   "cell_type": "code",
   "execution_count": 202,
   "id": "otherwise-thong",
   "metadata": {},
   "outputs": [],
   "source": [
    "def vfy(R, tau, a, pi):\n",
    "    alpha, beta, delta, gamma, x = tau\n",
    "    A_1, C_1, B_2 = pi\n",
    "    lhs = R.e(A_1, B_2)\n",
    "    rhs = R.e(R.g @ alpha, R.h @ beta) * \\\n",
    "        reduce(add, \n",
    "            [\n",
    "                R.e(\n",
    "                    R.g @ ((beta * R.U[i](x) + alpha * R.V[i](x) + R.W[i](x)) / gamma),\n",
    "                    R.h @ gamma\n",
    "                ) * a[i]\n",
    "                for i in range(0, R.l)\n",
    "            ]\n",
    "        ) * \\\n",
    "        R.e(C_1, R.h @ delta)\n",
    "    return lhs == rhs"
   ]
  },
  {
   "cell_type": "code",
   "execution_count": 203,
   "id": "productive-given",
   "metadata": {},
   "outputs": [],
   "source": [
    "def vfy2(R, tau, a, pi):\n",
    "    alpha, beta, delta, gamma, x = tau\n",
    "    A_1, C_1, B_2 = pi\n",
    "    lhs = R.e(B_2, A_1)\n",
    "    D = R.g @ reduce(add, [\n",
    "                a[i] * (beta * R.U[i](x) + alpha * R.V[i](x) + R.W[i](x)) / gamma\n",
    "                for i in range(0, R.l)])\n",
    "    rhs = R.e(R.h @ beta, R.g @ alpha) * \\\n",
    "          R.e(R.h @ gamma, D) * \\\n",
    "          R.e(R.h @ delta, C_1)\n",
    "    return lhs == rhs"
   ]
  },
  {
   "cell_type": "code",
   "execution_count": 204,
   "id": "female-compilation",
   "metadata": {},
   "outputs": [
    {
     "data": {
      "text/plain": [
       "False"
      ]
     },
     "execution_count": 204,
     "metadata": {},
     "output_type": "execute_result"
    }
   ],
   "source": [
    "vfy2(R, tau, a, pi)"
   ]
  },
  {
   "cell_type": "code",
   "execution_count": 152,
   "id": "detected-brooks",
   "metadata": {},
   "outputs": [
    {
     "data": {
      "text/plain": [
       "True"
      ]
     },
     "execution_count": 152,
     "metadata": {},
     "output_type": "execute_result"
    }
   ],
   "source": [
    "qap.verify(*qap.proof(x, a))"
   ]
  },
  {
   "cell_type": "markdown",
   "id": "working-balloon",
   "metadata": {},
   "source": [
    "## Proof"
   ]
  },
  {
   "cell_type": "markdown",
   "id": "offensive-testament",
   "metadata": {},
   "source": [
    "For $Vry$ phase:\n",
    "\n",
    "$$\n",
    "[A]_1 \\circ [B]_2 = [\\alpha]_1 \\circ [\\beta]_2 + \\sum_{i=0}^l a_i \\left[ \\frac{\\beta u_i(x) + \\alpha v_i(x) + w_i(x)}{\\gamma} \\right]_1 \\circ [\\gamma]_2 + [C]_1 \\circ [\\delta]_2\n",
    "$$"
   ]
  },
  {
   "cell_type": "markdown",
   "id": "iraqi-trout",
   "metadata": {},
   "source": [
    "\\begin{aligned}\n",
    "A &= \\alpha + \\sum_{i=0}^m a_i u_i(x) + r\\delta \\\\\n",
    "&= \\alpha + A_{qap}(x) + r\\delta\n",
    "\\end{aligned}\n",
    "\n"
   ]
  },
  {
   "cell_type": "code",
   "execution_count": 168,
   "id": "confidential-pastor",
   "metadata": {},
   "outputs": [],
   "source": [
    "A_1, C_1, B_2 = prov(R, tau, sigma, a, r, s)\n",
    "alpha, beta, delta, gamma, x = tau"
   ]
  },
  {
   "cell_type": "code",
   "execution_count": 172,
   "id": "comparable-dealing",
   "metadata": {},
   "outputs": [],
   "source": [
    "A_qap, B_qap, C_qap, T_qap, H_qap = qap.proof(x, a)"
   ]
  },
  {
   "cell_type": "code",
   "execution_count": 170,
   "id": "lasting-richards",
   "metadata": {},
   "outputs": [
    {
     "data": {
      "text/plain": [
       "True"
      ]
     },
     "execution_count": 170,
     "metadata": {},
     "output_type": "execute_result"
    }
   ],
   "source": [
    "A_1 == R.g @ (A_qap + alpha + r * delta)"
   ]
  },
  {
   "cell_type": "code",
   "execution_count": 171,
   "id": "amazing-apparatus",
   "metadata": {},
   "outputs": [
    {
     "data": {
      "text/plain": [
       "True"
      ]
     },
     "execution_count": 171,
     "metadata": {},
     "output_type": "execute_result"
    }
   ],
   "source": [
    "B_2 == R.h @ (B_qap + beta + s * delta)"
   ]
  },
  {
   "cell_type": "markdown",
   "id": "novel-career",
   "metadata": {},
   "source": [
    "\\begin{aligned}\n",
    "C &= \\frac{\\sum_{i=l+1}^m a_i(\\beta u_i(x) + \\alpha v_i(x) + w_i(x)) + h(x)t(x)}{\\delta} + As + Br - rs\\delta\\\\\n",
    "&= \\frac{1}{\\delta} \\sum_{i=l+1}^m \\left(a_i(\\beta u_i(x) + \\alpha v_i(x) + w_i(x)) + h(x)t(x)\\right) + As + Br - rs\\delta \\\\ \n",
    "&=\\frac{\\beta}{\\delta}\\sum_{i=l+1}^m a_i u_i(x) + \\frac{\\alpha}{\\delta} \\sum_{i=l+1}^m a_i v_i(x) +\\frac{1}{\\delta} \\sum_{i=l+1}^m w(x)t(x)+\n",
    "\\frac{1}{\\delta} \\sum_{i=l+1}^m h(x)t(x) + As + Br - rs \\delta \\\\\n",
    "&=\\frac{\\beta}{\\delta}A_{qap_{l+1, m}}+ \\frac{\\alpha}{\\delta} B_{qap_{l+1, m}} +\n",
    "\\frac{1}{\\delta} H_{qap_{l+1, m}}T_{qap_{l+1, m}} + s\\alpha + sA_{qap}(x) + sr\\delta + r\\beta + B_{qap}(x) + rs\\delta - rs \\delta \\\\\n",
    "&=\\frac{\\beta}{\\delta}A_{qap_{l+1, m}}+ \\frac{\\alpha}{\\delta} B_{qap_{l+1, m}} + \\frac{1}{\\delta} C_{qap_{l+1, m}} +\n",
    "\\frac{1}{\\delta} H_{qap_{l+1, m}}T_{qap_{l+1, m}} + s\\alpha + r\\beta + sA_{qap}(x) + rB_{qap}(x) + sr\\delta\n",
    "\\end{aligned}"
   ]
  },
  {
   "cell_type": "code",
   "execution_count": 175,
   "id": "passing-thing",
   "metadata": {},
   "outputs": [],
   "source": [
    "A_qap_l2m, B_qap_l2m, C_qap_l2m, T_qap_l2m, H_qap_l2m = qap.proof(x, a, R.l, len(a))"
   ]
  },
  {
   "cell_type": "code",
   "execution_count": 176,
   "id": "modified-vanilla",
   "metadata": {},
   "outputs": [],
   "source": [
    "A_qap_02l, B_qap_02l, C_qap_02l, T_qap_02l, H_qap_02l = qap.proof(x, a, 0, R.l)"
   ]
  },
  {
   "cell_type": "code",
   "execution_count": 177,
   "id": "accurate-williams",
   "metadata": {},
   "outputs": [],
   "source": [
    "assert A_qap_l2m + A_qap_02l == A_qap"
   ]
  },
  {
   "cell_type": "code",
   "execution_count": 182,
   "id": "photographic-distinction",
   "metadata": {},
   "outputs": [],
   "source": [
    "A = (A_qap + alpha + r * delta)\n",
    "B = (B_qap + alpha + s * delta)"
   ]
  },
  {
   "cell_type": "code",
   "execution_count": 194,
   "id": "facial-subcommittee",
   "metadata": {},
   "outputs": [],
   "source": [
    "assert R.g @ (beta/delta * A_qap_l2m + alpha/delta * B_qap_l2m + C_qap_l2m / delta + T_qap_l2m * H_qap_l2m / delta + \\\n",
    "s * alpha + r * beta + s * A_qap + r * B_qap + s * r * delta) == C_1"
   ]
  },
  {
   "cell_type": "markdown",
   "id": "accessory-soundtrack",
   "metadata": {},
   "source": [
    "On Proof phase, On RHS\n",
    "\n",
    "\n",
    "\\begin{aligned}\n",
    "Rhs &= [\\alpha]_1 \\circ [\\beta]_2 + \\sum_{i=0}^l a_i \\left[ \\frac{\\beta u_i(x) + \\alpha v_i(x) + w_i(x)}{\\gamma} \\right]_1 \\circ [\\gamma]_2 + [C]_1 \\circ [\\delta]_2\n",
    "\\end{aligned}\n"
   ]
  },
  {
   "cell_type": "markdown",
   "id": "hindu-aberdeen",
   "metadata": {},
   "source": [
    "let $D$ be:\n",
    "\n",
    "\\begin{aligned}\n",
    "D &= \\sum_{i=0}^l a_i \\left[ \\frac{\\beta u_i(x) + \\alpha v_i(x) + w_i(x)}{\\gamma} \\right]_1\\\\\n",
    "&= \\left[ \\frac{\\beta}{\\gamma} A_{qap_{0,l}} + \\frac{\\alpha}{\\gamma} B_{qap_{0,l}} + \\frac{1}{\\gamma}C_{qap{0,l}} \\right]\n",
    "\\end{aligned}\n"
   ]
  },
  {
   "cell_type": "markdown",
   "id": "cleared-kennedy",
   "metadata": {},
   "source": [
    "on LHS\n",
    "\n",
    "\\begin{aligned}\n",
    "LHS &= [A]_1 \\circ [B]_2 \\\\\n",
    "    &= [\\alpha + A_{qap}(x) + r\\delta]_1 \\circ [\\beta + B_{qap}(x) + s\\delta]_2\\\\\n",
    "    & = [\\alpha]_1 \\circ [\\beta]_2 + [A_{qap}(x) + r\\delta]_1 \\circ [B_{qap}(x) + s\\delta]_2\n",
    "\\end{aligned}\n",
    "\n"
   ]
  },
  {
   "cell_type": "code",
   "execution_count": 209,
   "id": "collective-upset",
   "metadata": {},
   "outputs": [
    {
     "data": {
      "text/plain": [
       "True"
      ]
     },
     "execution_count": 209,
     "metadata": {},
     "output_type": "execute_result"
    }
   ],
   "source": [
    "R.e(R.h @ 7, R.g @ 2) == R.e(R.h , R.g @ 14)"
   ]
  },
  {
   "cell_type": "code",
   "execution_count": null,
   "id": "detailed-departure",
   "metadata": {},
   "outputs": [],
   "source": []
  }
 ],
 "metadata": {
  "kernelspec": {
   "display_name": "Python 3",
   "language": "python",
   "name": "python3"
  },
  "language_info": {
   "codemirror_mode": {
    "name": "ipython",
    "version": 3
   },
   "file_extension": ".py",
   "mimetype": "text/x-python",
   "name": "python",
   "nbconvert_exporter": "python",
   "pygments_lexer": "ipython3",
   "version": "3.6.9"
  }
 },
 "nbformat": 4,
 "nbformat_minor": 5
}
