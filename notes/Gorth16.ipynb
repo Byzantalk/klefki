{
 "cells": [
  {
   "cell_type": "markdown",
   "id": "sharp-jewel",
   "metadata": {},
   "source": [
    "Gorth16 in Klefki\n",
    "===================="
   ]
  },
  {
   "cell_type": "markdown",
   "id": "capable-financing",
   "metadata": {},
   "source": [
    "## Bilinear groups"
   ]
  },
  {
   "cell_type": "markdown",
   "id": "intelligent-portland",
   "metadata": {},
   "source": [
    "We will work over bilinear groups $(p,\\mathbb{G}_1,\\mathbb{G}_2,\\mathbb{G}_T,e,g,h)$ with the following properties:\n",
    "\n",
    "* $\\mathbb{G}_1, \\mathbb{G}_2, mathbb{G}_T$ are groups of prime order p\n",
    "\n",
    "* The pairing $e$: $\\mathbb{G}_1x\\mathbb{G}_2 \\rightarrow \\mathbb{G}_T$ is a binlinear map\n",
    "\n",
    "* $g$ is a generator for $\\mathbb{G}_1$, $h$ is a generator for $\\mathbb{G}_2$ and $e(g, h)$ is a generator for $\\mathbb{G}_T$\n",
    "\n",
    "* There are efficient algorithms for computing group operations, evaluating the bilinearmap, deciding membership of the groups, deciding equality of group elements andsampling generators of the groups. We refer to these as the generic group operations."
   ]
  },
  {
   "cell_type": "code",
   "execution_count": 15,
   "id": "based-analyst",
   "metadata": {},
   "outputs": [],
   "source": [
    "from klefki.curves.barreto_naehrig.bn128 import BN128FP as FP, BN128FP2 as FP2, BN128FP12 as FP12, ECGBN128 as ECG\n",
    "from klefki.algebra.utils import randfield"
   ]
  },
  {
   "cell_type": "code",
   "execution_count": 16,
   "id": "confused-mixture",
   "metadata": {},
   "outputs": [],
   "source": [
    "g = ECG.G1\n",
    "h = ECG.G2"
   ]
  },
  {
   "cell_type": "markdown",
   "id": "southwest-semester",
   "metadata": {},
   "source": [
    "We write $[a]_1$ for $g^a$, $[b]_2$ for $h^b$, and $[c]_T$ for $e(g, h)^c$. A vector of group elements will be represented as $[\\mathbf{a}]_i$. We defined dot product as $[\\mathbf{a}]_1 \\circ [\\mathbf{b}]_2 = [\\mathbf{a}\\circ \\mathbf{b}]_T$"
   ]
  },
  {
   "cell_type": "markdown",
   "id": "proper-scale",
   "metadata": {},
   "source": [
    "## NIZK"
   ]
  },
  {
   "cell_type": "markdown",
   "id": "circular-garlic",
   "metadata": {},
   "source": [
    "let $R$ be a relation generator that given a security parameter $λ$ in unary returns a polynomial time decidable binary relation $R$. For pairs $(\\phi, \\omega) \\in R$.\n",
    "\n",
    "For pairs $(\\phi, \\omega) \\ in R$, we call $\\phi$ the statement and $\\omega$ the witness. We defined $R_{\\lambda}$  to be the set of possible relations $R $the relation gen-erator may output given $1^λ$. The relation generator may also output someside information, an auxiliary input $z$, which will be given to the adversary."
   ]
  },
  {
   "cell_type": "markdown",
   "id": "above-liechtenstein",
   "metadata": {},
   "source": [
    "An efficient prover publicly verifiable non-interactive argument for $R$ is a quadruple of probabilistic polynomial algorithms $(Setup,Prove,Vfy,Sim)$ such that\n",
    "\n",
    "* $(\\sigma,\\tau) \\leftarrow Setup(R)$: The setup produces a common reference stringσand a simulationtrapdoorτfor the relationR\n",
    "\n",
    "* $\\pi \\leftarrow Prov(R, \\sigma, \\phi, \\omega)$:The prover algorithm takes as input a common reference string σ and $(φ,w)∈R$ and returns an argument π.\n",
    "\n",
    "* $0/1 \\leftarrow Vfy(R, \\sigma, \\phi, \\pi)$: The  verification  algorithm  takes  as  input  a  common  referencestring σ, a statement φ and an argumentπand returns 0 (reject) or 1 (accept).\n",
    "\n",
    "* $\\pi \\leftarrow Sim(R, \\tau, \\phi)$: The simulator takes as input a simulation trapdoor and statementφand returns an argument π."
   ]
  },
  {
   "cell_type": "markdown",
   "id": "strategic-booking",
   "metadata": {},
   "source": [
    "## QAP"
   ]
  },
  {
   "cell_type": "markdown",
   "id": "public-causing",
   "metadata": {},
   "source": [
    "Given $n$ equations we pick arbitrary distinct $r_1,\\cdots,r_n \\in \\mathbb{F}$ and define\n",
    "$$\n",
    "t(x) = \\prod_{q=1}^n (x - r_q)\n",
    "$$"
   ]
  },
  {
   "cell_type": "markdown",
   "id": "personalized-uncertainty",
   "metadata": {},
   "source": [
    "$$\n",
    "\\sum_{i=0}^m a_i u_i(X) \\circ \\sum_{i=0}^m a_i v_i(X) = \\sum_{i=0}^m a_i w_i(X) + h(X)t(X)\n",
    "$$"
   ]
  },
  {
   "cell_type": "markdown",
   "id": "macro-boutique",
   "metadata": {},
   "source": [
    " we will be working with quadratic arithmetic programsRthat have thefollowing description\n",
    " \n",
    " $$\n",
    " R = (p, \\mathbb{G}_1,\\mathbb{G}_2, \\mathbb{G}_T, e, g, h, l, \\{u_i(X), v_i(X), w_i(X)\\}_{i=0}^n, t(X))\n",
    " $$"
   ]
  },
  {
   "cell_type": "markdown",
   "id": "dietary-invasion",
   "metadata": {},
   "source": [
    "with $|p|=\\lambda$. The realation defineds a field $\\mathbb{Z}_p$ and a language of statement $(a_i,\\cdots, a_l) \\in \\mathbb{Z}_p^l$ and witness $(a_{l+1}, \\cdots, a_m) \\in \\mathbb{Z}_p^{m-l}$ such that with $a_0=1$"
   ]
  },
  {
   "cell_type": "code",
   "execution_count": 17,
   "id": "minor-atmosphere",
   "metadata": {},
   "outputs": [],
   "source": [
    "from collections import namedtuple\n",
    "\n",
    "RationalGenerator = namedtuple(\"RelationGenerator\", [\"F\", \"G1\", \"G2\", \"Gt\", \"e\", \"g\", \"h\", \"l\", \"U\", \"V\", \"W\", \"T\"])"
   ]
  },
  {
   "cell_type": "code",
   "execution_count": 18,
   "id": "treated-coupon",
   "metadata": {},
   "outputs": [],
   "source": [
    "from klefki.zkp.r1cs import R1CS\n",
    "from klefki.zkp.qap import QAP\n"
   ]
  },
  {
   "cell_type": "code",
   "execution_count": 19,
   "id": "consolidated-selection",
   "metadata": {},
   "outputs": [],
   "source": [
    "@R1CS.r1cs(FP)\n",
    "def f(x, k, c):\n",
    "    y = x + c + k\n",
    "    return y ** 3\n"
   ]
  },
  {
   "cell_type": "code",
   "execution_count": 20,
   "id": "acquired-mechanism",
   "metadata": {},
   "outputs": [],
   "source": [
    "qap = QAP(f.A, f.B, f.C)\n",
    "U, V, W, T = qap.qap\n",
    "a = f.witness(FP(89), FP(8), FP(8))"
   ]
  },
  {
   "cell_type": "code",
   "execution_count": 21,
   "id": "broadband-turner",
   "metadata": {},
   "outputs": [],
   "source": [
    "R = RationalGenerator(FP, ECG, ECG, ECG, ECG.e, ECG.G1, ECG.G2, 3, U, V, W, T)"
   ]
  },
  {
   "cell_type": "markdown",
   "id": "working-implement",
   "metadata": {},
   "source": [
    "## $(\\sigma,\\tau) \\leftarrow Setup(R)$:"
   ]
  },
  {
   "cell_type": "markdown",
   "id": "sixth-annex",
   "metadata": {},
   "source": [
    "Pick $\\alpha, \\beta, \\gamma, \\delta, x \\leftarrow \\mathbb{Z}_P^*$, Define $\\tau = (\\alpha, \\beta, \\gamma, \\delta, x)$ and compute $\\sigma = ([\\mathbf{\\sigma_1}]_1, [\\mathbf{\\sigma_2}]_2$ where"
   ]
  },
  {
   "cell_type": "markdown",
   "id": "marked-documentary",
   "metadata": {},
   "source": [
    "$$\n",
    "(\\mathbf{\\sigma}_1, \\mathbf{\\sigma}_2) = \\left( \\left(\\begin{split}\n",
    "\\alpha, \\beta, \\delta, \\{x^i\\}_{i=0}^{n-1},\n",
    "\\left\\{\\frac{\\beta u_i(x) + \\alpha v_i (x) + w_i (x)}{\\gamma} \\right\\}_{i=0}^l \\\\\n",
    "\\left\\{ \\frac{\\beta u_i (x) + \\alpha v_i(x) + w_i(x)}{\\delta} \\right\\}_{i=l+1}^m,\n",
    "\\left\\{\\frac{x^i t(x)}{\\delta} \\right \\}_{i=0}^{n-2}\n",
    "\\end{split}\\right) , \\left(\\beta, \\gamma, \\delta, \\{x^i\\}^{n-1}_{i=0} \\right)\n",
    "\\right)\n",
    "$$"
   ]
  },
  {
   "cell_type": "code",
   "execution_count": 22,
   "id": "amino-range",
   "metadata": {},
   "outputs": [],
   "source": [
    "from typing import Iterable, Tuple, Type\n",
    "from operator import add\n",
    "from functools import reduce\n",
    "\n",
    "def setup(R, n) -> Tuple[Iterable, Tuple[R.G1, R.G2]]:\n",
    "    tau = alpha, beta, delta, gamma, x = \\\n",
    "        randfield(R.F), randfield(R.F), randfield(R.F), randfield(R.F), randfield(R.F)\n",
    "    n = R.U[0].degree\n",
    "    sigma_1 = [alpha, beta, delta] + \\\n",
    "              [x ** i for i in range(0, n-1)] + \\\n",
    "              [(R.U[i](x) * beta + R.V[i](x) * alpha + R.W[i](x)) / gamma  for i in range(0, R.l)] + \\\n",
    "              [(R.U[i](x) * beta + R.V[i](x) * alpha + R.W[i](x)) / delta  for i in range(R.l + 1, len(R.U))] + \\\n",
    "              [(x ** i * R.T(x)) / delta for i in range(0, n-2)]\n",
    "    \n",
    "    sigma_2 = [beta, gamma, delta] + \\\n",
    "              [x**i for i in (0, n-1)]\n",
    "    \n",
    "    sigma = ([R.g @ s for s in sigma_1], [R.h @ s for s in sigma_2])\n",
    "    return tau, sigma"
   ]
  },
  {
   "cell_type": "code",
   "execution_count": 23,
   "id": "strategic-superior",
   "metadata": {},
   "outputs": [],
   "source": [
    "tau, sigma = setup(R, 3)"
   ]
  },
  {
   "cell_type": "markdown",
   "id": "opposite-homeless",
   "metadata": {},
   "source": [
    "## $\\pi \\leftarrow Prov(R, \\tau, \\sigma, a_1, \\cdots, a_m)$"
   ]
  },
  {
   "cell_type": "markdown",
   "id": "radical-alabama",
   "metadata": {},
   "source": [
    "Pick $r, s \\leftarrow \\mathbb{Z}_p$ and compute $\\pi = ([A]_1, [C]_1, [B]_2$ where"
   ]
  },
  {
   "cell_type": "markdown",
   "id": "banned-offset",
   "metadata": {},
   "source": [
    "$$\n",
    "A = \\alpha + \\sum_{i=0}^m a_i u_i(x) + r\\delta\n",
    "$$\n",
    "\n",
    "$$\n",
    "B = \\beta + \\sum_{i=0}^m a_i v_i(x) + s\\delta\n",
    "$$\n",
    "\n",
    "$$\n",
    "C = \\frac{\\sum_{i=l+1}^m a_i(\\beta u_i(x) + \\alpha v_i(x) + w_i(x)) + h(x)t(x)}{\\delta} + As + Br - rs\\delta\n",
    "$$"
   ]
  },
  {
   "cell_type": "code",
   "execution_count": 24,
   "id": "strategic-intention",
   "metadata": {},
   "outputs": [],
   "source": [
    "H = qap.H(a)"
   ]
  },
  {
   "cell_type": "code",
   "execution_count": 25,
   "id": "seeing-reducing",
   "metadata": {},
   "outputs": [],
   "source": [
    "def prov(R, tau, sigma, a) -> Tuple[R.G1, R.G1, R.G2]:\n",
    "    r, s = randfield(R.F), randfield(R.F)\n",
    "    alpha, beta, delta, gamma, x = tau\n",
    "    m = len(a)\n",
    "    A = alpha + reduce(add, [a[i] * (R.U[i](x)) for i in range(0, m)]) + r * delta\n",
    "    B = beta + reduce(add, [a[i] * (R.V[i](x)) for i in range(0, m)]) + s * delta\n",
    "    C = (reduce(add, [a[i]*(beta * R.U[i](x) + alpha * R.V[i](x) + R.W[i](x)) for i in range(R.l + 1, m)]) + H(x) * R.T(x)) / ~delta \\\n",
    "        + (A * s + B * r - r * s * delta)\n",
    "    return (R.g @ A, R.g @ C, R.h @ B)\n",
    "    \n",
    "    \n",
    "\n",
    "    "
   ]
  },
  {
   "cell_type": "code",
   "execution_count": 26,
   "id": "mechanical-serve",
   "metadata": {},
   "outputs": [
    {
     "data": {
      "text/plain": [
       "(ECGBN128::(BN128FP::18516648705834430349939177579536019654324296679099543941908707472729509911126, BN128FP::17698670626348665920227842489245758548471684407485634495490912829277994864858),\n",
       " ECGBN128::(BN128FP::8488791507382916376996280129956285730041643084428968020606257167760402216404, BN128FP::4082680017939613116097175823429222055736854009148188310405390025884468064986),\n",
       " ECGBN128::(BN128FP2::[BN128FP::4633278075369866772831604094151143656179576404021857223005441199765708572437, BN128FP::6462225141696652563619115122425856136710130657871571271798221292817136010061], BN128FP2::[BN128FP::1694515370192953786638105026398607108129046797030149208530707508305574614357, BN128FP::4110349820884174906704555092802266024988418670442760401126407706931213959511]))"
      ]
     },
     "execution_count": 26,
     "metadata": {},
     "output_type": "execute_result"
    }
   ],
   "source": [
    "pi = prov(R, tau, sigma, a)\n",
    "pi"
   ]
  },
  {
   "cell_type": "markdown",
   "id": "amber-excerpt",
   "metadata": {},
   "source": [
    "## $0/1 \\leftarrow Vfy(R, \\tau, a_1, \\cdots, a_l, \\pi)$"
   ]
  },
  {
   "cell_type": "markdown",
   "id": "empirical-priest",
   "metadata": {},
   "source": [
    "Parse $\\pi = ([A]_1, [C]_1, [B]_2 \\in G_1^2 x G_2$. Accept the proof iff:"
   ]
  },
  {
   "cell_type": "markdown",
   "id": "expected-workplace",
   "metadata": {},
   "source": [
    "$$\n",
    "[A]_1 \\circ [B]_2 = [\\alpha]_1 \\circ [\\beta]_2 + \\sum_{i=0}^l a_i \\left[ \\frac{\\beta u_i(x) + \\alpha v_i(x) + w_i(x)}{\\gamma} \\right]_1 \\circ [\\gamma]_2 + [C]_1 \\circ [\\delta]_2\n",
    "$$"
   ]
  },
  {
   "cell_type": "code",
   "execution_count": 27,
   "id": "accepting-clarity",
   "metadata": {},
   "outputs": [],
   "source": [
    "def vfy(R, tau, a, pi):\n",
    "    alpha, beta, delta, gamma, x = tau\n",
    "    A_1, C_1, B_2 = pi\n",
    "    lhs = R.e(A_1, B_2)\n",
    "    rhs = R.e(R.g @ alpha, R.h @ beta) + \\\n",
    "        reduce(add, \n",
    "            [\n",
    "                R.e(\n",
    "                    R.g @ ((beta * R.U[i](x) + alpha * R.V[i](x) + R.W[i](x)) / gamma),\n",
    "                    R.h @ gamma\n",
    "                ) * a[i]\n",
    "                for i in range(0, R.l)\n",
    "            ]\n",
    "        ) + \\\n",
    "        R.e(C_1, R.h @ delta)\n",
    "    return lhs == rhs"
   ]
  },
  {
   "cell_type": "code",
   "execution_count": 28,
   "id": "compound-supplement",
   "metadata": {},
   "outputs": [
    {
     "data": {
      "text/plain": [
       "False"
      ]
     },
     "execution_count": 28,
     "metadata": {},
     "output_type": "execute_result"
    }
   ],
   "source": [
    "vfy(R, tau, a[:R.l], pi)"
   ]
  },
  {
   "cell_type": "code",
   "execution_count": null,
   "id": "adjustable-conducting",
   "metadata": {},
   "outputs": [],
   "source": []
  },
  {
   "cell_type": "code",
   "execution_count": null,
   "id": "noted-isaac",
   "metadata": {},
   "outputs": [],
   "source": []
  }
 ],
 "metadata": {
  "kernelspec": {
   "display_name": "Python 3",
   "language": "python",
   "name": "python3"
  },
  "language_info": {
   "codemirror_mode": {
    "name": "ipython",
    "version": 3
   },
   "file_extension": ".py",
   "mimetype": "text/x-python",
   "name": "python",
   "nbconvert_exporter": "python",
   "pygments_lexer": "ipython3",
   "version": "3.6.9"
  }
 },
 "nbformat": 4,
 "nbformat_minor": 5
}
