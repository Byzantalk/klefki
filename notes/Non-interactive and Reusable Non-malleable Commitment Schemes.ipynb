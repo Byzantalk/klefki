{
 "cells": [
  {
   "cell_type": "markdown",
   "metadata": {},
   "source": [
    "Non-interactive and Reusable Non-malleable Commitment Schemes\n",
    "==============================="
   ]
  },
  {
   "cell_type": "markdown",
   "metadata": {},
   "source": [
    "## I Common reference string model\n",
    "\n",
    "In cryptography, the common reference string (CRS) model captures the assumption that a trusted setup in which all involved parties get access to the same string crs taken from some distribution D exists. Schemes proven secure in the CRS model are secure given that the setup was performed correctly. The common reference string model is a generalization of the common random string model, in which D is the uniform distribution of bit strings. As stated in, the CRS model is equivalent to the reference string model  and the public parameters model."
   ]
  },
  {
   "cell_type": "markdown",
   "metadata": {},
   "source": [
    "## II Framework"
   ]
  },
  {
   "cell_type": "markdown",
   "metadata": {},
   "source": [
    "### Honest Sender Commitment\n",
    "\n",
    "We introduce the notion of honest sender commitments. This covers a special type of commitment scheme with a weak binding property, it is not a real commitment scheme. When speaking of an honest sender commitment scheme, we do not require the commitment scheme to be binding. Instead, we only demand that it is binding whenever a commitment has been formed by an honest sender, i.e., when it has been formed according to the protocol."
   ]
  },
  {
   "cell_type": "markdown",
   "metadata": {},
   "source": [
    "### $\\Sigma$-protocol for the Signature Scheme"
   ]
  },
  {
   "cell_type": "markdown",
   "metadata": {},
   "source": [
    "A Σ-protocol for relation R is a special type of a 3-move honest veriﬁer zero-knowledge proof. It is a protocol for two parties, the prover $P$ and the veriﬁer $V$ . $P$ gets as input $(x, w) ∈ R$, $V$ gets as input $x$, and the goal is for $P$ to convince $V$ that he knows $w$ such that $(x, w) ∈ R$, without revealing information about $w$. We require that it be done using a protocol of the following form: $P$ ﬁrst computes and sends a message a to $V$ . Then $V$ returns a random challenge $m$ of length $k$ bits and $P$ sends a response $z$ to $V$ . Finally, $V$ outputs accept or reject. Besides the protocol being of this form,"
   ]
  },
  {
   "cell_type": "markdown",
   "metadata": {},
   "source": [
    "* Completeness:\n",
    "\n",
    "If $(x, w) ∈ R$, then the veriﬁer accepts with overwhelming probability.\n",
    "\n",
    "* Special soundness:\n",
    "\n",
    "There exists an algorithm, which given $x$, and two accepting conversations $(a, m, z)$ and $(a, m' , z')$, where $m \\neq m'$ , outputs $w$ such that $(x, w) ∈ R$.\n",
    "\n",
    "* Special honest veriﬁer zero-knowledge:\n",
    "\n",
    "There exists an algorithm, the honest veriﬁer simulator S, which given instance x (where there exists w such that $(x, w) ∈ R)$ and any challenge m generates $(a, m, z) ← S(x, m)$ such that $(x, a, m, z)$ is computationally indistinguishable from a successful conversation where m occurs as challenge."
   ]
  },
  {
   "cell_type": "markdown",
   "metadata": {},
   "source": [
    "### Message Authentication Code"
   ]
  },
  {
   "cell_type": "markdown",
   "metadata": {},
   "source": [
    "A message authentication code is used for checking the integrity of messages. It consists of an algorithm MAC that takes as input an authentication key $ak$ and some message. On basis of this one can compute a message authentication code $mac$. Given a message and a mac for this message, anybody who knows $ak$ can check whether they ﬁt together. However, without ak it is hard to compute correct message authentication codes."
   ]
  },
  {
   "cell_type": "markdown",
   "metadata": {},
   "source": [
    "In our case, we need to authenticate the initial message of the Σ-protocol for the signature scheme. If we assume such an initial message has at most length k' , then we can do all operations in $GF(2k' )$. We pick at random two elements $r_1 , r_2 ∈ GF(2k' )$. The authentication key will be $ak = (r_1 , r_2)$. When given $a$ we then compute $mac = r_1 a + r_2$ . Clearly, anybody knowing ak can verify this. However, without ak, one only has a negligible chance of computing such a message authentication code correctly."
   ]
  },
  {
   "cell_type": "markdown",
   "metadata": {},
   "source": [
    "## III Commitment"
   ]
  },
  {
   "cell_type": "markdown",
   "metadata": {},
   "source": [
    "To commit to a message $m ∈ M_pk$ we choose at random a randomizer $r$. We give $m, r$ as input to commit $pk$ . The resulting output is $(c, d) = commit_{pk} (m; r)$, where $c$ belongs to $C_{pk}$ , while $d$ is the decommitment information needed to open the commitment. Typically $d = (m, r)$."
   ]
  },
  {
   "cell_type": "markdown",
   "metadata": {},
   "source": [
    "To open a message the sender sends $d$ to the receiver. The receiver computes decommit $pk (c, d)$. When the commitment is constructed as above the output of this computation is m. If something is wrong, $e.g., c \\notin C_pk$ or $d$ is not a valid opening of the commitment; the output of the decommitment algorithm is $\\bot$."
   ]
  },
  {
   "cell_type": "markdown",
   "metadata": {},
   "source": [
    "### Equivocable Commitment\n",
    "\n",
    "Equivocable commitment schemes are a special type of commitment schemes where we can generate the public key in a special way getting some equivo- cation information about the public key. This extra information, the equivo- cation key, allows us to violate the binding property. With it we are able to generate commitments that we can open as containing any message we wish, without the adversary being able to notice the deceit.\n",
    "\n",
    "\n",
    "### Non-malleable Commitment\n",
    "\n",
    "\n",
    "Non-malleability is a security notion concerned with man-in-the-middle at- tacks. With respect to commitments, the intuition is that the execution of some commitment protocols should not aﬀect the execution of other commit- ment protocols. We capture this in a notion of non-malleability where the adversary does not get an advantage from having access to the execution of commitment protocols compared with the case where the adversary has no such access. In the latter case, we simply let the adversary specify the mes- sages rather than ﬁrst forming commitments and then opening them later on."
   ]
  },
  {
   "cell_type": "markdown",
   "metadata": {},
   "source": [
    "## III A Non-malleable Commitment Scheme"
   ]
  },
  {
   "cell_type": "markdown",
   "metadata": {},
   "source": [
    "### Key Generation:"
   ]
  },
  {
   "cell_type": "markdown",
   "metadata": {},
   "source": [
    "We choose a key $pk$ for a statistically hiding honest sender commitment scheme. Then we generate a public key $vk$ for the signature scheme. We select a universal one-way hash function $h : C_{pk} \\rightarrow A_{vk}$.\n",
    "\n",
    "The signature scheme must be known message attack secure with the message distribution given as hashes of honest sender commitments with side information that is openings of the honest sender commit- ments.\n",
    "\n",
    "The public key is \n",
    "\n",
    "$$\n",
    "PK = (pk, vk, h)\n",
    "$$"
   ]
  },
  {
   "cell_type": "markdown",
   "metadata": {},
   "source": [
    "-------------------"
   ]
  },
  {
   "cell_type": "code",
   "execution_count": 1,
   "metadata": {},
   "outputs": [],
   "source": [
    "from klefki.types.algebra.concrete import EllipticCurveCyclicSubgroupSecp256k1 as ECC\n",
    "from klefki.types.algebra.concrete import EllipticCurveGroupSecp256k1 as Cruve\n",
    "from klefki.types.algebra.concrete import FiniteFieldCyclicSecp256k1 as CF\n",
    "from klefki.types.algebra.concrete import FiniteFieldSecp256k1 as F\n",
    "from klefki.types.algebra.utils import randfield\n",
    "from klefki.bitcoin.address import gen_address"
   ]
  },
  {
   "cell_type": "code",
   "execution_count": 2,
   "metadata": {},
   "outputs": [],
   "source": [
    "pk = randfield(CF)\n",
    "vk = ECC.G ** pk\n",
    "h = gen_address\n",
    "PK = (pk, vk, h)"
   ]
  },
  {
   "cell_type": "markdown",
   "metadata": {},
   "source": [
    "### Commitment:"
   ]
  },
  {
   "cell_type": "markdown",
   "metadata": {},
   "source": [
    "To commit to a $k$-bit message m we choose a key $ak$ for the message authentication scheme. We set $(c, d) = HScommit_{pk}(ak)$, and compute $α = h(c)$. Now we simulate a proof of knowledge of a signature on $\\alpha$ with challenge $m$. We set $(a, m, z) = S((vk, α), m)$. Finally, we compute $mac = MAC_{ak} (a)$.\n",
    "\n",
    "The commitment to $m$ is $C = (c, a, mac)$, while the decommitment information is $D = (m, d, z)$."
   ]
  },
  {
   "cell_type": "code",
   "execution_count": 3,
   "metadata": {},
   "outputs": [],
   "source": [
    "from klefki.zkp.pedersen import com as commit\n",
    "from klefki.utils import to_sha256int\n",
    "from functools import partial\n",
    "\n",
    "G = ECC.G\n",
    "H = Cruve.lift_x(CF(to_sha256int(\"hello NIRNCS\")))\n",
    "com = partial(commit, H=H, G=G)"
   ]
  },
  {
   "cell_type": "code",
   "execution_count": 4,
   "metadata": {},
   "outputs": [],
   "source": [
    "ak = randfield(CF)\n",
    "c, d = (G ** pk, G ** ak), (pk, ak)"
   ]
  },
  {
   "cell_type": "code",
   "execution_count": 5,
   "metadata": {},
   "outputs": [],
   "source": [
    "# Now we simulate a proof of knowledge of a signature on 𝛼 with challenge 𝑚\n",
    "m = randfield(CF)\n",
    "r2 = to_sha256int(gen_address(c[0] + c[1]))\n",
    "a = G ** r2"
   ]
  },
  {
   "cell_type": "code",
   "execution_count": 6,
   "metadata": {},
   "outputs": [],
   "source": [
    "z = ak + m * pk"
   ]
  },
  {
   "cell_type": "code",
   "execution_count": 7,
   "metadata": {},
   "outputs": [],
   "source": [
    "# Finally, we compute 𝑚𝑎𝑐=𝑀𝐴𝐶𝑎𝑘(𝑎).\n",
    "\n",
    "import hmac\n",
    "from klefki.bitcoin.public import encode_pubkey\n",
    "from klefki.utils import int_to_byte\n",
    "mac = hmac.new(str(ak.value).encode(), encode_pubkey(a).encode()).hexdigest()"
   ]
  },
  {
   "cell_type": "code",
   "execution_count": 8,
   "metadata": {},
   "outputs": [],
   "source": [
    "C = (c, a, mac)\n",
    "D = (m, d , z)"
   ]
  },
  {
   "cell_type": "markdown",
   "metadata": {},
   "source": [
    "### Decommitment:"
   ]
  },
  {
   "cell_type": "markdown",
   "metadata": {},
   "source": [
    "We open the honest sender commitment to get the authentication key. We compute $\\alpha$ as above. We verify the message authentication code. Finally, we verify the proof. If everything goes well we output $m$. Otherwise, we output $⊥$."
   ]
  },
  {
   "cell_type": "code",
   "execution_count": 9,
   "metadata": {},
   "outputs": [
    {
     "data": {
      "text/plain": [
       "True"
      ]
     },
     "execution_count": 9,
     "metadata": {},
     "output_type": "execute_result"
    }
   ],
   "source": [
    "G ** z == c[1] + c[0] ** m"
   ]
  },
  {
   "cell_type": "code",
   "execution_count": 10,
   "metadata": {},
   "outputs": [
    {
     "data": {
      "text/plain": [
       "True"
      ]
     },
     "execution_count": 10,
     "metadata": {},
     "output_type": "execute_result"
    }
   ],
   "source": [
    "G @ to_sha256int(gen_address(c[0]+c[1]))  == a"
   ]
  },
  {
   "cell_type": "code",
   "execution_count": 11,
   "metadata": {},
   "outputs": [
    {
     "data": {
      "text/plain": [
       "True"
      ]
     },
     "execution_count": 11,
     "metadata": {},
     "output_type": "execute_result"
    }
   ],
   "source": [
    "mac == hmac.new(str(d[1].value).encode(), encode_pubkey(a).encode()).hexdigest()"
   ]
  },
  {
   "cell_type": "markdown",
   "metadata": {},
   "source": [
    "## Implementation in Klefki"
   ]
  },
  {
   "cell_type": "code",
   "execution_count": 12,
   "metadata": {},
   "outputs": [],
   "source": [
    "from klefki.zkp import gorth03 as g\n",
    "G = ECC.G\n",
    "H = Cruve.lift_x(CF(to_sha256int(\"hello NIRNCS\")))\n",
    "\n",
    "\n",
    "key = g.keygen(CF)\n",
    "ak = randfield(CF)"
   ]
  },
  {
   "cell_type": "code",
   "execution_count": 13,
   "metadata": {},
   "outputs": [],
   "source": [
    "pk, vk, h = key"
   ]
  },
  {
   "cell_type": "code",
   "execution_count": 14,
   "metadata": {},
   "outputs": [],
   "source": [
    "c = g.commitment(CF(to_sha256int(\"hello klefki\")), key, ak)"
   ]
  },
  {
   "cell_type": "code",
   "execution_count": 15,
   "metadata": {},
   "outputs": [
    {
     "data": {
      "text/plain": [
       "True"
      ]
     },
     "execution_count": 15,
     "metadata": {},
     "output_type": "execute_result"
    }
   ],
   "source": [
    "g.decommitment(c) == CF(to_sha256int(\"hello klefki\"))"
   ]
  },
  {
   "cell_type": "markdown",
   "metadata": {},
   "source": [
    "## Ref:\n",
    "\n",
    "* I. Damg˚ard, J. Groth. Non-interactive and reusable non-malleable commitment schemes. Proc. of 35 th ACM Symp. on Theory of Computing (STOC’03), pp.426- 437, 2003.\n",
    "\n",
    "* Common reference string model https://en.wikipedia.org/wiki/Common_reference_string_model"
   ]
  },
  {
   "cell_type": "code",
   "execution_count": null,
   "metadata": {},
   "outputs": [],
   "source": []
  }
 ],
 "metadata": {
  "kernelspec": {
   "display_name": "Python 3",
   "language": "python",
   "name": "python3"
  },
  "language_info": {
   "codemirror_mode": {
    "name": "ipython",
    "version": 3
   },
   "file_extension": ".py",
   "mimetype": "text/x-python",
   "name": "python",
   "nbconvert_exporter": "python",
   "pygments_lexer": "ipython3",
   "version": "3.7.3"
  }
 },
 "nbformat": 4,
 "nbformat_minor": 2
}
