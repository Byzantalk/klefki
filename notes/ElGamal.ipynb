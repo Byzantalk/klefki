{
 "cells": [
  {
   "cell_type": "markdown",
   "metadata": {},
   "source": [
    "ElGamal\n",
    "==============="
   ]
  },
  {
   "cell_type": "markdown",
   "metadata": {},
   "source": [
    "## Diffie-Hellman key distribution scheme"
   ]
  },
  {
   "cell_type": "markdown",
   "metadata": {},
   "source": [
    "IN 1975, Diffie and Hellman introduced the concept of public key cryptography.\n",
    "\n",
    "Suppose that $A$ and $B$ want to share a secret $K_{AB}$ , where A has a secret $x_A$ and $B$ has a secret $x_B$ . Let $p$ be a large prime and $\\alpha$ be a **primitive element** mod $p$, both known. computes $y \\equiv \\alpha^{x_a} \\mod p$ , and sends $y_A$ . Similarly, $B$ computes $y_B \\equiv \\alpha^{x_B} \\mod p$ and sends $y_B$ . Then the secret $K_{AB}$ is computed as:\n",
    "\n",
    "\\begin{align}\n",
    "K_{AB} &\\equiv \\alpha^{x_ax_B} \\mod p\\\\\n",
    "&\\equiv y_A^{x_B} \\mod p\\\\\n",
    "&\\equiv y_B^{x_A} \\mod p\n",
    "\\end{align}\n",
    "\n",
    "In any of the cryptographic systems based on discrete logarithms, p must be chosen such that $p - 1$ has at least one large prime factor. If $p - 1$ has only small prime factors, then computing discrete logarithms is easy"
   ]
  },
  {
   "cell_type": "code",
   "execution_count": 1,
   "metadata": {},
   "outputs": [],
   "source": [
    "from klefki.numbers.primes import generate_prime\n",
    "from klefki.types.algebra.meta import field\n",
    "from klefki.types.algebra.utils import randfield\n",
    "from math import gcd"
   ]
  },
  {
   "cell_type": "code",
   "execution_count": 2,
   "metadata": {},
   "outputs": [],
   "source": [
    "p = generate_prime(32)\n",
    "F = field(p)\n",
    "mF = field(p-1)\n",
    "G = F(generate_prime(32))"
   ]
  },
  {
   "cell_type": "code",
   "execution_count": 3,
   "metadata": {},
   "outputs": [
    {
     "data": {
      "text/plain": [
       "True"
      ]
     },
     "execution_count": 3,
     "metadata": {},
     "output_type": "execute_result"
    }
   ],
   "source": [
    "xa, xb = randfield(F).value, randfield(F).value\n",
    "ya, yb = G ** xa, G ** xb\n",
    "G ** (xa * xb) == ya ** xb == yb ** xa"
   ]
  },
  {
   "cell_type": "markdown",
   "metadata": {},
   "source": [
    "## Classic ElGamal"
   ]
  },
  {
   "cell_type": "markdown",
   "metadata": {},
   "source": [
    "Let m be a document to be signed, where $0 \\le m \\ge p - 1$. The public file still consists of the public key $y \\equiv x \\mod p$ for each user."
   ]
  },
  {
   "cell_type": "markdown",
   "metadata": {},
   "source": [
    "To sign a document, a user $A$ should be able to use the secret key $x_A$ to find a signature for $m$ in such a way that all users can verify the authenticity of the signature by using the public key $y_A$ (together with $\\alpha$ and $p$), and no one can forge a signature without knowing the secret $x_A$ ."
   ]
  },
  {
   "cell_type": "markdown",
   "metadata": {},
   "source": [
    "The signature for $m$ is the pair $(r, s), 0 \\le r, s < p - 1$, chosen such that the equation\n",
    "\n",
    "$$\n",
    "\\alpha^m \\equiv y^r r^s \\mod p\n",
    "$$\n",
    "\n",
    "is satisfied."
   ]
  },
  {
   "cell_type": "code",
   "execution_count": 4,
   "metadata": {},
   "outputs": [],
   "source": [
    "m = randfield(F).value\n",
    "alpha = G\n",
    "x = xa\n",
    "y = ya"
   ]
  },
  {
   "cell_type": "markdown",
   "metadata": {},
   "source": [
    "* The Signing Procedure"
   ]
  },
  {
   "cell_type": "markdown",
   "metadata": {},
   "source": [
    "The signing procedure consists of the following three steps.\n",
    "\n",
    "1) Choose a random number $k$, uniformly between $0$ and $p - 1$, such that $gcd(k, p - 1) = 1$.\n",
    "\n",
    "2) Compute\n",
    "\n",
    "$$\n",
    "r \\equiv \\alpha^k \\mod p\\\\\n",
    "\\alpha^m \\equiv \\alpha^{xr}\\alpha^{ks} \\mod p\n",
    "$$\n",
    "\n",
    "which can be solved for $s$ by using\n",
    "\n",
    "$$\n",
    "m \\equiv xr + ks \\mod (p-1)\n",
    "$$\n",
    "\n",
    "Above Equation as a solution for $s$ if $k$ is chosen such that $gcd(k, p - 1) = 1$."
   ]
  },
  {
   "cell_type": "code",
   "execution_count": 5,
   "metadata": {},
   "outputs": [],
   "source": [
    "k = generate_prime(32)\n",
    "assert gcd(k, p-1) == 1"
   ]
  },
  {
   "cell_type": "code",
   "execution_count": 6,
   "metadata": {},
   "outputs": [],
   "source": [
    "from klefki.numbers import invmod\n",
    "r = (alpha ** k).value\n",
    "s = ((mF(m) - mF(r) * mF(x)) * ~mF(k)).value\n"
   ]
  },
  {
   "cell_type": "code",
   "execution_count": 7,
   "metadata": {},
   "outputs": [],
   "source": [
    "assert pow(alpha, m) ==  pow(alpha, (x * r + k * s))"
   ]
  },
  {
   "cell_type": "markdown",
   "metadata": {},
   "source": [
    "* The Verification Procedure\n",
    "\n",
    "Given $m, r$, an $s$, it is easy to verify the authenticity of the signature by computing both sides of $\\alpha^m \\equiv y^r r^s \\mod p$ and checking that they are equal."
   ]
  },
  {
   "cell_type": "code",
   "execution_count": 8,
   "metadata": {},
   "outputs": [
    {
     "data": {
      "text/plain": [
       "True"
      ]
     },
     "execution_count": 8,
     "metadata": {},
     "output_type": "execute_result"
    }
   ],
   "source": [
    "alpha ** m == y ** r * F(r) ** s"
   ]
  },
  {
   "cell_type": "markdown",
   "metadata": {},
   "source": [
    "## ElGamal over Cyclic Group"
   ]
  },
  {
   "cell_type": "code",
   "execution_count": 10,
   "metadata": {},
   "outputs": [],
   "source": [
    "from klefki.types.algebra.concrete import EllipticCurveCyclicSubgroupSecp256k1 as Curve\n",
    "from klefki.types.algebra.meta import field"
   ]
  },
  {
   "cell_type": "markdown",
   "metadata": {},
   "source": [
    "* Key generation\n",
    "\n",
    "The first party, Alice, generates a key pair as follows:\n",
    "\n",
    "* Generate an efficient description of a cyclic group $G$, of order $q$  with generator $g$. Let $e$ represent the unit element of $G$.\n",
    "\n",
    "* Choose an integer $x\\leftarrow Z_q$\n",
    "\n",
    "* Compute $h:=G^x$\n",
    "\n",
    "* he public key consists of the values $( G , q , g , h )$. Alice publishes this public key and retains $x$ as her private key, which must be kept secret."
   ]
  },
  {
   "cell_type": "code",
   "execution_count": 14,
   "metadata": {},
   "outputs": [],
   "source": [
    "G = Curve.G\n",
    "F = field(G.N)\n",
    "x = randfield(F).value\n",
    "h = G ** x\n"
   ]
  },
  {
   "cell_type": "markdown",
   "metadata": {},
   "source": [
    "* Encryption"
   ]
  },
  {
   "cell_type": "markdown",
   "metadata": {},
   "source": [
    "A second party, Bob, encrypts a message $M$ to Alice under her public key $( G , q , g , h )$  as follows: "
   ]
  },
  {
   "cell_type": "markdown",
   "metadata": {},
   "source": [
    "* Map the message $M$ to an element $m$ of $G$ using a reversible mapping function.\n",
    "\n",
    "* Choose an integer $y$ randomly from $\\{ 1 , … , q − 1 \\}$ \n",
    "\n",
    "* Compute $s := h^y$. This is called the shared secret.\n",
    "\n",
    "* Compute $c_1 := g^y$\n",
    "\n",
    "* Compute $c_2 := m \\cdot s$\n",
    "\n",
    "Bob sends the ciphertext $( c_1 , c_2 )$ to Alice."
   ]
  },
  {
   "cell_type": "code",
   "execution_count": 20,
   "metadata": {},
   "outputs": [],
   "source": [
    "y = randfield(F).value\n",
    "M = randfield(F)\n",
    "m = Curve.lift_x(M)\n",
    "s = h ** y\n",
    "c1 = G ** y\n",
    "c1 = s * m"
   ]
  },
  {
   "cell_type": "markdown",
   "metadata": {},
   "source": [
    "* Decryption"
   ]
  },
  {
   "cell_type": "markdown",
   "metadata": {},
   "source": [
    "Alice decrypts a ciphertext $c_1, c_2$ with her private key $x $ as follows: "
   ]
  },
  {
   "cell_type": "markdown",
   "metadata": {},
   "source": [
    "* Compute $s := c_1^x$.\n",
    "\n",
    "* Compute $s^{-1}$\n",
    "\n",
    "* Compute $m:=c_2\\cdot s^{-1}$\n"
   ]
  },
  {
   "cell_type": "markdown",
   "metadata": {},
   "source": [
    "## Ref:\n",
    "    \n",
    "   * T. ElGamal. A Public Key Cryptosystem and a Signature Scheme Based on Discrete Logarithms. IEEE Trans. Info. Theory, IT 31:469–472, 1985.\n",
    "    \n",
    "   * ElGamal encryption https://en.wikipedia.org/wiki/ElGamal_encryption\n",
    "    \n",
    "   * [1] Primitive element (finite field) https://en.wikipedia.org/wiki/Primitive_element_(finite_field)"
   ]
  },
  {
   "cell_type": "code",
   "execution_count": null,
   "metadata": {},
   "outputs": [],
   "source": []
  }
 ],
 "metadata": {
  "kernelspec": {
   "display_name": "Python 3",
   "language": "python",
   "name": "python3"
  },
  "language_info": {
   "codemirror_mode": {
    "name": "ipython",
    "version": 3
   },
   "file_extension": ".py",
   "mimetype": "text/x-python",
   "name": "python",
   "nbconvert_exporter": "python",
   "pygments_lexer": "ipython3",
   "version": "3.7.3"
  }
 },
 "nbformat": 4,
 "nbformat_minor": 2
}
