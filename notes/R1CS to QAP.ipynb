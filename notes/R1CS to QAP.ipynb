{
 "cells": [
  {
   "cell_type": "markdown",
   "metadata": {},
   "source": [
    "R1CS to QAP\n",
    "============="
   ]
  },
  {
   "cell_type": "code",
   "execution_count": 3,
   "metadata": {},
   "outputs": [
    {
     "name": "stdout",
     "output_type": "stream",
     "text": [
      "The autoreload extension is already loaded. To reload it, use:\n",
      "  %reload_ext autoreload\n"
     ]
    }
   ],
   "source": [
    "%load_ext autoreload\n",
    "%autoreload 2"
   ]
  },
  {
   "cell_type": "markdown",
   "metadata": {},
   "source": [
    "## Example"
   ]
  },
  {
   "cell_type": "code",
   "execution_count": 31,
   "metadata": {},
   "outputs": [],
   "source": [
    "# ref: https://medium.com/@VitalikButerin/quadratic-arithmetic-programs-from-zero-to-hero-f6d558cea649\n",
    "\n",
    "from functools import partial\n",
    "from klefki.zkp.r1cs import R1CS, mul\n",
    "from klefki.zkp.qap import R1CS2QAP, transfer, QAP\n",
    "from klefki.curves.barreto_naehrig.bn128 import BN128FP as F\n",
    "from klefki.algebra.rings import PolyRing\n",
    "import ast\n",
    "\n"
   ]
  },
  {
   "cell_type": "code",
   "execution_count": 11,
   "metadata": {},
   "outputs": [],
   "source": [
    "# map int to field\n",
    "ciphers = [1,2,3,4,5,6,7,8,9]\n",
    "times = 5\n",
    "\n",
    "@R1CS.r1cs(F)\n",
    "def f(x, k, c):\n",
    "    y = x + c + k\n",
    "    return y ** 3\n",
    "\n",
    "@R1CS.r1cs(F, globals())\n",
    "def mimc(x, k):\n",
    "    for i in range(times):\n",
    "        c = ciphers[i]\n",
    "        x = f(x, k, c)\n",
    "    return x + k"
   ]
  },
  {
   "cell_type": "code",
   "execution_count": 12,
   "metadata": {},
   "outputs": [
    {
     "data": {
      "text/plain": [
       "[['+', 'Sym::0', 'x', 'c'],\n",
       " ['+', 'y', 'Sym::0', 'k'],\n",
       " ['*', 'Sym::1', 'y', 'y'],\n",
       " ['*', '~out', 'Sym::1', 'y']]"
      ]
     },
     "execution_count": 12,
     "metadata": {},
     "output_type": "execute_result"
    }
   ],
   "source": [
    "f.flatcode"
   ]
  },
  {
   "cell_type": "code",
   "execution_count": 13,
   "metadata": {},
   "outputs": [
    {
     "data": {
      "text/plain": [
       "[['set', 'c', 1],\n",
       " ['+', 'Local<Rc(0)>Sym::0', 0, 2],\n",
       " ['+', 'Local<Rc(0)>y', 'Local<Rc(0)>Sym::0', 1],\n",
       " ['*', 'Local<Rc(0)>Sym::1', 'Local<Rc(0)>y', 'Local<Rc(0)>y'],\n",
       " ['*', 'x::0', 'Local<Rc(0)>Sym::1', 'Local<Rc(0)>y'],\n",
       " ['set', 'c::1', 2],\n",
       " ['+', 'Local<Rc(1)>Sym::0', 0, 2],\n",
       " ['+', 'Local<Rc(1)>y', 'Local<Rc(1)>Sym::0', 1],\n",
       " ['*', 'Local<Rc(1)>Sym::1', 'Local<Rc(1)>y', 'Local<Rc(1)>y'],\n",
       " ['*', 'x::2', 'Local<Rc(1)>Sym::1', 'Local<Rc(1)>y'],\n",
       " ['set', 'c::3', 3],\n",
       " ['+', 'Local<Rc(2)>Sym::0', 0, 2],\n",
       " ['+', 'Local<Rc(2)>y', 'Local<Rc(2)>Sym::0', 1],\n",
       " ['*', 'Local<Rc(2)>Sym::1', 'Local<Rc(2)>y', 'Local<Rc(2)>y'],\n",
       " ['*', 'x::4', 'Local<Rc(2)>Sym::1', 'Local<Rc(2)>y'],\n",
       " ['set', 'c::5', 4],\n",
       " ['+', 'Local<Rc(3)>Sym::0', 0, 2],\n",
       " ['+', 'Local<Rc(3)>y', 'Local<Rc(3)>Sym::0', 1],\n",
       " ['*', 'Local<Rc(3)>Sym::1', 'Local<Rc(3)>y', 'Local<Rc(3)>y'],\n",
       " ['*', 'x::6', 'Local<Rc(3)>Sym::1', 'Local<Rc(3)>y'],\n",
       " ['set', 'c::7', 5],\n",
       " ['+', 'Local<Rc(4)>Sym::0', 0, 2],\n",
       " ['+', 'Local<Rc(4)>y', 'Local<Rc(4)>Sym::0', 1],\n",
       " ['*', 'Local<Rc(4)>Sym::1', 'Local<Rc(4)>y', 'Local<Rc(4)>y'],\n",
       " ['*', 'x::8', 'Local<Rc(4)>Sym::1', 'Local<Rc(4)>y'],\n",
       " ['+', '~out', 'x::8', 'k']]"
      ]
     },
     "execution_count": 13,
     "metadata": {},
     "output_type": "execute_result"
    }
   ],
   "source": [
    "mimc.flatcode"
   ]
  },
  {
   "cell_type": "markdown",
   "metadata": {},
   "source": [
    "The format of a flatcode line is:\n",
    "\n",
    "$$\n",
    "\\left[Op, Out, S_a, S_b\\right]\n",
    "$$"
   ]
  },
  {
   "cell_type": "code",
   "execution_count": 14,
   "metadata": {},
   "outputs": [
    {
     "data": {
      "text/plain": [
       "['~one',\n",
       " 'x',\n",
       " 'k',\n",
       " '~out',\n",
       " 'c',\n",
       " 'Local<Rc(0)>Sym::0',\n",
       " 'Local<Rc(0)>y',\n",
       " 'Local<Rc(0)>Sym::1',\n",
       " 'x::0',\n",
       " 'c::1',\n",
       " 'Local<Rc(1)>Sym::0',\n",
       " 'Local<Rc(1)>y',\n",
       " 'Local<Rc(1)>Sym::1',\n",
       " 'x::2',\n",
       " 'c::3',\n",
       " 'Local<Rc(2)>Sym::0',\n",
       " 'Local<Rc(2)>y',\n",
       " 'Local<Rc(2)>Sym::1',\n",
       " 'x::4',\n",
       " 'c::5',\n",
       " 'Local<Rc(3)>Sym::0',\n",
       " 'Local<Rc(3)>y',\n",
       " 'Local<Rc(3)>Sym::1',\n",
       " 'x::6',\n",
       " 'c::7',\n",
       " 'Local<Rc(4)>Sym::0',\n",
       " 'Local<Rc(4)>y',\n",
       " 'Local<Rc(4)>Sym::1',\n",
       " 'x::8']"
      ]
     },
     "execution_count": 14,
     "metadata": {},
     "output_type": "execute_result"
    }
   ],
   "source": [
    "mimc.var"
   ]
  },
  {
   "cell_type": "markdown",
   "metadata": {},
   "source": [
    "The format of variable is\n",
    "\n",
    "$$\n",
    "[One, Input_0, \\cdots, Input_n, Output, S_0, S_1, \\cdots, S_n]\n",
    "$$\n"
   ]
  },
  {
   "cell_type": "code",
   "execution_count": 15,
   "metadata": {},
   "outputs": [],
   "source": [
    "assert len(mimc.A[0]) == len(mimc.var)"
   ]
  },
  {
   "cell_type": "markdown",
   "metadata": {},
   "source": [
    "For each line of flatcodes, we have $A_i.s \\circ B_i.s == C_i.s$"
   ]
  },
  {
   "cell_type": "code",
   "execution_count": 16,
   "metadata": {},
   "outputs": [
    {
     "data": {
      "text/plain": [
       "[BN128FP::1,\n",
       " BN128FP::2,\n",
       " BN128FP::0,\n",
       " BN128FP::27,\n",
       " BN128FP::1,\n",
       " BN128FP::2,\n",
       " BN128FP::3,\n",
       " BN128FP::9,\n",
       " BN128FP::27,\n",
       " BN128FP::2,\n",
       " BN128FP::2,\n",
       " BN128FP::3,\n",
       " BN128FP::9,\n",
       " BN128FP::27,\n",
       " BN128FP::3,\n",
       " BN128FP::2,\n",
       " BN128FP::3,\n",
       " BN128FP::9,\n",
       " BN128FP::27,\n",
       " BN128FP::4,\n",
       " BN128FP::2,\n",
       " BN128FP::3,\n",
       " BN128FP::9,\n",
       " BN128FP::27,\n",
       " BN128FP::5,\n",
       " BN128FP::2,\n",
       " BN128FP::3,\n",
       " BN128FP::9,\n",
       " BN128FP::27]"
      ]
     },
     "execution_count": 16,
     "metadata": {},
     "output_type": "execute_result"
    }
   ],
   "source": [
    "s = mimc.witness(F(2))\n",
    "s"
   ]
  },
  {
   "cell_type": "code",
   "execution_count": 17,
   "metadata": {},
   "outputs": [
    {
     "data": {
      "text/plain": [
       "True"
      ]
     },
     "execution_count": 17,
     "metadata": {},
     "output_type": "execute_result"
    }
   ],
   "source": [
    "sum(mul(mimc.A[0], s)) * sum(mul(mimc.B[0], s)) == sum(mul(mimc.C[0], s))"
   ]
  },
  {
   "cell_type": "markdown",
   "metadata": {},
   "source": [
    "## Gen QAP\n"
   ]
  },
  {
   "cell_type": "code",
   "execution_count": 47,
   "metadata": {},
   "outputs": [],
   "source": [
    "A, B, C = mimc.r1cs"
   ]
  },
  {
   "cell_type": "code",
   "execution_count": 48,
   "metadata": {},
   "outputs": [],
   "source": [
    "qap = QAP(A, B, C)"
   ]
  },
  {
   "cell_type": "code",
   "execution_count": 49,
   "metadata": {},
   "outputs": [
    {
     "data": {
      "text/plain": [
       "[BN128FP::1,\n",
       " BN128FP::42,\n",
       " BN128FP::0,\n",
       " BN128FP::27,\n",
       " BN128FP::1,\n",
       " BN128FP::2,\n",
       " BN128FP::3,\n",
       " BN128FP::9,\n",
       " BN128FP::27,\n",
       " BN128FP::2,\n",
       " BN128FP::2,\n",
       " BN128FP::3,\n",
       " BN128FP::9,\n",
       " BN128FP::27,\n",
       " BN128FP::3,\n",
       " BN128FP::2,\n",
       " BN128FP::3,\n",
       " BN128FP::9,\n",
       " BN128FP::27,\n",
       " BN128FP::4,\n",
       " BN128FP::2,\n",
       " BN128FP::3,\n",
       " BN128FP::9,\n",
       " BN128FP::27,\n",
       " BN128FP::5,\n",
       " BN128FP::2,\n",
       " BN128FP::3,\n",
       " BN128FP::9,\n",
       " BN128FP::27]"
      ]
     },
     "execution_count": 49,
     "metadata": {},
     "output_type": "execute_result"
    }
   ],
   "source": [
    "w = mimc.witness(F(42))\n",
    "w"
   ]
  },
  {
   "cell_type": "code",
   "execution_count": 58,
   "metadata": {},
   "outputs": [],
   "source": [
    "assert qap.verify(*qap.proof(F(112221), w))"
   ]
  },
  {
   "cell_type": "markdown",
   "metadata": {},
   "source": [
    "## PGHR13"
   ]
  },
  {
   "cell_type": "code",
   "execution_count": 59,
   "metadata": {},
   "outputs": [],
   "source": [
    "from klefki.curves.barreto_naehrig import bn128\n",
    "from klefki.algebra.utils import randfield\n",
    "from operator import add\n",
    "from functools import reduce\n",
    "\n",
    "A, B, C, Z = R1CS2QAP(*r1cs, F(42), field=F)\n",
    "ECG = bn128.ECGBN128\n",
    "G1 = bn128.ECGBN128.G1\n",
    "G2 = bn128.ECGBN128.G2\n",
    "e = bn128.ECGBN128.e\n"
   ]
  },
  {
   "cell_type": "code",
   "execution_count": 60,
   "metadata": {},
   "outputs": [],
   "source": [
    "class PGHR13:\n",
    "    def __init__(self, F, G):\n",
    "        \"\"\"\n",
    "        Setup toxic:  t, k_a, k_b and k_c\n",
    "    \n",
    "        \"\"\"\n",
    "        self.G = G\n",
    "        self.F = F\n",
    "        self.k_a = randfield(F)\n",
    "        self.k_b = randfield(F)\n",
    "        self.k_c = randfield(F)\n",
    "        \n",
    "    @property\n",
    "    def toxic(self):\n",
    "        return (self.t, self.k_a, self.k_b, self.k_c)\n",
    "    \n",
    "    def setup(self, A, B, C, H, Z):\n",
    "        self.pi_a = reduce(add, [self.G@a for a in A])\n",
    "        self.pi_a_ = self.pi_a @ self.k_a\n",
    "        \n",
    "        self.pi_b = reduce(add, [self.G@b for b in B])\n",
    "        self.pi_b_ = self.pi_b @ self.k_b\n",
    "        \n",
    "        self.pi_c = reduce(add, [self.G@c for c in C])\n",
    "        self.pi_c_ = self.pi_c @ self.k_c\n",
    "        \n",
    "        self.pi_h = self.G @ H\n",
    "        self.pi_z = self.G @ Z\n",
    "        \n",
    "    @property\n",
    "    def pi(self):\n",
    "        return (self.pi_a, self.pi_b, self.pi_c)\n",
    "    \n",
    "    def check(self):\n",
    "        return G.e(self.pi_a, self.pi_b) / G.e(self.pi_c, self.G) == G.e(self.pi_h, self.pi_z)"
   ]
  }
 ],
 "metadata": {
  "kernelspec": {
   "display_name": "Python 3",
   "language": "python",
   "name": "python3"
  },
  "language_info": {
   "codemirror_mode": {
    "name": "ipython",
    "version": 3
   },
   "file_extension": ".py",
   "mimetype": "text/x-python",
   "name": "python",
   "nbconvert_exporter": "python",
   "pygments_lexer": "ipython3",
   "version": "3.6.9"
  }
 },
 "nbformat": 4,
 "nbformat_minor": 4
}
