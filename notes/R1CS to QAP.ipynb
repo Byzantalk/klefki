{
 "cells": [
  {
   "cell_type": "markdown",
   "metadata": {},
   "source": [
    "R1CS to QAP to ZKSnark\n",
    "============="
   ]
  },
  {
   "cell_type": "code",
   "execution_count": 6,
   "metadata": {},
   "outputs": [],
   "source": [
    "# ref: https://medium.com/@VitalikButerin/quadratic-arithmetic-programs-from-zero-to-hero-f6d558cea649\n",
    "\n",
    "from functools import partial\n",
    "from klefki.zkp.r1cs import R1CS\n",
    "from klefki.zkp.qap import R1CS2QAP, proof, verify\n",
    "from klefki.curves.secp256k1 import FiniteFieldCyclicSecp256k1 as F\n",
    "import ast\n"
   ]
  },
  {
   "cell_type": "markdown",
   "metadata": {},
   "source": [
    "## Gen R1CS"
   ]
  },
  {
   "cell_type": "code",
   "execution_count": 7,
   "metadata": {},
   "outputs": [],
   "source": [
    "@partial(R1CS.r1cs, field=F)\n",
    "def f(x):\n",
    "    y = x*x\n",
    "    return y - 4"
   ]
  },
  {
   "cell_type": "code",
   "execution_count": 8,
   "metadata": {},
   "outputs": [
    {
     "data": {
      "text/plain": [
       "([[FiniteFieldCyclicSecp256k1::0,\n",
       "   FiniteFieldCyclicSecp256k1::1,\n",
       "   FiniteFieldCyclicSecp256k1::0,\n",
       "   FiniteFieldCyclicSecp256k1::0],\n",
       "  [FiniteFieldCyclicSecp256k1::115792089237316195423570985008687907852837564279074904382605163141518161494333,\n",
       "   FiniteFieldCyclicSecp256k1::0,\n",
       "   FiniteFieldCyclicSecp256k1::0,\n",
       "   FiniteFieldCyclicSecp256k1::1]],\n",
       " [[FiniteFieldCyclicSecp256k1::0,\n",
       "   FiniteFieldCyclicSecp256k1::1,\n",
       "   FiniteFieldCyclicSecp256k1::0,\n",
       "   FiniteFieldCyclicSecp256k1::0],\n",
       "  [1,\n",
       "   FiniteFieldCyclicSecp256k1::0,\n",
       "   FiniteFieldCyclicSecp256k1::0,\n",
       "   FiniteFieldCyclicSecp256k1::0]],\n",
       " [[FiniteFieldCyclicSecp256k1::0,\n",
       "   FiniteFieldCyclicSecp256k1::0,\n",
       "   FiniteFieldCyclicSecp256k1::0,\n",
       "   FiniteFieldCyclicSecp256k1::1],\n",
       "  [FiniteFieldCyclicSecp256k1::0,\n",
       "   FiniteFieldCyclicSecp256k1::0,\n",
       "   FiniteFieldCyclicSecp256k1::1,\n",
       "   FiniteFieldCyclicSecp256k1::0]])"
      ]
     },
     "execution_count": 8,
     "metadata": {},
     "output_type": "execute_result"
    }
   ],
   "source": [
    "r1cs = f.r1cs\n",
    "r1cs"
   ]
  },
  {
   "cell_type": "code",
   "execution_count": 9,
   "metadata": {},
   "outputs": [],
   "source": [
    "QAP = R1CS2QAP(*r1cs, F(1234567890), field=F)\n",
    "A, B, C, Z = QAP"
   ]
  },
  {
   "cell_type": "code",
   "execution_count": 12,
   "metadata": {},
   "outputs": [],
   "source": [
    "s, H = proof(f.witness(3), A, B, C, Z, field=F)"
   ]
  },
  {
   "cell_type": "code",
   "execution_count": 13,
   "metadata": {},
   "outputs": [
    {
     "data": {
      "text/plain": [
       "True"
      ]
     },
     "execution_count": 13,
     "metadata": {},
     "output_type": "execute_result"
    }
   ],
   "source": [
    "verify(s, A, B, C, Z, H)"
   ]
  },
  {
   "cell_type": "code",
   "execution_count": 14,
   "metadata": {},
   "outputs": [
    {
     "data": {
      "text/plain": [
       "([FiniteFieldCyclicSecp256k1::115792089237316195423570985008687907852837564279074904382605163141513223222781,\n",
       "  FiniteFieldCyclicSecp256k1::115792089237316195423570985008687907852837564279074904382605163141516926926449,\n",
       "  FiniteFieldCyclicSecp256k1::0,\n",
       "  FiniteFieldCyclicSecp256k1::1234567889],\n",
       " [FiniteFieldCyclicSecp256k1::1234567889,\n",
       "  FiniteFieldCyclicSecp256k1::115792089237316195423570985008687907852837564279074904382605163141516926926449,\n",
       "  FiniteFieldCyclicSecp256k1::0,\n",
       "  FiniteFieldCyclicSecp256k1::0],\n",
       " [FiniteFieldCyclicSecp256k1::0,\n",
       "  FiniteFieldCyclicSecp256k1::0,\n",
       "  FiniteFieldCyclicSecp256k1::1234567889,\n",
       "  FiniteFieldCyclicSecp256k1::115792089237316195423570985008687907852837564279074904382605163141516926926449],\n",
       " FiniteFieldCyclicSecp256k1::1524157871315348432,\n",
       " FiniteFieldCyclicSecp256k1::115792089237316195423570985008687907852837564279074904382605163141518161494333)"
      ]
     },
     "execution_count": 14,
     "metadata": {},
     "output_type": "execute_result"
    }
   ],
   "source": [
    "A, B, C, Z, H"
   ]
  },
  {
   "cell_type": "markdown",
   "metadata": {},
   "source": [
    "## An inner product proof"
   ]
  },
  {
   "cell_type": "markdown",
   "metadata": {},
   "source": [
    "In Groth’s paper, he presents the core algorithm, which probably- not-coincidentally is also the core of Bulletproofs. The inner product proof here uses all the same elements as we’ve discussed above, although in a slightly more complicated structure."
   ]
  },
  {
   "cell_type": "markdown",
   "metadata": {},
   "source": [
    "**It starts by assuming that the Prover has two vectors $x$ and $y$, and obviously knows the inner product of those, which we’ll now call $z$.**"
   ]
  },
  {
   "cell_type": "markdown",
   "metadata": {},
   "source": [
    "$$\n",
    "C_z=tH+zG\\\\\n",
    "C_x=rH+\\mathbf{xG}\\\\\n",
    "C_y=sH+\\mathbf{yG}\n",
    "$$"
   ]
  },
  {
   "cell_type": "markdown",
   "metadata": {},
   "source": [
    "### 1. The commitment step"
   ]
  },
  {
   "cell_type": "markdown",
   "metadata": {},
   "source": [
    "Analogous to the $R$ value of above two, The Prover $P$ will need to send commitments to two nonce vectors ($\\mathbf{x, y}$).\n",
    "\n",
    "These nonce vectors will be called $\\mathbf{d}_x, \\mathbf{d}y$.\n",
    "\n",
    "Instead of sending $\\mathbf{d}_x , \\mathbf{d}_y$ , the Prover will instead send Pedersen commitments to them:"
   ]
  },
  {
   "cell_type": "code",
   "execution_count": 25,
   "metadata": {},
   "outputs": [],
   "source": [
    "from klefki.curves.secp256k1 import (\n",
    "    EllipticCurveGroupSecp256k1 as ECG,\n",
    "    FiniteFieldSecp256k1 as F,\n",
    "    FiniteFieldCyclicSecp256k1 as CF\n",
    ")\n",
    "from functools import reduce\n",
    "import random\n",
    "from hashlib import sha256\n",
    "G = ECG.G\n",
    "N = 0xFFFFFFFFFFFFFFFFFFFFFFFFFFFFFFFEBAAEDCE6AF48A03BBFD25E8CD0364141\n",
    "def random_cf() -> CF: return CF(random.randint(1, N) % F.P)"
   ]
  },
  {
   "cell_type": "code",
   "execution_count": 26,
   "metadata": {},
   "outputs": [],
   "source": [
    "m = 10\n",
    "x = [random_cf() for i in range(0, m)]\n",
    "y = [random_cf() for i in range(0, m)]\n",
    "\n",
    "def inner_product(x: [CF], y: [CF]):\n",
    "    return reduce(lambda x, y: x + y, map(lambda x: x[0] * x[1], zip(x, y)))\n",
    "\n",
    "def vgm(a: [CF]) -> [ECG]:\n",
    "    return reduce(lambda x,y: x+y,\n",
    "                  list(map(lambda a: a[0] @ a[1], zip(Gs, a))))\n",
    "\n",
    "def map2curve(x: CF):\n",
    "    return G @ x\n",
    "\n",
    "secret = \"sec\"\n",
    "Gs = list(map(map2curve,\n",
    "              (map(lambda x: int(x, 16), \n",
    "                  (map(lambda x: sha256(x.encode()).hexdigest(), sha256(secret.encode()).hexdigest()))))))\n",
    "\n",
    "\n",
    "z = inner_product(x, y)\n",
    "H = G @ random_cf()\n",
    "\n",
    "t, r, s = random_cf(), random_cf(), random_cf()\n",
    "\n",
    "C_z = H@t + G@z\n",
    "C_x = H@r + vgm(x)\n",
    "C_y = H@s + vgm(y)"
   ]
  },
  {
   "cell_type": "markdown",
   "metadata": {},
   "source": [
    "$$\n",
    "A_d = r_dH + \\mathbf{d}_x\\mathbf{G}\\\\\n",
    "B_d = s_dH + \\mathbf{d}_y\\mathbf{G}\n",
    "$$\n",
    "\n",
    "$r_d , s_d$ will be random values as usual for Pedersen commitments.\n",
    "\n",
    "Just as the ﬁnal Schnorr response is $ex + k$, so here our ﬁnal response(s) are of the form $e\\mathbf{x} + \\mathbf{d}$, more speciﬁcally, one for each: \n",
    "\n",
    "$$\n",
    "e\\mathbf{x} + \\mathbf{d}_x\\\\\n",
    "e\\mathbf{y} + \\mathbf{d}_y\\\\\n",
    "$$"
   ]
  },
  {
   "cell_type": "code",
   "execution_count": 27,
   "metadata": {},
   "outputs": [],
   "source": [
    "dx = [random_cf() for i in range(0, m)]\n",
    "dy = [random_cf() for i in range(0, m)]\n",
    "r_d, s_d = random_cf(), random_cf()\n",
    "\n",
    "A_d = H @ r_d + vgm(dx)\n",
    "B_d = H @ s_d + vgm(dy)"
   ]
  },
  {
   "cell_type": "markdown",
   "metadata": {},
   "source": [
    "However, that’s not enough; we’re trying to prove an inner product, too.\n",
    "\n",
    "What we’ll have to do also in the commitment step is to send a commitment to the expected inner product of this $blinded$ form of our vectors. The blinded form has already been mentioned as $e\\mathbf{x} + \\mathbf{d}_x$ , $e\\mathbf{y} + \\mathbf{d}_y$ , but we don’t yet know the challenge $e$, so we have to factor that out somehow.\n",
    "\n",
    "Now, **$e$ is a linear factor** in each of these terms, so dot-product-ing them$(e\\mathbf{x} + \\mathbf{d}_x)\\cdot(e\\mathbf{y} + \\mathbf{d}_y)$will result in a **quadratic in $e$**, so there will be three coeﬃcients, and we’ll therefore need to provide commitments in advance for each of these three coeﬃcients."
   ]
  },
  {
   "cell_type": "markdown",
   "metadata": {},
   "source": [
    "\\begin{align*}\n",
    "(e\\mathbf{x} + \\mathbf{d}_x)·(e\\mathbf{y} + \\mathbf{d}_y) &= e\\mathbf{x}·(e\\mathbf{y}+\\mathbf{d}_y) + \\mathbf{d}_x·(e\\mathbf{y}+\\mathbf{d}_y) \\\\\n",
    "&= e^2\\mathbf{x} · \\mathbf{y} + e^2(\\mathbf{x} ·\\mathbf{d}_y + \\mathbf{y}· \\mathbf{d}_x) + \\mathbf{d}_x· \\mathbf{d}_y\n",
    "\\end{align*}\n"
   ]
  },
  {
   "cell_type": "markdown",
   "metadata": {},
   "source": [
    "$$\n",
    "C_1 = t_1H + (\\mathbf{x}·\\mathbf{d}_y+\\mathbf{y}·\\mathbf{d}_x)G\\\\\n",
    "C_0 = t_0H+(\\mathbf{d}_x·\\mathbf{d}_y)G\\\\\n",
    "$$\n",
    "\n",
    "Thus we got (Comm stand for Pedersen commitment) :\n",
    "$$\n",
    "Comm((e\\mathbf{x} + \\mathbf{d}_x)\\cdot(e\\mathbf{y} + \\mathbf{d}_y)) = e^2C_z + e^2C_1 + C_0\n",
    "$$"
   ]
  },
  {
   "cell_type": "code",
   "execution_count": 28,
   "metadata": {},
   "outputs": [],
   "source": [
    "t1, t0 = random_cf(), random_cf()\n",
    "\n",
    "C_1 = H@t1 + G@(inner_product(x, dy) + inner_product(y, dx))\n",
    "C_0 = H@t0 + G@inner_product(dx, dy)\n"
   ]
  },
  {
   "cell_type": "markdown",
   "metadata": {},
   "source": [
    "So to do all this in the commitment step, the Prover had to come up with 4 random scalars $r_d$ , $s_d$ , $t_1$ , $t_0$ and two random vectors $\\mathbf{d}_x$ , $\\mathbf{d}_y$ and then send 4 Pedersen commitments using this data: $A_d , B_d , C_1 , C_0$.\n",
    "\n",
    "$$\n",
    "(r_d , s_d , t_1 , t_0, A_d , B_d , C_1 , C_0)\n",
    "$$\n"
   ]
  },
  {
   "cell_type": "markdown",
   "metadata": {},
   "source": [
    "The commitment should be:\n",
    "\n",
    "$$\n",
    "(A_d, B_d, C_1, C_0)\n",
    "$$"
   ]
  },
  {
   "cell_type": "code",
   "execution_count": 29,
   "metadata": {},
   "outputs": [
    {
     "data": {
      "text/plain": [
       "(EllipticCurveGroupSecp256k1::(FiniteFieldSecp256k1::78100612623290373941044921488810286010640623338622508281181082724026593473057, FiniteFieldSecp256k1::91574966464075292231563687747103341520212393470471935652525339766664300861157),\n",
       " EllipticCurveGroupSecp256k1::(FiniteFieldSecp256k1::34823029486988370380003976483881655108446969651844932218585069144705494562263, FiniteFieldSecp256k1::69507886371765581935971103710634349259962840939010852366268005685518481463721),\n",
       " EllipticCurveGroupSecp256k1::(FiniteFieldSecp256k1::15550029510104143004807318233184509112961669378836849124403328836813702348633, FiniteFieldSecp256k1::52390706927545435330235144032895743450310552708515098501467998476538937071),\n",
       " EllipticCurveGroupSecp256k1::(FiniteFieldSecp256k1::59739430043657505602341334361686613251212488478367658910140327528250589378362, FiniteFieldSecp256k1::113065198629723413967373997879787696519259848957691881473208293610955488476358))"
      ]
     },
     "execution_count": 29,
     "metadata": {},
     "output_type": "execute_result"
    }
   ],
   "source": [
    "(A_d, B_d, C_1, C_0)"
   ]
  },
  {
   "cell_type": "markdown",
   "metadata": {},
   "source": [
    "### 2. The challange step\n",
    "\n",
    "Nothing to discuss here – the Veriﬁer simply sends a single scalar value $e$."
   ]
  },
  {
   "cell_type": "code",
   "execution_count": 31,
   "metadata": {},
   "outputs": [],
   "source": [
    "e = random_cf()"
   ]
  },
  {
   "cell_type": "markdown",
   "metadata": {},
   "source": [
    "### 3. The response step"
   ]
  },
  {
   "cell_type": "markdown",
   "metadata": {},
   "source": [
    "The above detailed discussion will hopefully make the following set of data, sent by the Prover, less bewildering:\n",
    "\n",
    "\\begin{align*}\n",
    "\\mathbf{f}_x &= e\\mathbf{x}+\\mathbf{d}_x \\\\\n",
    "\\mathbf{f}_y &= e\\mathbf{y}+\\mathbf{d}_y \\\\\n",
    "r_x&=er+r_d\\\\\n",
    "s_y&=es+s_d\\\\\n",
    "t_z&=e^2t+et_1+t_0\n",
    "\\end{align*}\n",
    "\n",
    "\n"
   ]
  },
  {
   "cell_type": "code",
   "execution_count": 32,
   "metadata": {},
   "outputs": [],
   "source": [
    "fx = [e*x[i] + dx[i] for i in range(0, m)]\n",
    "fy = [e*y[i] + dy[i] for i in range(0, m)]\n",
    "rx = e*r + r_d\n",
    "sy = e*s + s_d\n",
    "tz = (e**2) * t + e * t1 + t0"
   ]
  },
  {
   "cell_type": "markdown",
   "metadata": {},
   "source": [
    "note that here we are sending the blinded forms $f_x , f_y$ of the two vectors, not the Pedersen commitments – the idea is that the Veriﬁer will verify precisely by reconstructing the commitments and checking they match $C_x , C+y$ . Those two checks are:\n",
    "\n",
    "\\begin{align*}\n",
    "eC_x+A_d &\\stackrel{?}{=} r_xH+\\mathbf{f}_x\\mathbf{G}\\\\\n",
    "eC_y+B_d &\\stackrel{?}{=} s_yH+\\mathbf{f}_y\\mathbf{G}\\\\\n",
    "t_zH+ (\\mathbf{f}_x \\cdot \\mathbf{f}_y)G &\\stackrel{?}{=}e^2C_z + eC_1 + C_0\n",
    "\\end{align*}\n",
    "\n"
   ]
  },
  {
   "cell_type": "code",
   "execution_count": 33,
   "metadata": {},
   "outputs": [],
   "source": [
    "assert C_x @ e + A_d == H @ rx + vgm(fx)\n",
    "assert C_y @ e + B_d == H @ sy + vgm(fy)"
   ]
  },
  {
   "cell_type": "code",
   "execution_count": 34,
   "metadata": {},
   "outputs": [],
   "source": [
    "assert H @ tz + G @ inner_product(fx, fy) == C_z @ (e**2) + C_1 @ e + C_0"
   ]
  },
  {
   "cell_type": "code",
   "execution_count": null,
   "metadata": {},
   "outputs": [],
   "source": []
  }
 ],
 "metadata": {
  "kernelspec": {
   "display_name": "Python 3",
   "language": "python",
   "name": "python3"
  },
  "language_info": {
   "codemirror_mode": {
    "name": "ipython",
    "version": 3
   },
   "file_extension": ".py",
   "mimetype": "text/x-python",
   "name": "python",
   "nbconvert_exporter": "python",
   "pygments_lexer": "ipython3",
   "version": "3.8.2"
  }
 },
 "nbformat": 4,
 "nbformat_minor": 4
}
