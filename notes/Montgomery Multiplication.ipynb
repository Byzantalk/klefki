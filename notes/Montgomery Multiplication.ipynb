{
 "cells": [
  {
   "cell_type": "markdown",
   "metadata": {},
   "source": [
    "Montgomery Multiplication\n",
    "=========\n",
    "\n",
    "ref: http://koclab.cs.ucsb.edu/teaching/cs154/docx/Notes7-Montgomery.pdf"
   ]
  },
  {
   "cell_type": "markdown",
   "metadata": {},
   "source": [
    "Let the modulus $n$ be a k-bit integer(i.e. $n \\in [2^{k-1}, 2^k)$, and let $r$ be $2^k$. The Montgomery multiplication algorithm requires that $r$ and $n$ be relatively prime ($gcd(n, r)=1)$ This requirement is satisfed if $n$ is odd."
   ]
  },
  {
   "cell_type": "markdown",
   "metadata": {},
   "source": [
    "we first defined the $n$-residue of an integer $a<n$ as $\\bar{a} = a. r (mod\\ n)$. It is straightforward to show that the set\n",
    "\n",
    "$$\n",
    "{a.r \\mod n | a \\in [0,n-1]}\n",
    "$$\n",
    "\n",
    "is a complete residue system."
   ]
  },
  {
   "cell_type": "markdown",
   "metadata": {},
   "source": [
    "Given two $n$-residues $\\bar{a}$ and $\\bar{b}$, the Montgomery product is defined as the $n$-residue\n",
    "\n",
    "$$\n",
    "\\bar{c} = \\bar{a}.\\bar{b}.r^{-1} (mod\\ n)\n",
    "$$"
   ]
  },
  {
   "cell_type": "markdown",
   "metadata": {},
   "source": [
    "where $r^{-1}$ is the inverse of r modulo $n$, i.e, it is the number with the property $r^{-1}.r=1 (mod\\ n)$"
   ]
  },
  {
   "cell_type": "markdown",
   "metadata": {},
   "source": [
    "\\begin{aligned}\n",
    "\\bar{c}&=\\bar{a}.\\bar{b}.r^{-1} &(mod\\ n)\\\\\n",
    "       &=a.r.b.r.r^{-1} &(mod\\ n)\\\\\n",
    "       &=c.r &(mod\\ n)\n",
    "\\end{aligned}"
   ]
  },
  {
   "cell_type": "code",
   "execution_count": 71,
   "metadata": {},
   "outputs": [],
   "source": [
    "from klefki.curves.secp256k1 import FiniteFieldSecp256k1  as F\n",
    "from klefki.numbers import invmod\n",
    "from math import ceil"
   ]
  },
  {
   "cell_type": "code",
   "execution_count": 72,
   "metadata": {},
   "outputs": [],
   "source": [
    "n = F.P\n",
    "r = 2 ** (n.bit_length() +1)\n",
    "a = 12312312312123123121123123123121313131313123112312323131313131231123123\n",
    "\n",
    "b = 12312318080776531123121231212123131313131231123123333123123123123123\n",
    "assert a < n\n",
    "assert b < n\n",
    "\n",
    "a_ = a * r % n\n",
    "b_ = b * r % n\n",
    "r_inv = invmod(r, n)\n",
    "c_ = a_ * b_ * r_inv % n"
   ]
  },
  {
   "cell_type": "code",
   "execution_count": 73,
   "metadata": {},
   "outputs": [
    {
     "data": {
      "text/plain": [
       "256"
      ]
     },
     "execution_count": 73,
     "metadata": {},
     "output_type": "execute_result"
    }
   ],
   "source": [
    "n.bit_length()"
   ]
  },
  {
   "cell_type": "code",
   "execution_count": 74,
   "metadata": {},
   "outputs": [
    {
     "data": {
      "text/plain": [
       "True"
      ]
     },
     "execution_count": 74,
     "metadata": {},
     "output_type": "execute_result"
    }
   ],
   "source": [
    "a*b*r % n == c_"
   ]
  },
  {
   "cell_type": "markdown",
   "metadata": {},
   "source": [
    "In order to describe the Montgomery reduction algorithm, we need an additional quantity $n'$, which is the  integer with the property \n",
    "\n",
    "$$\n",
    "r.r^{-1}-n.n'\n",
    "$$\n",
    "\n",
    "The integers $r^{-1}$ and $n'$ can both be computed by the extened Euclidean algorithm. \n",
    "\n"
   ]
  },
  {
   "cell_type": "markdown",
   "metadata": {},
   "source": [
    "$n'=(r.r^{-1}-1)/n$"
   ]
  },
  {
   "cell_type": "code",
   "execution_count": 75,
   "metadata": {},
   "outputs": [],
   "source": [
    "n_ = (r * r_inv -1) // n"
   ]
  },
  {
   "cell_type": "code",
   "execution_count": 76,
   "metadata": {},
   "outputs": [],
   "source": [
    "assert r * r_inv % n == 1"
   ]
  },
  {
   "cell_type": "code",
   "execution_count": 77,
   "metadata": {},
   "outputs": [],
   "source": [
    "assert (r*r_inv - n * n_) == 1"
   ]
  },
  {
   "cell_type": "markdown",
   "metadata": {},
   "source": [
    "The computation of MonPro($\\bar{a}, \\bar{b})$ is achieved as follows:"
   ]
  },
  {
   "cell_type": "markdown",
   "metadata": {},
   "source": [
    "*function* MonPro($\\bar{a}, \\bar{b})$\n",
    "\n",
    "Step 1. $t:=\\bar{a}.\\bar{b}$\n",
    "\n",
    "Step 2. $m=t.n'\\ mod \\ r$\n",
    "\n",
    "Step 3. $\\bar{u}:=(t+m.n)/r$\n",
    "\n",
    "Step 4. *if* $\\bar{u}\\ge n$ *then return* $\\bar{u}-n$ *else return* $\\bar{u}$"
   ]
  },
  {
   "cell_type": "code",
   "execution_count": 78,
   "metadata": {},
   "outputs": [],
   "source": [
    "def mon_pro(a_, b_, r, n):\n",
    "    t = a_ * b_\n",
    "    m = (t * n_) % r\n",
    "    u_ = (t + m * n) // r\n",
    "    if u_ >= n:\n",
    "         return u_ - n\n",
    "    else:\n",
    "        return u_"
   ]
  },
  {
   "cell_type": "code",
   "execution_count": 79,
   "metadata": {},
   "outputs": [],
   "source": [
    "assert mon_pro(a_, b_, r, n) == c_"
   ]
  },
  {
   "cell_type": "code",
   "execution_count": 84,
   "metadata": {},
   "outputs": [],
   "source": [
    "def mon_mul(a, b, n):\n",
    "    r = 2 ** (n.bit_length() +1)\n",
    "    a_ = (a * r) % n\n",
    "    b_ = (b * r) % n\n",
    "    u_ = mon_pro(a_, b_, r, n)\n",
    "    return mon_pro(u_, 1, r, n)\n"
   ]
  },
  {
   "cell_type": "code",
   "execution_count": 85,
   "metadata": {},
   "outputs": [],
   "source": [
    "assert mon_mul(a, b, n) == a * b % n"
   ]
  },
  {
   "cell_type": "markdown",
   "metadata": {},
   "source": [
    "## Klefki.algorithms.montgomery_mul"
   ]
  },
  {
   "cell_type": "code",
   "execution_count": 14,
   "metadata": {},
   "outputs": [],
   "source": [
    "import random\n",
    "from time import time\n",
    "from klefki.algorithms import montgomery_mul"
   ]
  },
  {
   "cell_type": "code",
   "execution_count": 15,
   "metadata": {},
   "outputs": [],
   "source": [
    "from klefki.curves.secp256k1 import FiniteFieldSecp256k1  as F\n"
   ]
  },
  {
   "cell_type": "code",
   "execution_count": 59,
   "metadata": {},
   "outputs": [],
   "source": [
    "dataset = [(random.randint(0, F.P), random.randint(0, F.P)) for i in range(1000000)]"
   ]
  },
  {
   "cell_type": "code",
   "execution_count": 60,
   "metadata": {},
   "outputs": [],
   "source": [
    "def banchmark_origin():\n",
    "    start = time()\n",
    "    for (a, b) in dataset:\n",
    "        (a * b) % F.P\n",
    "    end = time()\n",
    "    return end - start"
   ]
  },
  {
   "cell_type": "code",
   "execution_count": 61,
   "metadata": {},
   "outputs": [],
   "source": [
    "def banchmark_klefki():\n",
    "    start = time()\n",
    "    for (a, b) in dataset:\n",
    "        montgomery_mul(a, b, F.P)\n",
    "    end = time()\n",
    "    return end - start"
   ]
  },
  {
   "cell_type": "code",
   "execution_count": 62,
   "metadata": {},
   "outputs": [
    {
     "data": {
      "text/plain": [
       "0.6651461124420166"
      ]
     },
     "execution_count": 62,
     "metadata": {},
     "output_type": "execute_result"
    }
   ],
   "source": [
    "banchmark_origin()"
   ]
  },
  {
   "cell_type": "code",
   "execution_count": 63,
   "metadata": {},
   "outputs": [
    {
     "data": {
      "text/plain": [
       "5.469373941421509"
      ]
     },
     "execution_count": 63,
     "metadata": {},
     "output_type": "execute_result"
    }
   ],
   "source": [
    "banchmark_klefki()"
   ]
  },
  {
   "cell_type": "code",
   "execution_count": null,
   "metadata": {},
   "outputs": [],
   "source": []
  }
 ],
 "metadata": {
  "kernelspec": {
   "display_name": "Python 3",
   "language": "python",
   "name": "python3"
  },
  "language_info": {
   "codemirror_mode": {
    "name": "ipython",
    "version": 3
   },
   "file_extension": ".py",
   "mimetype": "text/x-python",
   "name": "python",
   "nbconvert_exporter": "python",
   "pygments_lexer": "ipython3",
   "version": "3.8.2"
  }
 },
 "nbformat": 4,
 "nbformat_minor": 4
}
