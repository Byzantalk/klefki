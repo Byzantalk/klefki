{
 "cells": [
  {
   "cell_type": "markdown",
   "metadata": {},
   "source": [
    "Damgard-Jurik Scheme of Paillier\n",
    "================"
   ]
  },
  {
   "cell_type": "markdown",
   "metadata": {},
   "source": [
    "## Generalisation"
   ]
  },
  {
   "cell_type": "markdown",
   "metadata": {},
   "source": [
    "The publickey cryptosystem uses computations modulo $n^{s+1}$ where $n$ is an $RSA$ modulus and $s$ is a natural number. It contains **Paillier's scheme** as a special case by setting $s=1$"
   ]
  },
  {
   "cell_type": "markdown",
   "metadata": {},
   "source": [
    "We start from the observation that if $n=pq,p,q$ odd primes, then $Z^*_{n^{s+1}}$ as a multiplicative group is a direct product $G\\times H$, where $G$ ic cyclic of order $n^s$ and $H$ is isomorphic to $Z^*_{n}$, which follows directly from elementary number theory.\n",
    "\n",
    "Thus, the factor group $\\bar{G}=Z*_{n^{s+1}}/H$ is also cyclic of order $n^s$. For an arbitary element $a \\in Z_n^{s+1}$, we let $\\bar{a}  H$ we denote the element represented by $a$ in the factor group $\\bar{G}$."
   ]
  },
  {
   "cell_type": "markdown",
   "metadata": {},
   "source": [
    "* Lemma 1: For any $s< p, q$, the element $n+1$ has order $n^s$ in $Z_n^{s+1}$."
   ]
  },
  {
   "cell_type": "code",
   "execution_count": 1,
   "metadata": {},
   "outputs": [],
   "source": [
    "from klefki.types.algebra.meta import field\n",
    "from klefki.types.algebra.utils import randfield"
   ]
  },
  {
   "cell_type": "code",
   "execution_count": 2,
   "metadata": {},
   "outputs": [],
   "source": [
    "from klefki.numbers.primes import generate_prime\n",
    "\n",
    "k = 32\n",
    "p, q = generate_prime(32), generate_prime(32)\n",
    "s = 9\n",
    "\n",
    "n = p * q\n",
    "j = generate_prime(k)\n",
    "\n",
    "G = field(n**s)\n",
    "MG = field(n ** (s+1))\n",
    "H = field(n)"
   ]
  },
  {
   "cell_type": "markdown",
   "metadata": {},
   "source": [
    "### Key Generation"
   ]
  },
  {
   "cell_type": "markdown",
   "metadata": {},
   "source": [
    "On input the security parameter $k$, choose an $RSA$ modulus $n=pq$ of length $k$ bits. Also choose an element $g\\in Z_n^{s+1}$ such that $g=(1+n)^j$ mod $n^{s+1}$ for a known $j$ relatively prime to $n$ and $x \\in H$.\n",
    "\n",
    "This can be done, $e.g$, by choosing $j, x$ as random first and computing $g$;\n",
    "\n",
    "Let $\\lambda$ be the $lcm$ of $p-1$ and $q-1$. By the Chinese Remainder Theorem, choose $d$ such that $d$ mod $n\\in Z_n$ and $d=0$ mod $\\lambda$. \n",
    "\n",
    "Any such choice of $d$ will work in the following.\n",
    "\n",
    "Now the pubkey is $n, g$ while the secret key is $d$."
   ]
  },
  {
   "cell_type": "code",
   "execution_count": 3,
   "metadata": {},
   "outputs": [],
   "source": [
    "from klefki.numbers.primes import generate_prime\n",
    "from klefki.numbers import lcm\n",
    "from random import randint\n",
    "from math import gcd"
   ]
  },
  {
   "cell_type": "code",
   "execution_count": 4,
   "metadata": {},
   "outputs": [],
   "source": [
    "j = generate_prime(32)\n",
    "assert gcd(j, n) == 1\n",
    "x = MG(randfield(H))\n",
    "g = MG(1 + n) ** j * x"
   ]
  },
  {
   "cell_type": "code",
   "execution_count": 5,
   "metadata": {},
   "outputs": [],
   "source": [
    "lam = lcm(p-1, q-1)\n",
    "LF = field(lam)"
   ]
  },
  {
   "cell_type": "code",
   "execution_count": 6,
   "metadata": {},
   "outputs": [],
   "source": [
    "#d = randint(1, int(n / lam)) * lam\n",
    "d = lam\n",
    "assert d < n\n",
    "assert d % lam == 0\n",
    "\n",
    "pubkey = (n, g)\n",
    "privkey = d"
   ]
  },
  {
   "cell_type": "markdown",
   "metadata": {},
   "source": [
    "### Encryption"
   ]
  },
  {
   "cell_type": "markdown",
   "metadata": {},
   "source": [
    "The paintext set is $Z_{n^s}$. Given a paintext $i$, choose a random $r \\leftarrow Z^*_{n^{s+1}}$, and lte the cipertext be $E(i, r) = g^ir^{n^s} \\mod n^{s+1}$"
   ]
  },
  {
   "cell_type": "code",
   "execution_count": 7,
   "metadata": {},
   "outputs": [],
   "source": [
    "r = randfield(MG)\n",
    "i = randfield(G).value\n",
    "e = lambda i, r: g ** i * r ** (n**s)"
   ]
  },
  {
   "cell_type": "code",
   "execution_count": 8,
   "metadata": {},
   "outputs": [],
   "source": [
    "c = e(i, r)"
   ]
  },
  {
   "cell_type": "markdown",
   "metadata": {},
   "source": [
    "### Decryption"
   ]
  },
  {
   "cell_type": "markdown",
   "metadata": {},
   "source": [
    "Given a ciphertext $c$, first compute $c^d \\mod n^{s+1}$, Clearly, if $c=E(v, r)$, we get\n",
    "\n",
    "\\begin{align}\n",
    "c^d &= (g^i r^{n^s})^d\\\\\n",
    "&=((1+n)^{ij} x^i r^{n^s})^d\\\\\n",
    "&=(1+n)^{jid \\mod n^s}(x^ir^{n^s})^{d \\mod \\lambda}\\\\\n",
    "&=(1+n)^{jid \\mod n^s}\n",
    "\\end{align}\n"
   ]
  },
  {
   "cell_type": "code",
   "execution_count": 9,
   "metadata": {},
   "outputs": [
    {
     "data": {
      "text/plain": [
       "True"
      ]
     },
     "execution_count": 9,
     "metadata": {},
     "output_type": "execute_result"
    }
   ],
   "source": [
    "c ** d ==  (g ** i * r ** (n**s))**d \\\n",
    "       == ((MG(1 + n) ** j * x) ** i * r ** (n**s))**d \\\n",
    "       == (MG(1 + n) ** (j * i) * x ** i * r ** (n**s))**d \\\n",
    "       == MG(1 + n) ** (j * i * d) * (x ** i * r ** (n**s)) ** d"
   ]
  },
  {
   "cell_type": "markdown",
   "metadata": {},
   "source": [
    "## Ref:\n",
    "    \n",
    "    * I. Damg˚ard and M. Jurik. A generalisation, a simpliﬁcation and some applications of paillier’s proba- bilistic public-key system. In Public Key Cryptography, pages 119–136, 2001."
   ]
  },
  {
   "cell_type": "code",
   "execution_count": null,
   "metadata": {},
   "outputs": [],
   "source": []
  }
 ],
 "metadata": {
  "kernelspec": {
   "display_name": "Python 3",
   "language": "python",
   "name": "python3"
  },
  "language_info": {
   "codemirror_mode": {
    "name": "ipython",
    "version": 3
   },
   "file_extension": ".py",
   "mimetype": "text/x-python",
   "name": "python",
   "nbconvert_exporter": "python",
   "pygments_lexer": "ipython3",
   "version": "3.7.3"
  }
 },
 "nbformat": 4,
 "nbformat_minor": 2
}
