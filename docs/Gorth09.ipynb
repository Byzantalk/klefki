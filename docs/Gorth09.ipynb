{
 "cells": [
  {
   "cell_type": "markdown",
   "metadata": {},
   "source": [
    "# Gorth09"
   ]
  },
  {
   "cell_type": "code",
   "execution_count": 1,
   "metadata": {},
   "outputs": [],
   "source": [
    "%load_ext autoreload\n",
    "%autoreload 2 "
   ]
  },
  {
   "cell_type": "code",
   "execution_count": 2,
   "metadata": {},
   "outputs": [],
   "source": [
    "from klefki.types.algebra.concrete import (\n",
    "    EllipticCurveGroupSecp256k1 as ECG,\n",
    "    EllipticCurveCyclicSubgroupSecp256k1 as CG,\n",
    "    FiniteFieldSecp256k1 as F,\n",
    "    FiniteFieldCyclicSecp256k1 as CF\n",
    ")\n",
    "\n",
    "from operator import add\n",
    "G = CG.G\n",
    "\n",
    "import random\n",
    "\n",
    "N = 0xFFFFF\n",
    "random_f = lambda: CF(random.randint(1, N) % CF.P)\n",
    "\n",
    "q = random_f()\n",
    "H = G @ q\n",
    "    \n",
    "Gs = [G @ random_f() for _ in range(0, 256)]"
   ]
  },
  {
   "cell_type": "code",
   "execution_count": 3,
   "metadata": {},
   "outputs": [],
   "source": [
    "rand = lambda: random.randint(1, 100)"
   ]
  },
  {
   "cell_type": "code",
   "execution_count": 255,
   "metadata": {},
   "outputs": [],
   "source": [
    "import numpy as np\n",
    "\n",
    "Mat = np.matrix\n",
    "Hada = lambda x, y: Mat(np.array(x) * np.array(y))"
   ]
  },
  {
   "cell_type": "markdown",
   "metadata": {},
   "source": [
    "## 3 The Schwartz-Zippel Lemma\n",
    "\n"
   ]
  },
  {
   "cell_type": "markdown",
   "metadata": {},
   "source": [
    "* Lemma 1 (Schwartz-Zippel). Let poly be a non-zero multivariate polynomial of degree $d$ over $\\mathbb{Z}_p$ , then the probability of $poly(x_1 ; \\cdots ; x_m ) = 0$ for randomly chosen $x_1 ; \\cdots ; x_m) \\leftarrow \\mathbb{Z}_p$ is at most $d/p$."
   ]
  },
  {
   "cell_type": "markdown",
   "metadata": {},
   "source": [
    "The Schwartz-Zippel lemma is frequently used in polynomial identity testing. Given two multi-variate poly- nomials $poly_1$ and $poly_2$ we can test whether $poly_1 (x_1 ; \\cdots ,x_m )-poly_2 (x_1,\\cdots,x_ m ) = 0$ for random $x_1,\\cdots ,x_m \\leftarrow \\mathbb{Z}_p$ . If the two polynomials are identical this will always be true, whereas if the two polyno- mials are different then there is only probability $max(d_1,d_2 )=p$ for the equality to hold."
   ]
  },
  {
   "cell_type": "markdown",
   "metadata": {},
   "source": [
    "## 4 Equations with Matrices and Vectors"
   ]
  },
  {
   "cell_type": "markdown",
   "metadata": {},
   "source": [
    "We wish to commit to matrices and vectors of elements from $\\mathbb{Z}_p$ and make SHVZK arguments for them satisfying equations commonly arising in linear algebra. We ﬁrst consider the following 6 types of equations over committed matrices $X_i ; Y_i ; Z \\in Mat_{nxn} (\\mathbb{Z}_p )$, committed row vectors $x_i,  y_i ,z \\in \\mathbb{Z}_p^n$ and committed elements $z\\in \\mathbb{Z}_p$ , with public $a^i \\in \\mathbb{Z}_p$ ."
   ]
  },
  {
   "cell_type": "code",
   "execution_count": 399,
   "metadata": {},
   "outputs": [],
   "source": [
    "n = 5\n",
    "m = 10\n",
    "X = [[[random_f() for i in range(n)] for i in range(n)] for _ in range(m)]\n",
    "Y = [[[random_f() for i in range(n)] for i in range(n)] for _ in range(m)]\n",
    "a = [random_f() for _ in range(n*m)]\n",
    "x = lambda e: [i[e] for i in X]\n",
    "y = lambda e: [i[e] for i in Y]"
   ]
  },
  {
   "cell_type": "code",
   "execution_count": 400,
   "metadata": {},
   "outputs": [],
   "source": [
    "from klefki.zkp.pedersen import com\n",
    "from operator import add\n",
    "from functools import reduce"
   ]
  },
  {
   "cell_type": "markdown",
   "metadata": {},
   "source": [
    "$$\n",
    "\\mathbf{z}^\\top = \\sum_{i=1}^m a_iX_i\\mathbf{y}_i^\\top\n",
    "$$\n",
    "\n",
    "$$\n",
    "z=\\sum_{i=1}^m a_i \\mathbf{x}_i \\mathbf{y}_i^\\top\n",
    "$$"
   ]
  },
  {
   "cell_type": "code",
   "execution_count": 402,
   "metadata": {},
   "outputs": [],
   "source": [
    "zs_T = reduce(add, [(Mat(_X) * _a) * Mat(_y).T\n",
    "                    for (_X, _y, _a) in zip(X, y(0), a)])"
   ]
  },
  {
   "cell_type": "code",
   "execution_count": 482,
   "metadata": {},
   "outputs": [],
   "source": [
    "z = lambda e: reduce(add, [(Mat(_x) * _a) * Mat(_y).T \n",
    "                 for (_x, _y, _a) in zip(x(e), y(e), a)]).item()"
   ]
  },
  {
   "cell_type": "code",
   "execution_count": 483,
   "metadata": {},
   "outputs": [
    {
     "data": {
      "text/plain": [
       "True"
      ]
     },
     "execution_count": 483,
     "metadata": {},
     "output_type": "execute_result"
    }
   ],
   "source": [
    "z(0) in zs_T"
   ]
  },
  {
   "cell_type": "code",
   "execution_count": 336,
   "metadata": {},
   "outputs": [
    {
     "data": {
      "text/plain": [
       "[FiniteFieldCyclicSecp256k1::7650178624621212339,\n",
       " FiniteFieldCyclicSecp256k1::6874493472052062519,\n",
       " FiniteFieldCyclicSecp256k1::6909257848906660478,\n",
       " FiniteFieldCyclicSecp256k1::6703128170480367297,\n",
       " FiniteFieldCyclicSecp256k1::6147631864442045779]"
      ]
     },
     "execution_count": 336,
     "metadata": {},
     "output_type": "execute_result"
    }
   ],
   "source": [
    "zs_T.T.tolist()[0]"
   ]
  },
  {
   "cell_type": "code",
   "execution_count": 331,
   "metadata": {},
   "outputs": [
    {
     "data": {
      "text/plain": [
       "[FiniteFieldCyclicSecp256k1::7650178624621212339,\n",
       " FiniteFieldCyclicSecp256k1::7195236569458980910,\n",
       " FiniteFieldCyclicSecp256k1::7378312022077696287,\n",
       " FiniteFieldCyclicSecp256k1::6253098340180404065,\n",
       " FiniteFieldCyclicSecp256k1::6175985997862321447]"
      ]
     },
     "execution_count": 331,
     "metadata": {},
     "output_type": "execute_result"
    }
   ],
   "source": [
    "reduce(add,\n",
    "    [[reduce(add,\n",
    "            [(Mat(_x) * _a) * Mat(_y).T \n",
    "                for (_x, _y, _a) in zip(x(e), y(e), a)]).item()\n",
    "        for e in range(n)]])"
   ]
  },
  {
   "cell_type": "code",
   "execution_count": null,
   "metadata": {},
   "outputs": [],
   "source": []
  },
  {
   "cell_type": "markdown",
   "metadata": {},
   "source": [
    "$$\n",
    "Z=\\sum_{i=1}^m a_i X_iY_i \\\\\n",
    "\\mathbf{z}=\\sum_{i=1}^m a_i \\mathbf{x}_i Y_i \\\\\n",
    "$$"
   ]
  },
  {
   "cell_type": "code",
   "execution_count": 245,
   "metadata": {},
   "outputs": [],
   "source": [
    "Z = reduce(add, [Mat(_X) * _a * Mat(_Y)\n",
    "                 for (_X, _Y, _a) in zip(X, Y, a)])"
   ]
  },
  {
   "cell_type": "code",
   "execution_count": 246,
   "metadata": {},
   "outputs": [],
   "source": [
    "zs = reduce(add, [Mat(_x) * _a * Mat(_Y)\n",
    "                  for (_x, _Y, _a) in zip(x, Y, a)])"
   ]
  },
  {
   "cell_type": "code",
   "execution_count": 247,
   "metadata": {},
   "outputs": [
    {
     "data": {
      "text/plain": [
       "True"
      ]
     },
     "execution_count": 247,
     "metadata": {},
     "output_type": "execute_result"
    }
   ],
   "source": [
    "zs in Z"
   ]
  },
  {
   "cell_type": "markdown",
   "metadata": {},
   "source": [
    "$$\n",
    "Z=\\sum_{i=1}^m a_i X_i \\circ Y_i \\\\\n",
    "\\mathbf{z}=\\sum_{i=1}^m a_i \\mathbf{x}_i \\circ Y_i \\\\\n",
    "$$"
   ]
  },
  {
   "cell_type": "code",
   "execution_count": 261,
   "metadata": {},
   "outputs": [],
   "source": [
    "Z_h = reduce(add, [Hada(Mat(_X), Mat(_Y)) * _a\n",
    "                 for (_X, _Y, _a) in zip(X, Y, a)])"
   ]
  },
  {
   "cell_type": "code",
   "execution_count": 262,
   "metadata": {},
   "outputs": [],
   "source": [
    "zs_h = reduce(add, [Hada(Mat(_x), Mat(_Y)) * _a \n",
    "                  for (_x, _Y, _a) in zip(x, Y, a)])"
   ]
  },
  {
   "cell_type": "code",
   "execution_count": 263,
   "metadata": {},
   "outputs": [
    {
     "data": {
      "text/plain": [
       "True"
      ]
     },
     "execution_count": 263,
     "metadata": {},
     "output_type": "execute_result"
    }
   ],
   "source": [
    "zs_h in Z_h"
   ]
  },
  {
   "cell_type": "markdown",
   "metadata": {},
   "source": [
    "### 4.1 Reducing Many Equations of the Form $z=\\sum_{i=1}^m a_i \\mathbf{x}_i \\mathbf{y}_i^\\top\n",
    "$ to a Single Equation"
   ]
  },
  {
   "cell_type": "markdown",
   "metadata": {},
   "source": [
    "Randomization can be used to reduce $Q$ equations of the form $z=\\sum_{i=1}^{m_q} a_i \\mathbf{x}_{qi} \\mathbf{y}_{qi}^\\top$ to one single equation of the form $z=\\sum_{i=1}^m \\mathbf{x}_i \\mathbf{y}_i^\\top$, where $m=\\sum_{q=1}^Qmq$"
   ]
  },
  {
   "cell_type": "markdown",
   "metadata": {},
   "source": [
    "The verifier selects $(r_1,\\cdots,r_Q)\\leftarrow Van_Q(\\mathbb{Z}_p)$, "
   ]
  },
  {
   "cell_type": "code",
   "execution_count": 477,
   "metadata": {},
   "outputs": [],
   "source": [
    "q = n\n",
    "r0 = random_f()\n",
    "r = [r0 ** i for i in range(1, q+1)]"
   ]
  },
  {
   "cell_type": "markdown",
   "metadata": {},
   "source": [
    "and only requires the prover to demonstrate:\n",
    "\n",
    "$$\n",
    "\\sum_{q=1}^Q r_q z_q = \\sum_{q=1}^Q\\sum_{i=1}^{m_q}(r_q a_{qi}\\mathbf{x}_{qi})\\mathbf{y}^\\top_{qi}\n",
    "$$"
   ]
  },
  {
   "cell_type": "markdown",
   "metadata": {},
   "source": [
    "This is a comparison of two degree $Q-1$ polynomials in the challenge consisting of a ﬁeld element.By the Schwartz-Zippel lemma, there is probability at most $\\frac{Q-1}{p}$ for the test to pass unless indeed all the equations hold."
   ]
  },
  {
   "cell_type": "markdown",
   "metadata": {},
   "source": [
    "The probability of $\\sum_{q=1}^Q r_q = 0$ is $\\frac{Q-1}{p}$\n",
    "\n",
    "By set $z=\\sum_{q=1}^{Q}r_q z_q$, $x'=r_{q}a_{qi}\\mathbf{x}_{qi}$, we get:\n",
    "\n",
    "$$\n",
    "z=\\sum_{q=1}^Q\\sum_{i=1}^{m_q} \\mathbf{x}'_{qi} \\mathbf{y}^\\top_{qi}\n",
    "$$"
   ]
  },
  {
   "cell_type": "code",
   "execution_count": 517,
   "metadata": {},
   "outputs": [],
   "source": [
    "# z\n",
    "z_ = reduce(add, [r[i] * z(i) for i in range(q)])"
   ]
  },
  {
   "cell_type": "code",
   "execution_count": 518,
   "metadata": {},
   "outputs": [
    {
     "data": {
      "text/plain": [
       "FiniteFieldCyclicSecp256k1::354482359495557398002695090516611109927605351750"
      ]
     },
     "execution_count": 518,
     "metadata": {},
     "output_type": "execute_result"
    }
   ],
   "source": [
    "reduce(add, [reduce(add, [Mat(x(j)[i]) * r[j] * a[i] * Mat(y(j)[i]).T for i in range(m)])\n",
    " for j in range(q)]).tolist()[0][0]"
   ]
  },
  {
   "cell_type": "code",
   "execution_count": 519,
   "metadata": {},
   "outputs": [],
   "source": [
    "x_ = lambda q, i: Mat(x(q)[i]) * r[q] * a[i]"
   ]
  },
  {
   "cell_type": "code",
   "execution_count": 522,
   "metadata": {},
   "outputs": [],
   "source": [
    "assert z_ == reduce(add, [reduce(add, [x_(i, j) * Mat(y(i)[j]).T \n",
    "       for j in range(m)])\n",
    "       for i in range(q)]).item()"
   ]
  }
 ],
 "metadata": {
  "kernelspec": {
   "display_name": "Python 3",
   "language": "python",
   "name": "python3"
  },
  "language_info": {
   "codemirror_mode": {
    "name": "ipython",
    "version": 3
   },
   "file_extension": ".py",
   "mimetype": "text/x-python",
   "name": "python",
   "nbconvert_exporter": "python",
   "pygments_lexer": "ipython3",
   "version": "3.7.3"
  }
 },
 "nbformat": 4,
 "nbformat_minor": 2
}
