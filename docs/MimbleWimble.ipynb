{
 "cells": [
  {
   "cell_type": "markdown",
   "metadata": {},
   "source": [
    "# Klefki on MimbleWimble\n",
    "\n"
   ]
  },
  {
   "cell_type": "markdown",
   "metadata": {},
   "source": [
    "We start from MimbleWimble $(k+j)\\times H = k\\times H + j\\times H$, from Intro[1], thus we will present how to use `klefki` to proof it."
   ]
  },
  {
   "cell_type": "markdown",
   "metadata": {},
   "source": [
    "## Import Ellipic Curve Group and Finite Field\n"
   ]
  },
  {
   "cell_type": "code",
   "execution_count": 1,
   "metadata": {},
   "outputs": [],
   "source": [
    "from klefki.types.algebra.concrete import EllipticCurveGroupSecp256k1 as ECG\n",
    "from klefki.types.algebra.concrete import FiniteFieldCyclicSecp256k1 as CF\n"
   ]
  },
  {
   "cell_type": "markdown",
   "metadata": {},
   "source": [
    "## Setup up two large number for randumic.\n"
   ]
  },
  {
   "cell_type": "code",
   "execution_count": 4,
   "metadata": {},
   "outputs": [
    {
     "name": "stdout",
     "output_type": "stream",
     "text": [
      "k: 115125037568264209841140067045077225496726895314361448112624135422181688181560\n",
      "j: 93793428670509751887754005358940072929463304447281556677719421457613443531961 \n"
     ]
    }
   ],
   "source": [
    "import random\n",
    "\n",
    "N = 0xfffffffffffffffffffffffffffffffebaaedce6af48a03bbfd25e8cd0364141\n",
    "\n",
    "def random_num() -> CF:\n",
    "    return CF(random.randint(1, N))\n",
    "\n",
    "k = random_num()\n",
    "j = random_num()\n",
    "\n",
    "print(\"k: %s\" % k)\n",
    "print(\"j: %s \" % j)"
   ]
  },
  {
   "cell_type": "markdown",
   "metadata": {},
   "source": [
    "## Use point G from Ellipic Curve as H\n"
   ]
  },
  {
   "cell_type": "code",
   "execution_count": 7,
   "metadata": {},
   "outputs": [
    {
     "name": "stdout",
     "output_type": "stream",
     "text": [
      "(FiniteFieldSecp256k1::55066263022277343669578718895168534326250603453777594175500187360389116729240, FiniteFieldSecp256k1::32670510020758816978083085130507043184471273380659243275938904335757337482424)\n"
     ]
    }
   ],
   "source": [
    "\n",
    "from klefki.types.algebra.concrete import EllipticCurveCyclicSubgroupSecp256k1 as CG\n",
    "\n",
    "H = CG.G\n",
    "\n",
    "print(H)"
   ]
  },
  {
   "cell_type": "markdown",
   "metadata": {},
   "source": [
    "## MimbleWimble:: biu biu biu!"
   ]
  },
  {
   "cell_type": "code",
   "execution_count": 11,
   "metadata": {},
   "outputs": [],
   "source": [
    "assert H @ (k + j) == H @ k + H @ j"
   ]
  },
  {
   "cell_type": "markdown",
   "metadata": {},
   "source": [
    "### Ref:\n",
    "\n",
    "[1] Intro (Grin) https://github.com/mimblewimble/grin/blob/master/doc/intro.md"
   ]
  }
 ],
 "metadata": {
  "kernelspec": {
   "display_name": "Python 3",
   "language": "python",
   "name": "python3"
  },
  "language_info": {
   "codemirror_mode": {
    "name": "ipython",
    "version": 3
   },
   "file_extension": ".py",
   "mimetype": "text/x-python",
   "name": "python",
   "nbconvert_exporter": "python",
   "pygments_lexer": "ipython3",
   "version": "3.6.0"
  }
 },
 "nbformat": 4,
 "nbformat_minor": 2
}
