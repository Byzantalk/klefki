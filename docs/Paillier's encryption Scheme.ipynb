{
 "cells": [
  {
   "cell_type": "markdown",
   "metadata": {},
   "source": [
    "# Paillier's encryption Scheme"
   ]
  },
  {
   "cell_type": "markdown",
   "metadata": {},
   "source": [
    "The Paillier crypto system, invented by and named after Pascal Paillier in 1999, is a probabilistic asymmetric algorithm for public key cryptography. The problem of computing $n-th$ residue classes is believed to be computationally difficult. The decisional composite residuosity assumption is the intractability hypothesis upon which this cryptosystem is based. "
   ]
  },
  {
   "cell_type": "markdown",
   "metadata": {},
   "source": [
    "$$\n",
    "\\alpha +_E \\beta = E(\\alpha + \\beta \\ mod\\ N)\\\\\n",
    "x\\times_E \\alpha = E(x\\alpha \\ mod \\ N)\\\\\n",
    "\\oplus_{i=1}^{t+1}a_i = a_1 +_E a_2 +_E \\cdots +_E a_{t+1}\n",
    "$$\n"
   ]
  },
  {
   "cell_type": "markdown",
   "metadata": {},
   "source": [
    "## Key Generation:"
   ]
  },
  {
   "cell_type": "markdown",
   "metadata": {},
   "source": [
    "1. Choose two large prime numbers $P$ and $Q$ randomly and indenpendently of each other such that $gcd(PQ, (P-1)(Q-1))=1$. This property is assured if both primes are qual lenth."
   ]
  },
  {
   "cell_type": "code",
   "execution_count": 1,
   "metadata": {},
   "outputs": [],
   "source": [
    "from klefki.const import (SECP256K1_P as P, SECP256K1_N as Q)"
   ]
  },
  {
   "cell_type": "code",
   "execution_count": 2,
   "metadata": {},
   "outputs": [],
   "source": [
    "from math import gcd\n",
    "\n",
    "assert gcd(P * Q, (P - 1) * (Q - 1)) == 1"
   ]
  },
  {
   "cell_type": "markdown",
   "metadata": {},
   "source": [
    "2. Compute $N=PQ$ and $\\lambda(N)=lcm(P-1, Q-1)$ be the Carmichael function of N."
   ]
  },
  {
   "cell_type": "code",
   "execution_count": 3,
   "metadata": {},
   "outputs": [],
   "source": [
    "from klefki.numbers import lcm"
   ]
  },
  {
   "cell_type": "code",
   "execution_count": 4,
   "metadata": {},
   "outputs": [],
   "source": [
    "N = P * Q\n",
    "Lam = lcm(P - 1, Q - 1)"
   ]
  },
  {
   "cell_type": "markdown",
   "metadata": {},
   "source": [
    "3. Select random integer $\\Gamma$ where $\\Gamma \\in \\mathbf{Z}_{n^2}^*$."
   ]
  },
  {
   "cell_type": "code",
   "execution_count": 5,
   "metadata": {},
   "outputs": [],
   "source": [
    "from random import randint\n",
    "from klefki.types.algebra.utils import randfield\n",
    "from klefki.types.algebra.meta import field\n",
    "\n",
    "F = field(N)\n",
    "DF = field(N**2)\n",
    "G = randfield(DF)"
   ]
  },
  {
   "cell_type": "markdown",
   "metadata": {},
   "source": [
    "4. Ensure $n$ devides the order of $g$ by checking the existence of the following modular multiplicative inverse: \n",
    "\n",
    "$$\n",
    "\\mu = (L(G^{\\lambda(N)}\\mod N^2))^{-1} \\mod \\ N\n",
    "$$\n",
    "\n",
    "Where $L$ be a function defined over the set $\\{x\\in \\mathbf{Z}_{N^2}: x=1 \\ mod \\ N\\}$ computed as\n",
    "\n",
    "$$\n",
    "L(x) = \\frac{x-1}{N}\n",
    "$$"
   ]
  },
  {
   "cell_type": "code",
   "execution_count": 6,
   "metadata": {},
   "outputs": [],
   "source": [
    "L = lambda x: (x - 1) // N\n",
    "M = ~F(L(pow(G, Lam).value))"
   ]
  },
  {
   "cell_type": "markdown",
   "metadata": {},
   "source": [
    "The public key is $(N, \\Gamma)$ and the secret key is $(\\lambda(N), \\mu)$\n",
    "\n",
    "If using p,q of equivalent length, a simpler variant of the above key generation steps would be to set $g = n + 1 , λ = φ ( n )$, and $\\mu = φ(n)^{-1}\\ mod \\ n$, where $φ(n)=(p-1)(q-1)$"
   ]
  },
  {
   "cell_type": "code",
   "execution_count": 7,
   "metadata": {},
   "outputs": [
    {
     "name": "stdout",
     "output_type": "stream",
     "text": [
      "PrivKey: 2234634654990432849929004166367641021238215826767191291571707378398254532167475902984296517123225539202576657105730699764493290075143829571044458305451072, 10135235845344507740906753559007381561919482580708955984837126290025856984273738963919471977360703096787993252366193245778584496744276949709710696289125048\n"
     ]
    }
   ],
   "source": [
    "print(\"PrivKey: %s, %s\" % (Lam, M))"
   ]
  },
  {
   "cell_type": "code",
   "execution_count": 8,
   "metadata": {},
   "outputs": [
    {
     "name": "stdout",
     "output_type": "stream",
     "text": [
      "PubKey: 13407807929942597099574024998205846127429294960603147749430244270389527193005087002084253735130200377185477318450090306135904455919285040173416176828872431; 86503604970764290220133707384623865248648807548753695928083658324502249551174614389123579996788758845060728825331210077913429374875382750554957257850400843923272229758132023671072015758070840258198714096457532848087539024869245833311249389715146007524004561849770010033903780313646971264436708607043042580147\n"
     ]
    }
   ],
   "source": [
    "print(\"PubKey: %s; %s\" % (N, G))"
   ]
  },
  {
   "cell_type": "markdown",
   "metadata": {},
   "source": [
    "## Encryption:"
   ]
  },
  {
   "cell_type": "markdown",
   "metadata": {},
   "source": [
    "To Encrypt a message $M \\in Z_N$, select $R \\in_R Z_N^*$ and return $c=\\Gamma^M R^N\\ mod \\ N^2$."
   ]
  },
  {
   "cell_type": "code",
   "execution_count": 9,
   "metadata": {},
   "outputs": [],
   "source": [
    "import random\n",
    "import math\n",
    "m = random.randint(0, N)\n",
    "assert 0 <= m < N\n",
    "\n",
    "r = random.randint(0, N)\n",
    "assert 0 < r < N\n",
    "\n",
    "assert math.gcd(r, N) == 1"
   ]
  },
  {
   "cell_type": "code",
   "execution_count": 10,
   "metadata": {},
   "outputs": [
    {
     "data": {
      "text/plain": [
       "True"
      ]
     },
     "execution_count": 10,
     "metadata": {},
     "output_type": "execute_result"
    }
   ],
   "source": [
    "pow(DF(r), N).value == pow(r, N, N**2)"
   ]
  },
  {
   "cell_type": "code",
   "execution_count": 11,
   "metadata": {},
   "outputs": [],
   "source": [
    "c = G**m * DF(r)**N"
   ]
  },
  {
   "cell_type": "code",
   "execution_count": 12,
   "metadata": {},
   "outputs": [
    {
     "name": "stdout",
     "output_type": "stream",
     "text": [
      "Ciphtertext Text: 89834684316668415748598091998850523643925841975939412925302238729000753438511149922100953588085159390968895477404491992077226832287033166411082953788531641558642345935355750630720215482008788104807417767095758861792539859338046215757707649068251748548039462405144000727504491321231314681969853461304918571915\n"
     ]
    }
   ],
   "source": [
    "print(\"Ciphtertext Text: %s\" % c)"
   ]
  },
  {
   "cell_type": "markdown",
   "metadata": {},
   "source": [
    "## Decryption:"
   ]
  },
  {
   "cell_type": "markdown",
   "metadata": {},
   "source": [
    "To decrypt a ciphertext $c \\in Z_N$, let $L$ be a function defined over the set $\\{u\\in Z_{N^2}: u=1 \\ mod \\ N\\}$ computed as $L(u) = \\frac{u-1}{N}$. Then the decryption of $c$ is computed as\n",
    "\n",
    "$$\n",
    "\\frac{L(c^{\\lambda(N)}\\ mod\\ N^2)}{L(\\Gamma^{\\lambda(N)}\\ mod\\ N^2)}\\ mod\\ N\n",
    "$$"
   ]
  },
  {
   "cell_type": "code",
   "execution_count": 13,
   "metadata": {},
   "outputs": [],
   "source": [
    "assert F(m) == F(L(pow(DF(c), Lam).value)) * M"
   ]
  },
  {
   "cell_type": "markdown",
   "metadata": {},
   "source": [
    "## Homomorphic"
   ]
  },
  {
   "cell_type": "markdown",
   "metadata": {},
   "source": [
    "#### Homomorphic addition"
   ]
  },
  {
   "cell_type": "code",
   "execution_count": 14,
   "metadata": {},
   "outputs": [],
   "source": [
    "from klefki.crypto.paillier import Paillier\n",
    "from klefki.const import (SECP256K1_P as P, SECP256K1_N as Q)\n",
    "from klefki.types.algebra.utils import randfield"
   ]
  },
  {
   "cell_type": "code",
   "execution_count": 22,
   "metadata": {},
   "outputs": [],
   "source": [
    "Pai = Paillier(P, Q)\n",
    "E = Pai.E\n",
    "D = Pai.D\n",
    "\n",
    "Lam, M = Pai.privkey\n",
    "N, G = Pai.pubkey\n",
    "\n",
    "F = M.functor"
   ]
  },
  {
   "cell_type": "code",
   "execution_count": 23,
   "metadata": {},
   "outputs": [],
   "source": [
    "m1, m2 = randfield(F), randfield(F)\n"
   ]
  },
  {
   "cell_type": "markdown",
   "metadata": {},
   "source": [
    "* The product of two ciphertexts will decrypt to the sum of their corresponding plaintexts,\n",
    "$$\n",
    "D(E(m_1, r_1) \\circ E(m_2, r_2)\\ mod \\ N^2) = m_1 \\circ m_2 \\ mod\\ n\n",
    "$$"
   ]
  },
  {
   "cell_type": "code",
   "execution_count": 24,
   "metadata": {},
   "outputs": [],
   "source": [
    "assert D(E(m1) * E(m2)) == D(E(m1)) + D(E(m2)) == m1 + m2"
   ]
  },
  {
   "cell_type": "markdown",
   "metadata": {},
   "source": [
    "* The product of a ciphertext with a plaintext raising $g$ will decrypt to the sum of the corresponding plaintexts.\n",
    "\n",
    "\n",
    "$$\n",
    "D(E(m_1, r_1)\\circ g^m_2 \\ mod \\ n^2) = m_1m_2\\ mod \\ n\n",
    "$$"
   ]
  },
  {
   "cell_type": "code",
   "execution_count": 25,
   "metadata": {},
   "outputs": [
    {
     "data": {
      "text/plain": [
       "True"
      ]
     },
     "execution_count": 25,
     "metadata": {},
     "output_type": "execute_result"
    }
   ],
   "source": [
    "D(E(m1) * (G ** m2)) == m1 + m2"
   ]
  },
  {
   "cell_type": "markdown",
   "metadata": {},
   "source": [
    "#### Homomorphic multiplication"
   ]
  },
  {
   "cell_type": "markdown",
   "metadata": {},
   "source": [
    "* An encrypted plaintext raised to the power of another plaintext will decrypt to the product of the two plaintexts,"
   ]
  },
  {
   "cell_type": "markdown",
   "metadata": {},
   "source": [
    "$$\n",
    "D(E(m_1, r_1)^{m_2}\\ mod \\ n^2) = m_1m_2 \\ mod \\ n\\\\\n",
    "D(E(m_2, r_2)^{m_1}\\ mod \\ n^2) = m_1m_2 \\ mod \\ n\n",
    "$$"
   ]
  },
  {
   "cell_type": "code",
   "execution_count": 26,
   "metadata": {},
   "outputs": [
    {
     "data": {
      "text/plain": [
       "True"
      ]
     },
     "execution_count": 26,
     "metadata": {},
     "output_type": "execute_result"
    }
   ],
   "source": [
    "D(E(m1)**m2) == m1 * m2 == D(E(m2)**m1)"
   ]
  },
  {
   "cell_type": "markdown",
   "metadata": {},
   "source": [
    "More generally, an encrypted plaintext raised to a constant k will decrypt to the product of the plaintext and the constant,\n",
    "\n",
    "$$\n",
    "D(E(m, r)^{k}\\ mod \\ n^2) = km \\ mod \\ n\n",
    "$$"
   ]
  },
  {
   "cell_type": "code",
   "execution_count": 27,
   "metadata": {},
   "outputs": [
    {
     "data": {
      "text/plain": [
       "True"
      ]
     },
     "execution_count": 27,
     "metadata": {},
     "output_type": "execute_result"
    }
   ],
   "source": [
    "k = randfield(F)\n",
    "m = randfield(F)\n",
    "\n",
    "\n",
    "D(E(m) ** k) == k * m"
   ]
  },
  {
   "cell_type": "markdown",
   "metadata": {},
   "source": [
    "## Ref\n",
    "\n",
    "* Wikipedia: Pillier Cryptosystem https://en.wikipedia.org/wiki/Paillier_cryptosystem\n",
    "\n",
    "\n",
    "* Encryption Performance Improvementsof the Paillier Cryptosystem https://eprint.iacr.org/2015/864.pdf\n",
    "\n",
    "\n",
    "* Stackoverflow - Paillier algorithm encryption https://stackoverflow.com/questions/29217630/paillier-algorithm-encryption"
   ]
  }
 ],
 "metadata": {
  "kernelspec": {
   "display_name": "Python 3",
   "language": "python",
   "name": "python3"
  },
  "language_info": {
   "codemirror_mode": {
    "name": "ipython",
    "version": 3
   },
   "file_extension": ".py",
   "mimetype": "text/x-python",
   "name": "python",
   "nbconvert_exporter": "python",
   "pygments_lexer": "ipython3",
   "version": "3.7.3"
  }
 },
 "nbformat": 4,
 "nbformat_minor": 2
}
