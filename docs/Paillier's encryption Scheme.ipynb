{
 "cells": [
  {
   "cell_type": "markdown",
   "metadata": {},
   "source": [
    "# Paillier's encryption Scheme"
   ]
  },
  {
   "cell_type": "markdown",
   "metadata": {},
   "source": [
    "$$\n",
    "\\alpha +_E \\beta = E(\\alpha + \\beta \\ mod\\ N)\\\\\n",
    "x\\times_E \\alpha = E(x\\alpha \\ mod \\ N)\\\\\n",
    "\\oplus_{i=1}^{t+1}a_i = a_1 +_E a_2 +_E \\cdots +_E a_{t+1}\n",
    "$$\n"
   ]
  },
  {
   "cell_type": "markdown",
   "metadata": {},
   "source": [
    "### Key Generation:"
   ]
  },
  {
   "cell_type": "markdown",
   "metadata": {},
   "source": [
    "Generate two large primes $P, Q$ of equal length.\n",
    "\n",
    "and set $N=PQ$. Let $\\lambda(N)=lcm(P-1, Q-1)$ be the Carmichael function of N. \n",
    "\n",
    "Finally choose $\\Gamma \\in Z^*_{N^2}$ such that its orders is a multiple of $N$.\n",
    "\n",
    "The public key is $(N, \\Gamma)$ and the secret key is $\\lambda(N)$"
   ]
  },
  {
   "cell_type": "code",
   "execution_count": 49,
   "metadata": {},
   "outputs": [],
   "source": [
    "from klefki.numbers import carmichael, lcm"
   ]
  },
  {
   "cell_type": "code",
   "execution_count": 52,
   "metadata": {},
   "outputs": [],
   "source": [
    "from klefki.numbers import length as dlen\n",
    "import random\n",
    "import math\n",
    "\n",
    "from klefki.types.algebra.concrete import (\n",
    "    EllipticCurveGroupSecp256k1 as ECG,\n",
    "    EllipticCurveCyclicSubgroupSecp256k1 as CG,\n",
    "    FiniteFieldSecp256k1 as F,\n",
    "    FiniteFieldCyclicSecp256k1 as CF\n",
    ")\n"
   ]
  },
  {
   "cell_type": "code",
   "execution_count": 53,
   "metadata": {},
   "outputs": [],
   "source": [
    "P, Q = CF.P, CG.N\n",
    "\n",
    "dlen(P) == dlen(Q)\n",
    "N = P*Q"
   ]
  },
  {
   "cell_type": "code",
   "execution_count": 54,
   "metadata": {},
   "outputs": [],
   "source": [
    "lam_N = lcm(P-1, Q-1)"
   ]
  },
  {
   "cell_type": "code",
   "execution_count": 55,
   "metadata": {},
   "outputs": [],
   "source": [
    "G = random.randint(0, N**2)"
   ]
  },
  {
   "cell_type": "code",
   "execution_count": 56,
   "metadata": {},
   "outputs": [
    {
     "name": "stdout",
     "output_type": "stream",
     "text": [
      "PubKey: 13407807929942597099574024998205846127379224100613902121136927097058285002635891330411377376978090146667648480129683279260917149325652956599247552883069569; 178975496142136678886098344801609975410614022722901894323102170929250265219633021984111382641038952426922984325023027515693868588779994700407704024078755041519207525646575882306242842887378176508411942903373439348546987659691614926547486099885346412697475195924563350065889766520545825356944779744042693448974\n"
     ]
    }
   ],
   "source": [
    "print(\"PubKey: %s; %s\" % (N, G))"
   ]
  },
  {
   "cell_type": "code",
   "execution_count": 57,
   "metadata": {},
   "outputs": [
    {
     "name": "stdout",
     "output_type": "stream",
     "text": [
      "PrivKey: 115792089237316195423570985008687907852837564279074904382605163141518161494336\n"
     ]
    }
   ],
   "source": [
    "print(\"PrivKey: %s\" % lam_N)"
   ]
  },
  {
   "cell_type": "markdown",
   "metadata": {},
   "source": [
    "### Encryption:"
   ]
  },
  {
   "cell_type": "markdown",
   "metadata": {},
   "source": [
    "To Encrypt a message $m \\in Z_N$, select $x \\in_R Z_N^*$ and return $c=\\Gamma^mx^N\\ mod \\ N^2$."
   ]
  },
  {
   "cell_type": "code",
   "execution_count": 126,
   "metadata": {},
   "outputs": [],
   "source": [
    "m = 7\n",
    "assert m < N"
   ]
  },
  {
   "cell_type": "code",
   "execution_count": 127,
   "metadata": {},
   "outputs": [],
   "source": [
    "x = random.randint(0, N)"
   ]
  },
  {
   "cell_type": "code",
   "execution_count": 128,
   "metadata": {},
   "outputs": [],
   "source": [
    "c = (pow(G, m, N) * pow(x, N, N)) % (N*N)"
   ]
  },
  {
   "cell_type": "code",
   "execution_count": 129,
   "metadata": {},
   "outputs": [
    {
     "name": "stdout",
     "output_type": "stream",
     "text": [
      "Ciphtertext Text: 8517442062247805905990950490466898585343192524256276941684817661260258183533830711392595319469656361655761549470179308537579763659103791278944445126025910350324544604065585664908463387246846239746291730024121889920218584413896103769524662595782971295952127197304460143216199812672041674001033384893774655168\n"
     ]
    }
   ],
   "source": [
    "print(\"Ciphtertext Text: %s\" % c)"
   ]
  },
  {
   "cell_type": "markdown",
   "metadata": {},
   "source": [
    "### Decryption:"
   ]
  },
  {
   "cell_type": "markdown",
   "metadata": {},
   "source": [
    "To decrypt a ciphertext $c \\in Z_N$, let $L$ be a function defined over the set $\\{u\\in Z_{N^2}: u=1 \\ mod \\ N\\}$ computed as $L(u) = (u-1)/N$. Then the decryption of $c$ is computed as\n",
    "\n",
    "$$\n",
    "\\frac{L(c^{\\lambda(N)})}{L(\\Gamma^{\\lambda(N)})}\\ mod\\ N\n",
    "$$"
   ]
  },
  {
   "cell_type": "code",
   "execution_count": 130,
   "metadata": {},
   "outputs": [],
   "source": [
    "L = lambda u: (u - 1) / N"
   ]
  },
  {
   "cell_type": "code",
   "execution_count": 131,
   "metadata": {},
   "outputs": [
    {
     "data": {
      "text/plain": [
       "7.0"
      ]
     },
     "execution_count": 131,
     "metadata": {},
     "output_type": "execute_result"
    }
   ],
   "source": [
    "(L(pow(c, lam_N, N)) / L(pow(G, lam_N, N))) % N"
   ]
  },
  {
   "cell_type": "markdown",
   "metadata": {},
   "source": [
    "## Ref\n",
    "\n",
    "* Wikipedia: Pillier Cryptosystem https://en.wikipedia.org/wiki/Paillier_cryptosystem\n",
    "\n",
    "\n",
    "* How to Secretly Share the Treasure Map of the Captain? http://www.lirmm.fr/~imbert/jsec/Naveed_ISLAM_poster_SPIE_1.1.pdf\n",
    "\n",
    "\n",
    "* Encryption Performance Improvementsof the Paillier Cryptosystem https://eprint.iacr.org/2015/864.pdf\n",
    "\n",
    "\n",
    "* Stackoverflow - Paillier algorithm encryption https://stackoverflow.com/questions/29217630/paillier-algorithm-encryption"
   ]
  },
  {
   "cell_type": "code",
   "execution_count": null,
   "metadata": {},
   "outputs": [],
   "source": []
  }
 ],
 "metadata": {
  "kernelspec": {
   "display_name": "Python 3",
   "language": "python",
   "name": "python3"
  },
  "language_info": {
   "codemirror_mode": {
    "name": "ipython",
    "version": 3
   },
   "file_extension": ".py",
   "mimetype": "text/x-python",
   "name": "python",
   "nbconvert_exporter": "python",
   "pygments_lexer": "ipython3",
   "version": "3.7.3"
  }
 },
 "nbformat": 4,
 "nbformat_minor": 2
}
