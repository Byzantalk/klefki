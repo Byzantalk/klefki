{
 "cells": [
  {
   "cell_type": "markdown",
   "metadata": {},
   "source": [
    "# Paillier's encryption Scheme"
   ]
  },
  {
   "cell_type": "markdown",
   "metadata": {},
   "source": [
    "The Paillier crypto system, invented by and named after Pascal Paillier in 1999, is a probabilistic asymmetric algorithm for public key cryptography. The problem of computing $n-th$ residue classes is believed to be computationally difficult. The decisional composite residuosity assumption is the intractability hypothesis upon which this cryptosystem is based. "
   ]
  },
  {
   "cell_type": "markdown",
   "metadata": {},
   "source": [
    "$$\n",
    "\\alpha +_E \\beta = E(\\alpha + \\beta \\ mod\\ N)\\\\\n",
    "x\\times_E \\alpha = E(x\\alpha \\ mod \\ N)\\\\\n",
    "\\oplus_{i=1}^{t+1}a_i = a_1 +_E a_2 +_E \\cdots +_E a_{t+1}\n",
    "$$\n"
   ]
  },
  {
   "cell_type": "markdown",
   "metadata": {},
   "source": [
    "## Key Generation:"
   ]
  },
  {
   "cell_type": "markdown",
   "metadata": {},
   "source": [
    "1. Choose two large prime numbers $P$ and $Q$ randomly and indenpendently of each other such that $gcd(PQ, (P-1)(Q-1))=1$. This property is assured if both primes are qual lenth."
   ]
  },
  {
   "cell_type": "code",
   "execution_count": 1,
   "metadata": {},
   "outputs": [],
   "source": [
    "from klefki.const import (SECP256K1_P as P, SECP256K1_N as Q)"
   ]
  },
  {
   "cell_type": "code",
   "execution_count": 2,
   "metadata": {},
   "outputs": [],
   "source": [
    "from math import gcd\n",
    "\n",
    "assert gcd(P * Q, (P - 1) * (Q - 1)) == 1"
   ]
  },
  {
   "cell_type": "markdown",
   "metadata": {},
   "source": [
    "2. Compute $N=PQ$ and $\\lambda(N)=lcm(P-1, Q-1)$ be the Carmichael function of N."
   ]
  },
  {
   "cell_type": "code",
   "execution_count": 3,
   "metadata": {},
   "outputs": [],
   "source": [
    "from klefki.numbers import lcm"
   ]
  },
  {
   "cell_type": "code",
   "execution_count": 4,
   "metadata": {},
   "outputs": [],
   "source": [
    "N = P * Q\n",
    "Lam = lcm(P - 1, Q - 1)"
   ]
  },
  {
   "cell_type": "markdown",
   "metadata": {},
   "source": [
    "3. Select random integer $\\Gamma$ where $\\Gamma \\in \\mathbf{Z}_{n^2}^*$."
   ]
  },
  {
   "cell_type": "code",
   "execution_count": 5,
   "metadata": {},
   "outputs": [],
   "source": [
    "from random import randint\n",
    "from klefki.types.algebra.utils import randfield\n",
    "from klefki.types.algebra.meta import field\n",
    "\n",
    "F = field(N)\n",
    "DF = field(N**2)\n",
    "G = randfield(DF)"
   ]
  },
  {
   "cell_type": "markdown",
   "metadata": {},
   "source": [
    "4. Ensure $n$ devides the order of $g$ by checking the existence of the following modular multiplicative inverse: \n",
    "\n",
    "$$\n",
    "\\mu = (L(G^{\\lambda(N)}\\mod N^2))^{-1} \\mod \\ N\n",
    "$$\n",
    "\n",
    "Where $L$ be a function defined over the set $\\{x\\in \\mathbf{Z}_{N^2}: x=1 \\ mod \\ N\\}$ computed as\n",
    "\n",
    "$$\n",
    "L(x) = \\frac{x-1}{N}\n",
    "$$"
   ]
  },
  {
   "cell_type": "code",
   "execution_count": 6,
   "metadata": {},
   "outputs": [],
   "source": [
    "L = lambda x: (x - 1) // N\n",
    "M = ~F(L(pow(G, Lam).value))"
   ]
  },
  {
   "cell_type": "markdown",
   "metadata": {},
   "source": [
    "The public key is $(N, \\Gamma)$ and the secret key is $(\\lambda(N), \\mu)$\n",
    "\n",
    "If using p,q of equivalent length, a simpler variant of the above key generation steps would be to set $g = n + 1 , λ = φ ( n )$, and $\\mu = φ(n)^{-1}\\ mod \\ n$, where $φ(n)=(p-1)(q-1)$"
   ]
  },
  {
   "cell_type": "code",
   "execution_count": 7,
   "metadata": {},
   "outputs": [
    {
     "name": "stdout",
     "output_type": "stream",
     "text": [
      "PrivKey: 2234634654990432849929004166367641021238215826767191291571707378398254532167475902984296517123225539202576657105730699764493290075143829571044458305451072, 4116717960573088287507998346483689925250681506182639970180504814947126774895080388006265788096759811694358321471118780799944134264467905630057357001905577\n"
     ]
    }
   ],
   "source": [
    "print(\"PrivKey: %s, %s\" % (Lam, M))"
   ]
  },
  {
   "cell_type": "code",
   "execution_count": 8,
   "metadata": {},
   "outputs": [
    {
     "name": "stdout",
     "output_type": "stream",
     "text": [
      "PubKey: 13407807929942597099574024998205846127429294960603147749430244270389527193005087002084253735130200377185477318450090306135904455919285040173416176828872431; 2110329614700298385315526199792936578701576328690879730442834015545006917807496212653199329726021749108722763644211697882949189387981041755866453826829980348102277545136194797961684339708707889864507303214325997045663791915051363301990632290457704127829339040774854881954294697592234033266543433081811005225\n"
     ]
    }
   ],
   "source": [
    "print(\"PubKey: %s; %s\" % (N, G))"
   ]
  },
  {
   "cell_type": "markdown",
   "metadata": {},
   "source": [
    "## Encryption:"
   ]
  },
  {
   "cell_type": "markdown",
   "metadata": {},
   "source": [
    "To Encrypt a message $M \\in Z_N$, select $R \\in_R Z_N^*$ and return $c=\\Gamma^M R^N\\ mod \\ N^2$."
   ]
  },
  {
   "cell_type": "code",
   "execution_count": 80,
   "metadata": {},
   "outputs": [],
   "source": [
    "m = random.randint(0, N)\n",
    "assert 0 <= m < N\n",
    "\n",
    "r = random.randint(0, N)\n",
    "assert 0 < r < N\n",
    "\n",
    "assert math.gcd(r, N) == 1"
   ]
  },
  {
   "cell_type": "code",
   "execution_count": 87,
   "metadata": {},
   "outputs": [
    {
     "data": {
      "text/plain": [
       "True"
      ]
     },
     "execution_count": 87,
     "metadata": {},
     "output_type": "execute_result"
    }
   ],
   "source": [
    "pow(DF(r), N).value == pow(r, N, N**2)"
   ]
  },
  {
   "cell_type": "code",
   "execution_count": 92,
   "metadata": {},
   "outputs": [],
   "source": [
    "c = G**m * DF(r)**N"
   ]
  },
  {
   "cell_type": "code",
   "execution_count": 93,
   "metadata": {},
   "outputs": [
    {
     "name": "stdout",
     "output_type": "stream",
     "text": [
      "Ciphtertext Text: 18803196812537703372929146582368906261469121174882653049059869707876083916567384544621865153727816925815126077216779846974955171646293621451440193310199946599012720978232900482409189341431927024861721702108115463179528100770583474699336239458556406839659457769164269292060492592512725390915325961253890350289\n"
     ]
    }
   ],
   "source": [
    "print(\"Ciphtertext Text: %s\" % c)"
   ]
  },
  {
   "cell_type": "markdown",
   "metadata": {},
   "source": [
    "## Decryption:"
   ]
  },
  {
   "cell_type": "markdown",
   "metadata": {},
   "source": [
    "To decrypt a ciphertext $c \\in Z_N$, let $L$ be a function defined over the set $\\{u\\in Z_{N^2}: u=1 \\ mod \\ N\\}$ computed as $L(u) = \\frac{u-1}{N}$. Then the decryption of $c$ is computed as\n",
    "\n",
    "$$\n",
    "\\frac{L(c^{\\lambda(N)}\\ mod\\ N^2)}{\\mu}\\ mod\\ N\n",
    "$$"
   ]
  },
  {
   "cell_type": "code",
   "execution_count": 91,
   "metadata": {},
   "outputs": [],
   "source": [
    "assert F(m) == F(L(pow(DF(c), Lam).value)) * M"
   ]
  },
  {
   "cell_type": "markdown",
   "metadata": {},
   "source": [
    "## Homomorphic"
   ]
  },
  {
   "cell_type": "markdown",
   "metadata": {},
   "source": [
    "### Homomorphic addition"
   ]
  },
  {
   "cell_type": "markdown",
   "metadata": {},
   "source": [
    "The product of two ciphertexts will decrypt to the sum of their corresponding plaintexts,\n",
    "$$\n",
    "D(E(m_1, r_1) \\circ E(m_2, r_2)\\ mod \\ N^2) = m_1 \\circ m_2 \\ mod\\ n\n",
    "$$"
   ]
  },
  {
   "cell_type": "markdown",
   "metadata": {},
   "source": [
    "## Ref\n",
    "\n",
    "* Wikipedia: Pillier Cryptosystem https://en.wikipedia.org/wiki/Paillier_cryptosystem\n",
    "\n",
    "\n",
    "* Encryption Performance Improvementsof the Paillier Cryptosystem https://eprint.iacr.org/2015/864.pdf\n",
    "\n",
    "\n",
    "* Stackoverflow - Paillier algorithm encryption https://stackoverflow.com/questions/29217630/paillier-algorithm-encryption"
   ]
  },
  {
   "cell_type": "code",
   "execution_count": null,
   "metadata": {},
   "outputs": [],
   "source": []
  },
  {
   "cell_type": "code",
   "execution_count": null,
   "metadata": {},
   "outputs": [],
   "source": []
  },
  {
   "cell_type": "code",
   "execution_count": null,
   "metadata": {},
   "outputs": [],
   "source": []
  }
 ],
 "metadata": {
  "kernelspec": {
   "display_name": "Python 3",
   "language": "python",
   "name": "python3"
  },
  "language_info": {
   "codemirror_mode": {
    "name": "ipython",
    "version": 3
   },
   "file_extension": ".py",
   "mimetype": "text/x-python",
   "name": "python",
   "nbconvert_exporter": "python",
   "pygments_lexer": "ipython3",
   "version": "3.7.3"
  }
 },
 "nbformat": 4,
 "nbformat_minor": 2
}
