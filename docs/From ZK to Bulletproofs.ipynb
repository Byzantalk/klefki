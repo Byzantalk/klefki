{
 "cells": [
  {
   "cell_type": "code",
   "execution_count": 3,
   "metadata": {},
   "outputs": [],
   "source": [
    " %load_ext autoreload\n"
   ]
  },
  {
   "cell_type": "markdown",
   "metadata": {},
   "source": [
    "# From ZK to Bulletproofs"
   ]
  },
  {
   "cell_type": "code",
   "execution_count": 4,
   "metadata": {},
   "outputs": [],
   "source": [
    "from klefki.types.algebra.concrete import EllipticCurveCyclicSubgroupSecp256k1 as Cruve\n",
    "from klefki.types.algebra.concrete import EllipticCurveGroupSecp256k1 as ECG\n",
    "from klefki.types.algebra.concrete import FiniteFieldCyclicSecp256k1 as CF\n",
    "\n",
    "G = Cruve.G"
   ]
  },
  {
   "cell_type": "markdown",
   "metadata": {},
   "source": [
    "## 2.3 A Pedersen commitment in elliptic curve form"
   ]
  },
  {
   "cell_type": "code",
   "execution_count": 5,
   "metadata": {},
   "outputs": [],
   "source": [
    "import random\n",
    "\n",
    "N = 0xfffffffffffffffffffffffffffffffebaaedce6af48a03bbfd25e8cd0364141\n",
    "def random_cf() -> CF: return CF(random.randint(1, N))"
   ]
  },
  {
   "cell_type": "markdown",
   "metadata": {},
   "source": [
    "$$C=rH+aG$$"
   ]
  },
  {
   "cell_type": "markdown",
   "metadata": {},
   "source": [
    "$H$ is a curve point, for which nobody knows the discrete logarithm $q$ s.t. $H = qG$."
   ]
  },
  {
   "cell_type": "code",
   "execution_count": 6,
   "metadata": {},
   "outputs": [],
   "source": [
    "q = random_cf()\n",
    "H = G@q"
   ]
  },
  {
   "cell_type": "code",
   "execution_count": 7,
   "metadata": {},
   "outputs": [],
   "source": [
    "def C(r: CF, a: CF): return (H@r + G@a)"
   ]
  },
  {
   "cell_type": "markdown",
   "metadata": {},
   "source": [
    "### Homomorphism"
   ]
  },
  {
   "cell_type": "code",
   "execution_count": 8,
   "metadata": {},
   "outputs": [],
   "source": [
    "r_1, a_1, r_2, a_2 = random_cf(), random_cf(), random_cf(), random_cf()"
   ]
  },
  {
   "cell_type": "code",
   "execution_count": 9,
   "metadata": {},
   "outputs": [],
   "source": [
    "assert C(r_1, a_1) + C(r_2, a_2) == H@r_1 + G@a_1 + H@r_2 + G@a_2"
   ]
  },
  {
   "cell_type": "code",
   "execution_count": 10,
   "metadata": {},
   "outputs": [],
   "source": [
    "assert C(r_1, a_1) + C(r_2, a_2) == C(r_1 + r_2, a_1 + a_2)"
   ]
  },
  {
   "cell_type": "markdown",
   "metadata": {},
   "source": [
    "### The Vector Pedersen Commitment"
   ]
  },
  {
   "cell_type": "markdown",
   "metadata": {},
   "source": [
    "To extend to a more powerful form of the Pedersen commitment already deﬁned, we go from:\n",
    "    $$C = rH + aG$$\n",
    "    to:\n",
    "        $$C=rH + \\sum_{i=0}^n v_iG_i = rH + \\mathbf{v}\\mathbf{G}$$"
   ]
  },
  {
   "cell_type": "markdown",
   "metadata": {},
   "source": [
    "The individual G i s can be constructed using a simple algorithm of the form already mentioned (like, take a $\\mathcal{H}(encode(G)||i)$ where $\\mathcal{H}$ represents some hash function)."
   ]
  },
  {
   "cell_type": "code",
   "execution_count": 72,
   "metadata": {},
   "outputs": [],
   "source": [
    "from klefki.types.algebra.utils import encode, decode\n",
    "from hashlib import sha256"
   ]
  },
  {
   "cell_type": "code",
   "execution_count": 82,
   "metadata": {},
   "outputs": [],
   "source": [
    "G_is = list(\n",
    "    map(decode,\n",
    "        (map(lambda x: sha256(x.encode()).hexdigest(), encode(G)))\n",
    "       )\n",
    ")"
   ]
  },
  {
   "cell_type": "markdown",
   "metadata": {},
   "source": [
    "### Knowledge of a set of vectors"
   ]
  },
  {
   "cell_type": "markdown",
   "metadata": {},
   "source": [
    "Our argument of knowledge will come after we have generated a set of com- mitments for each of m vectors $x_1 , x_2 , \\cdots , x_m$ , each of the same dimension $N(\\neq m)$).Explicitly:\n",
    "\n",
    "$$\n",
    "C_1=r_1H + x_1G\\\\\n",
    "C_2=r_2H + x_2G\\\\\n",
    "\\vdots\\\\\n",
    "C_m=r_mH+x_mG\\\\\n",
    "$$"
   ]
  },
  {
   "cell_type": "code",
   "execution_count": 134,
   "metadata": {},
   "outputs": [],
   "source": [
    "m = 128\n",
    "x = [random_cf() for i in range(0, m)]\n",
    "r = [random_cf() for i in range(0, m)]\n",
    "q = random_cf()\n",
    "H = G@q\n",
    "C = list(map(lambda x: H @ x[0] + G @ x[1],zip(r, x)))"
   ]
  },
  {
   "cell_type": "markdown",
   "metadata": {},
   "source": [
    "#### The process:\n",
    "\n",
    "1. $P\\rightarrow V: C_0$ (0 (a new commitment to a newly chosen random vector of dimension $N$)\n",
    "\n",
    "2. $V\\rightarrow P: e$ (a random scalar)\n",
    "\n",
    "3. $P\\rightarrow V: (\\mathbf{z}, s)$(a single vector of dimension N, and another scalar)\n",
    "\n",
    "$$\n",
    "z=\\sum_{i=0}^m e^ix_i,\\ s=\\sum_{i=0}^m e^ir_i\n",
    "$$"
   ]
  },
  {
   "cell_type": "markdown",
   "metadata": {},
   "source": [
    "Note that the summations start at 0; this means that the sums include the extra, random commitment, indexed 0, that was created as the ﬁrst step of the interaction."
   ]
  },
  {
   "cell_type": "code",
   "execution_count": 135,
   "metadata": {},
   "outputs": [],
   "source": [
    "from functools import reduce\n",
    "P, V = {}, {}\n",
    "\n",
    "# Step 1\n",
    "P['C_0'] = G @ random_cf()\n",
    "V['C_0'] = P['C_0']\n",
    "\n",
    "# Step 2\n",
    "V['e'] = random_cf()\n",
    "P['e'] = V['e']\n",
    "\n",
    "# Step 3\n",
    "P['z'] = reduce(lambda x, y: x+y, [x[i] @ (e ** (i+1)) for i in range(0, m)])\n",
    "P['s'] = reduce(lambda x, y: x+y, [r[i] @ (e ** (i+1)) for i in range(0, m)])\n",
    "V['z'], V['s'] = P['z'], P['s']\n"
   ]
  },
  {
   "cell_type": "markdown",
   "metadata": {},
   "source": [
    "Having received this $(z, s)$, the verifer of course needs to verify whether the proof is valid. He does the following:"
   ]
  },
  {
   "cell_type": "markdown",
   "metadata": {},
   "source": [
    "$$\n",
    "\\sum_{i=0}^m e^iC_i \\stackrel{?}{=} sH+\\mathbf{z}\\mathbf{G}\n",
    "$$"
   ]
  },
  {
   "cell_type": "code",
   "execution_count": 139,
   "metadata": {},
   "outputs": [
    {
     "ename": "AssertionError",
     "evalue": "",
     "output_type": "error",
     "traceback": [
      "\u001b[0;31m---------------------------------------------------------------------------\u001b[0m",
      "\u001b[0;31mAssertionError\u001b[0m                            Traceback (most recent call last)",
      "\u001b[0;32m<ipython-input-139-c414e32a83e0>\u001b[0m in \u001b[0;36m<module>\u001b[0;34m\u001b[0m\n\u001b[0;32m----> 1\u001b[0;31m \u001b[0;32massert\u001b[0m \u001b[0mreduce\u001b[0m\u001b[0;34m(\u001b[0m\u001b[0;32mlambda\u001b[0m \u001b[0mx\u001b[0m\u001b[0;34m,\u001b[0m \u001b[0my\u001b[0m\u001b[0;34m:\u001b[0m \u001b[0mx\u001b[0m\u001b[0;34m+\u001b[0m\u001b[0my\u001b[0m\u001b[0;34m,\u001b[0m \u001b[0;34m[\u001b[0m\u001b[0mC\u001b[0m\u001b[0;34m[\u001b[0m\u001b[0mi\u001b[0m\u001b[0;34m]\u001b[0m \u001b[0;34m@\u001b[0m \u001b[0;34m(\u001b[0m\u001b[0mV\u001b[0m\u001b[0;34m[\u001b[0m\u001b[0;34m'e'\u001b[0m\u001b[0;34m]\u001b[0m \u001b[0;34m**\u001b[0m \u001b[0;34m(\u001b[0m\u001b[0mi\u001b[0m\u001b[0;34m+\u001b[0m\u001b[0;36m1\u001b[0m\u001b[0;34m)\u001b[0m\u001b[0;34m)\u001b[0m \u001b[0;32mfor\u001b[0m \u001b[0mi\u001b[0m \u001b[0;32min\u001b[0m \u001b[0mrange\u001b[0m\u001b[0;34m(\u001b[0m\u001b[0;36m0\u001b[0m\u001b[0;34m,\u001b[0m \u001b[0mm\u001b[0m\u001b[0;34m)\u001b[0m\u001b[0;34m]\u001b[0m\u001b[0;34m)\u001b[0m \u001b[0;34m==\u001b[0m \u001b[0mH\u001b[0m \u001b[0;34m@\u001b[0m \u001b[0ms\u001b[0m \u001b[0;34m+\u001b[0m \u001b[0mG\u001b[0m \u001b[0;34m@\u001b[0m \u001b[0mz\u001b[0m\u001b[0;34m\u001b[0m\u001b[0;34m\u001b[0m\u001b[0m\n\u001b[0m",
      "\u001b[0;31mAssertionError\u001b[0m: "
     ]
    }
   ],
   "source": [
    "assert reduce(lambda x, y: x+y, [C[i] @ (V['e'] ** (i+1)) for i in range(0, m)]) == H @ s + G @ z"
   ]
  },
  {
   "cell_type": "markdown",
   "metadata": {},
   "source": [
    "### Schnorr’s identity protocol"
   ]
  },
  {
   "cell_type": "markdown",
   "metadata": {},
   "source": [
    "Prover starts with a public key P and a corresponding private key $x$ s.t. $P = xG$.\n",
    "Prover wishes to prove in zero knowledge, that he knows $x$.\n",
    "\n",
    "1. $P\\rightarrow V:xG$\n",
    "2. $P\\rightarrow V:R$ (a new random curve point, but $P$ knows $k$ s.t. $R=kG$)\n",
    "3. $V\\rightarrow P:e$ (a random scalar)\n",
    "4. $P\\rightarrow V:s$ (which $P$ calcuated from the quation $s=k+ex$)\n",
    "\n",
    "Note: the transcript referred to above, would here be: $(R, e, s)$."
   ]
  },
  {
   "cell_type": "code",
   "execution_count": 70,
   "metadata": {},
   "outputs": [],
   "source": [
    "P, V = {}, {}\n",
    "x = random_cf()\n",
    "# step 1\n",
    "P['x'] = x\n",
    "V['P'] = G @ P['x']\n",
    "\n",
    "# step 2\n",
    "P['k'] = random_cf()\n",
    "V['R'] = G @ P['k']\n",
    "\n",
    "# step 3\n",
    "V['e'] = random_cf()\n",
    "P['e'] = V['e']\n",
    "\n",
    "# step 4\n",
    "P['s'] = P['k'] + P['e'] * P['x']\n",
    "V['s'] = P['s']\n",
    "\n",
    "transcript = V['R'], V['e'], V['s']"
   ]
  },
  {
   "cell_type": "markdown",
   "metadata": {},
   "source": [
    "Veriﬁcation works fairly trivially: veriﬁer checks $sG \\stackrel{?}{=} R+eP$.\n"
   ]
  },
  {
   "cell_type": "code",
   "execution_count": 71,
   "metadata": {},
   "outputs": [],
   "source": [
    "assert G @ V['s'] == V['R'] + V['P'] @ V['e']"
   ]
  },
  {
   "cell_type": "markdown",
   "metadata": {},
   "source": [
    "\n",
    "The “Simulator”, which controls the execution of the veriﬁer, given the public key P, just as the Veriﬁer would be, can fake a valid transcript as follows:\n",
    "\n",
    "Choose $s$ randomly. Then, choose $e$, also randomly. Finally, we only need to choose $R$ to create a complete conversation transcript; it must be $R = sG − eP$. \n",
    "\n",
    "$$\n",
    "R=sG-eP\\\\\n",
    "kG=sG-eP\\\\\n",
    "sG=kG+eP\\\\\n",
    "sG=kG+xeG\\\\\n",
    "s=k+ex\\\\\n",
    "$$\n",
    "\n",
    "Then we have successfully simulated a conversation which is entirely valid: $(R, e, s)$, without ever knowing the secret key $x$, and which it’s easy to see is randomly distributed in the same way as a real one would be ($R$ is a free variable)."
   ]
  },
  {
   "cell_type": "code",
   "execution_count": 66,
   "metadata": {},
   "outputs": [],
   "source": [
    "s, e = random_cf(), random_cf()\n",
    "R = G @ s - V['P'] @ e"
   ]
  },
  {
   "cell_type": "code",
   "execution_count": 69,
   "metadata": {},
   "outputs": [],
   "source": [
    "assert G @ s == R + V['P'] @ e"
   ]
  },
  {
   "cell_type": "markdown",
   "metadata": {},
   "source": [
    "### vector proof of knowledge"
   ]
  },
  {
   "cell_type": "code",
   "execution_count": null,
   "metadata": {},
   "outputs": [],
   "source": []
  }
 ],
 "metadata": {
  "kernelspec": {
   "display_name": "Python 3",
   "language": "python",
   "name": "python3"
  },
  "language_info": {
   "codemirror_mode": {
    "name": "ipython",
    "version": 3
   },
   "file_extension": ".py",
   "mimetype": "text/x-python",
   "name": "python",
   "nbconvert_exporter": "python",
   "pygments_lexer": "ipython3",
   "version": "3.7.3"
  }
 },
 "nbformat": 4,
 "nbformat_minor": 2
}
