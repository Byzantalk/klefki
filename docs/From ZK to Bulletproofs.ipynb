{
 "cells": [
  {
   "cell_type": "code",
   "execution_count": 12,
   "metadata": {},
   "outputs": [],
   "source": [
    " %load_ext autoreload\n"
   ]
  },
  {
   "cell_type": "markdown",
   "metadata": {},
   "source": [
    "# <center><h1>From ZK to Bulletproofs</h1></center>"
   ]
  },
  {
   "cell_type": "markdown",
   "metadata": {},
   "source": [
    "# Motivation"
   ]
  },
  {
   "cell_type": "markdown",
   "metadata": {},
   "source": [
    "**Prove that some condition holds true, without revealing anything else, but even better - do it using only a tiny amount of data!**"
   ]
  },
  {
   "cell_type": "markdown",
   "metadata": {},
   "source": [
    "# Commitments; Pedersen"
   ]
  },
  {
   "cell_type": "markdown",
   "metadata": {},
   "source": [
    "Cryptographic commitments usually used in a situation **where you want to promise something is true before later proving it to be true**.\n",
    "\n",
    "Commitments **are only possible because of existence of one-way functions'**"
   ]
  },
  {
   "cell_type": "markdown",
   "metadata": {},
   "source": [
    "E.g. If Alice want to commit to the value \"2\", She can send Bob its hash (53c234e5e8472b6ac51c1ae1cab3fe06fad053beb8ebfd8977b010655bfdd3c3), the hash is the commitments of value \"2\"\n",
    "\n"
   ]
  },
  {
   "cell_type": "markdown",
   "metadata": {},
   "source": [
    "If Alice always send same commitment for value \"2\", it's lack of **Semantic Security**, so instead of commit to \"2\", Alice may commit to \"2\" + some random data(salt). The commitments may looks like $\\mathcal{H}(secret||salt)$"
   ]
  },
  {
   "cell_type": "markdown",
   "metadata": {},
   "source": [
    "Key properties of any commitment scheme:\n",
    "\n",
    "* **Hiding** - a commitment $C$ does not reveal the value it commit to.\n",
    "\n",
    "* **Binding** - have make the commitment $C(m)$ to $m$, you can't change your mind and open it as commitment to a different message $m'$"
   ]
  },
  {
   "cell_type": "markdown",
   "metadata": {},
   "source": [
    "# Homorphic and Pedersen"
   ]
  },
  {
   "cell_type": "markdown",
   "metadata": {},
   "source": [
    "### A Pedersen commitment in elliptic curve form"
   ]
  },
  {
   "cell_type": "markdown",
   "metadata": {},
   "source": [
    "$$C=rH+aG$$"
   ]
  },
  {
   "cell_type": "markdown",
   "metadata": {},
   "source": [
    "$H$ is a curve point, for which nobody knows the discrete logarithm $q$ s.t. $H = qG$."
   ]
  },
  {
   "cell_type": "code",
   "execution_count": 272,
   "metadata": {},
   "outputs": [],
   "source": [
    "from klefki.types.algebra.concrete import EllipticCurveCyclicSubgroupSecp256k1 as Cruve\n",
    "from klefki.types.algebra.concrete import EllipticCurveGroupSecp256k1 as ECG\n",
    "#from klefki.types.algebra.concrete import FiniteFieldCyclicSecp256k1 as CF\n",
    "from klefki.types.algebra.concrete import FiniteFieldSecp256k1 as CF\n",
    "\n",
    "\n",
    "G = Cruve.G"
   ]
  },
  {
   "cell_type": "code",
   "execution_count": 295,
   "metadata": {},
   "outputs": [],
   "source": [
    "import random\n",
    "\n",
    "N = 0xfffffffffffffffffffffffffffffffe\n",
    "def random_cf() -> CF: return CF(random.randint(1, N) % CF.P)"
   ]
  },
  {
   "cell_type": "code",
   "execution_count": 280,
   "metadata": {},
   "outputs": [],
   "source": [
    "q = random_cf()\n",
    "H = G @ q"
   ]
  },
  {
   "cell_type": "code",
   "execution_count": 281,
   "metadata": {},
   "outputs": [],
   "source": [
    "def C(r: CF, a: CF): return (H@r + G@a)"
   ]
  },
  {
   "cell_type": "markdown",
   "metadata": {},
   "source": [
    "### Homomorphism of Pedersen commitment"
   ]
  },
  {
   "cell_type": "markdown",
   "metadata": {},
   "source": [
    "$$\n",
    "C(r_1, a_1)+C(r_2, a_2) = r_1H+a_1G+r_2H+a_2G=(r_1+r_2)H+(a_1+a_2)G=C(r_1+r_2, a_1+a_2)\n",
    "$$"
   ]
  },
  {
   "cell_type": "code",
   "execution_count": 292,
   "metadata": {},
   "outputs": [],
   "source": [
    "r_1, a_1, r_2, a_2 = random_cf(), random_cf(), random_cf(), random_cf()"
   ]
  },
  {
   "cell_type": "code",
   "execution_count": 293,
   "metadata": {},
   "outputs": [],
   "source": [
    "assert C(r_1, a_1) + C(r_2, a_2) == H@r_1 + G@a_1 + H@r_2 + G@a_2"
   ]
  },
  {
   "cell_type": "code",
   "execution_count": 294,
   "metadata": {},
   "outputs": [],
   "source": [
    "assert C(r_1, a_1) + C(r_2, a_2) == C(r_1 + r_2, a_1 + a_2)"
   ]
  },
  {
   "cell_type": "markdown",
   "metadata": {},
   "source": [
    "### The Vector Pedersen Commitment"
   ]
  },
  {
   "cell_type": "markdown",
   "metadata": {},
   "source": [
    "### NUMS-ness and binding\n",
    "\n",
    "NUMS sands for \"Noting Up My Sleeve\". ref: https://en.wikipedia.org/wiki/Nothing-up-my-sleeve_number\n",
    "\n",
    "A easy way is to use a hash fuction like SHA256.\n",
    "\n",
    "For $C = rH_aG$ to find two scalar values $s,b$ that $s\\neq r, b\\neq a$ is impossible, unless the ECDLP(Ellipic Curve discrete Logarithm Problem) had cracked."
   ]
  },
  {
   "cell_type": "markdown",
   "metadata": {},
   "source": [
    "To extend to a more powerful form of the Pedersen commitment already deﬁned, we go from:\n",
    "    $$C = rH + aG$$\n",
    "    to:\n",
    "        $$C=rH + \\sum_{i=0}^n v_iG_i = rH + \\mathbf{v}\\mathbf{G}$$"
   ]
  },
  {
   "cell_type": "markdown",
   "metadata": {},
   "source": [
    "The individual G i s can be constructed using a simple algorithm of the form already mentioned (like, take a $\\mathcal{H}(encode(G)||i)$ where $\\mathcal{H}$ represents some hash function)."
   ]
  },
  {
   "cell_type": "markdown",
   "metadata": {},
   "source": [
    "Not: we can extend this yet further to create commitments to 2 or even multiple vectors; \n",
    "\n",
    "We just need a set of N NUMS base curve points for each vector we’re committing to, for example (2 vectors):\n",
    "\n",
    "$$\n",
    "C=rH+\\mathbf{vG}+\\mathbf{wH}\n",
    "$$"
   ]
  },
  {
   "cell_type": "markdown",
   "metadata": {},
   "source": [
    "Note here that the single curve point H is not part of the vector H."
   ]
  },
  {
   "cell_type": "code",
   "execution_count": 132,
   "metadata": {},
   "outputs": [],
   "source": [
    "from klefki.types.algebra.utils import encode, decode\n",
    "from hashlib import sha256"
   ]
  },
  {
   "cell_type": "code",
   "execution_count": 133,
   "metadata": {},
   "outputs": [],
   "source": [
    "from functools import reduce\n",
    "\n",
    "def map2curve(x: CF):\n",
    "    return G @ x\n",
    "\n",
    "Gs = list(map(map2curve,\n",
    "              (map(lambda x: int(x, 16), \n",
    "                  (map(lambda x: sha256(x.encode()).hexdigest(), encode(G)))))))\n",
    "\n",
    "\n",
    "def vgm(a: [CF]) -> [ECG]:\n",
    "    return reduce(lambda x,y: x+y,\n",
    "                  list(map(lambda a: a[0] @ a[1], zip(Gs, a))))\n",
    "\n",
    "def Cv(r:CF, a:[CF]):\n",
    "    return (H@r + vgm(a))"
   ]
  },
  {
   "cell_type": "markdown",
   "metadata": {},
   "source": [
    "### Homomorphism"
   ]
  },
  {
   "cell_type": "markdown",
   "metadata": {},
   "source": [
    "$$\n",
    "C(r_1, \\mathbf{v}_1)+C(r_2, \\mathbf{v}_2) = r_1H+\\mathbf{v_1}\\mathbf{G}+r_2H+\\mathbf{v}_2\\mathbf{G}=(r_1+r_2)H+(\\mathbf{v}_1+\\mathbf{v}_2)\\mathbf{G}=C(r_1+r_2, \\mathbf{v}_1+\\mathbf{v}_2)\n",
    "$$"
   ]
  },
  {
   "cell_type": "code",
   "execution_count": 134,
   "metadata": {},
   "outputs": [],
   "source": [
    "r_1, r_2 = random_cf(), random_cf()\n",
    "v_1, v_2 = [random_cf() for i in range(0, 5)], [random_cf() for i in range(0, 5)]"
   ]
  },
  {
   "cell_type": "code",
   "execution_count": 137,
   "metadata": {},
   "outputs": [],
   "source": [
    "assert Cv(r_1 + r_2, list(map(lambda x: x[0] + x[1], zip(v_1, v_2)))) == Cv(r_1, v_1) + Cv(r_2, v_2)\n"
   ]
  },
  {
   "cell_type": "markdown",
   "metadata": {},
   "source": [
    "### Perfect Hiding and Perfect Binding are incompatible\n",
    "\n",
    "The perdersen commitment is property as \"perfeact\" or \"satistical\" hiding\n",
    "\n",
    "But it's **not** binding, if **you know the discrete log of**.\n",
    "\n",
    "Consider, if I have commitment $C=rH+aG$, there is another $r'$ s.t. $C=r'H+a'G$ for any chosen $a'$;\n",
    "\n",
    "It’s just that we can’t ﬁnd that $r'$ without the ability to crack the ECDLP. But the fact that it even exists means that the commitment is a valid commitment to any value $a$, for the right $r$.\n",
    "\n",
    "the Pedersen commitment’s binding is not perfect – it is “computational”. What this means is that, much as discussed just above, in a case where the ECDLP was cracked, the binding property could fail and people could open the commitment to other values."
   ]
  },
  {
   "cell_type": "markdown",
   "metadata": {},
   "source": [
    "### Knowledge of a set of vectors"
   ]
  },
  {
   "cell_type": "markdown",
   "metadata": {},
   "source": [
    "Our argument of knowledge will come after we have generated a set of com- mitments for each of m vectors $x_1 , x_2 , \\cdots , x_m$ , each of the same dimension $N(\\neq m)$).Explicitly:\n",
    "\n",
    "$$\n",
    "C_1=r_1H + x_1G\\\\\n",
    "C_2=r_2H + x_2G\\\\\n",
    "\\vdots\\\\\n",
    "C_m=r_mH+x_mG\\\\\n",
    "$$"
   ]
  },
  {
   "cell_type": "code",
   "execution_count": 757,
   "metadata": {},
   "outputs": [],
   "source": [
    "m = 5\n",
    "N = 7\n",
    "x: [[CF]] = [[random_cf() for j in range(0, N)] for i in range(0, m)]\n",
    "r: [CF] = [random_cf() for i in range(0, m)]\n",
    "q: CF = random_cf()\n",
    "H: ECG = G@q\n",
    "C: [ECG] = list(map(lambda x: H @ x[0] + vgm(x[1]), zip(r, x)))"
   ]
  },
  {
   "cell_type": "markdown",
   "metadata": {},
   "source": [
    "#### The process:\n",
    "\n",
    "1. $P\\rightarrow V: C_0$ (0 (a new commitment to a newly chosen random vector of dimension $N$)\n",
    "\n",
    "2. $V\\rightarrow P: e$ (a random scalar)\n",
    "\n",
    "3. $P\\rightarrow V: (\\mathbf{z}, s)$(a single vector of dimension N, and another scalar)\n",
    "\n",
    "$$\n",
    "z=\\sum_{i=0}^m e^ix_i,\\ s=\\sum_{i=0}^m e^ir_i\n",
    "$$"
   ]
  },
  {
   "cell_type": "markdown",
   "metadata": {},
   "source": [
    "Note that the summations start at 0; this means that the sums include the extra, random commitment, indexed 0, that was created as the ﬁrst step of the interaction."
   ]
  },
  {
   "cell_type": "code",
   "execution_count": 758,
   "metadata": {},
   "outputs": [],
   "source": [
    "from functools import reduce\n",
    "P, V = {}, {}\n",
    "\n",
    "# Step 1\n",
    "P['C_0'] = vgm([random_cf() for i in range(0, N)])\n",
    "V['C_0'] = P['C_0']\n",
    "\n",
    "# Step 2\n",
    "V['e'] = random_cf()\n",
    "P['e'] = V['e']\n",
    "\n",
    "# Step 3\n",
    "# z: a single vector of dimension N\n",
    "# z_n = x_0n + e*x_1n + . . . e^m*x_mn ; \n",
    "\n",
    "P['z'] = [\n",
    "    reduce(lambda x, y: x + y , [x[i][j] @ (P['e'] ** (i+1)) for i in range(0, m)])\n",
    "    for j in range(0, N)\n",
    "]\n",
    "\n",
    "P['s'] = reduce(lambda x, y: x + y, [r[i] @ (P['e'] ** (i+1)) for i in range(0, m)])\n",
    "V['z'], V['s'] = P['z'], P['s']\n"
   ]
  },
  {
   "cell_type": "markdown",
   "metadata": {},
   "source": [
    "Having received this $(z, s)$, the verifer of course needs to verify whether the proof is valid. He does the following:"
   ]
  },
  {
   "cell_type": "markdown",
   "metadata": {},
   "source": [
    "$$\n",
    "\\sum_{i=0}^m e^iC_i \\stackrel{?}{=} sH+\\mathbf{z}\\mathbf{G}\n",
    "$$"
   ]
  },
  {
   "cell_type": "code",
   "execution_count": 759,
   "metadata": {},
   "outputs": [],
   "source": [
    "assert reduce(lambda x, y: x+y, [C[i] @ (P['e'] ** (i+1)) for i in range(0, m)]) == H @ V['s'] + vgm(V['z'])"
   ]
  },
  {
   "cell_type": "markdown",
   "metadata": {},
   "source": [
    "### Schnorr’s identity protocol"
   ]
  },
  {
   "cell_type": "markdown",
   "metadata": {},
   "source": [
    "Prover starts with a public key P and a corresponding private key $x$ s.t. $P = xG$.\n",
    "Prover wishes to prove in zero knowledge, that he knows $x$.\n",
    "\n",
    "1. $P\\rightarrow V:xG$\n",
    "2. $P\\rightarrow V:R$ (a new random curve point, but $P$ knows $k$ s.t. $R=kG$)\n",
    "3. $V\\rightarrow P:e$ (a random scalar)\n",
    "4. $P\\rightarrow V:s$ (which $P$ calcuated from the quation $s=k+ex$)\n",
    "\n",
    "Note: the transcript referred to above, would here be: $(R, e, s)$."
   ]
  },
  {
   "cell_type": "code",
   "execution_count": 760,
   "metadata": {},
   "outputs": [],
   "source": [
    "P, V = {}, {}\n",
    "x = random_cf()\n",
    "# step 1\n",
    "P['x'] = x\n",
    "V['P'] = G @ P['x']\n",
    "\n",
    "# step 2\n",
    "P['k'] = random_cf()\n",
    "V['R'] = G @ P['k']\n",
    "\n",
    "# step 3\n",
    "V['e'] = random_cf()\n",
    "P['e'] = V['e']\n",
    "\n",
    "# step 4\n",
    "P['s'] = P['k'] + P['e'] * P['x']\n",
    "V['s'] = P['s']\n",
    "\n",
    "transcript = V['R'], V['e'], V['s']"
   ]
  },
  {
   "cell_type": "markdown",
   "metadata": {},
   "source": [
    "Veriﬁcation works fairly trivially: veriﬁer checks $sG \\stackrel{?}{=} R+eP$.\n"
   ]
  },
  {
   "cell_type": "code",
   "execution_count": 761,
   "metadata": {},
   "outputs": [],
   "source": [
    "assert G @ V['s'] == V['R'] + V['P'] @ V['e']"
   ]
  },
  {
   "cell_type": "markdown",
   "metadata": {},
   "source": [
    "\n",
    "The “Simulator”, which controls the execution of the veriﬁer, given the public key P, just as the Veriﬁer would be, can fake a valid transcript as follows:\n",
    "\n",
    "Choose $s$ randomly. Then, choose $e$, also randomly. Finally, we only need to choose $R$ to create a complete conversation transcript; it must be $R = sG − eP$. \n",
    "\n",
    "$$\n",
    "R=sG-eP\\\\\n",
    "kG=sG-eP\\\\\n",
    "sG=kG+eP\\\\\n",
    "sG=kG+xeG\\\\\n",
    "s=k+ex\\\\\n",
    "$$\n",
    "\n",
    "Then we have successfully simulated a conversation which is entirely valid: $(R, e, s)$, without ever knowing the secret key $x$, and which it’s easy to see is randomly distributed in the same way as a real one would be ($R$ is a free variable)."
   ]
  },
  {
   "cell_type": "code",
   "execution_count": 762,
   "metadata": {},
   "outputs": [],
   "source": [
    "s, e = random_cf(), random_cf()\n",
    "R = G @ s - V['P'] @ e"
   ]
  },
  {
   "cell_type": "code",
   "execution_count": 763,
   "metadata": {},
   "outputs": [],
   "source": [
    "assert G @ s == R + V['P'] @ e"
   ]
  },
  {
   "cell_type": "markdown",
   "metadata": {},
   "source": [
    "## Knowledge soundness – does a verifying interaction actually prove knowledge of the vectors?"
   ]
  },
  {
   "cell_type": "code",
   "execution_count": null,
   "metadata": {},
   "outputs": [],
   "source": []
  },
  {
   "cell_type": "code",
   "execution_count": null,
   "metadata": {},
   "outputs": [],
   "source": []
  },
  {
   "cell_type": "code",
   "execution_count": null,
   "metadata": {},
   "outputs": [],
   "source": []
  },
  {
   "cell_type": "code",
   "execution_count": null,
   "metadata": {},
   "outputs": [],
   "source": []
  }
 ],
 "metadata": {
  "kernelspec": {
   "display_name": "Python 3",
   "language": "python",
   "name": "python3"
  },
  "language_info": {
   "codemirror_mode": {
    "name": "ipython",
    "version": 3
   },
   "file_extension": ".py",
   "mimetype": "text/x-python",
   "name": "python",
   "nbconvert_exporter": "python",
   "pygments_lexer": "ipython3",
   "version": "3.7.3"
  }
 },
 "nbformat": 4,
 "nbformat_minor": 2
}
