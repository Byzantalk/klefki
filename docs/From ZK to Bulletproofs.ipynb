{
 "cells": [
  {
   "cell_type": "code",
   "execution_count": 3,
   "metadata": {},
   "outputs": [],
   "source": [
    " %load_ext autoreload\n"
   ]
  },
  {
   "cell_type": "markdown",
   "metadata": {},
   "source": [
    "# From ZK to Bulletproofs"
   ]
  },
  {
   "cell_type": "code",
   "execution_count": 4,
   "metadata": {},
   "outputs": [],
   "source": [
    "from klefki.types.algebra.concrete import EllipticCurveCyclicSubgroupSecp256k1 as Cruve\n",
    "from klefki.types.algebra.concrete import EllipticCurveGroupSecp256k1 as ECG\n",
    "from klefki.types.algebra.concrete import FiniteFieldCyclicSecp256k1 as CF\n",
    "\n",
    "G = Cruve.G"
   ]
  },
  {
   "cell_type": "markdown",
   "metadata": {},
   "source": [
    "## 2.3 A Pedersen commitment in elliptic curve form"
   ]
  },
  {
   "cell_type": "code",
   "execution_count": 5,
   "metadata": {},
   "outputs": [],
   "source": [
    "import random\n",
    "\n",
    "N = 0xfffffffffffffffffffffffffffffffebaaedce6af48a03bbfd25e8cd0364141\n",
    "def random_cf() -> CF: return CF(random.randint(1, N))"
   ]
  },
  {
   "cell_type": "markdown",
   "metadata": {},
   "source": [
    "$$C=rH+aG$$"
   ]
  },
  {
   "cell_type": "markdown",
   "metadata": {},
   "source": [
    "$H$ is a curve point, for which nobody knows the discrete logarithm $q$ s.t. $H = qG$."
   ]
  },
  {
   "cell_type": "code",
   "execution_count": 6,
   "metadata": {},
   "outputs": [],
   "source": [
    "q = random_cf()\n",
    "H = G@q"
   ]
  },
  {
   "cell_type": "code",
   "execution_count": 7,
   "metadata": {},
   "outputs": [],
   "source": [
    "def C(r: CF, a: CF): return (H@r + G@a)"
   ]
  },
  {
   "cell_type": "markdown",
   "metadata": {},
   "source": [
    "### Homomorphism"
   ]
  },
  {
   "cell_type": "code",
   "execution_count": 8,
   "metadata": {},
   "outputs": [],
   "source": [
    "r_1, a_1, r_2, a_2 = random_cf(), random_cf(), random_cf(), random_cf()"
   ]
  },
  {
   "cell_type": "code",
   "execution_count": 9,
   "metadata": {},
   "outputs": [],
   "source": [
    "assert C(r_1, a_1) + C(r_2, a_2) == H@r_1 + G@a_1 + H@r_2 + G@a_2"
   ]
  },
  {
   "cell_type": "code",
   "execution_count": 10,
   "metadata": {},
   "outputs": [],
   "source": [
    "assert C(r_1, a_1) + C(r_2, a_2) == C(r_1 + r_2, a_1 + a_2)"
   ]
  },
  {
   "cell_type": "markdown",
   "metadata": {},
   "source": [
    "## 2.4 The Vector Pedersen Commitment"
   ]
  },
  {
   "cell_type": "markdown",
   "metadata": {},
   "source": [
    "To extend to a more powerful form of the Pedersen commitment already deﬁned, we go from:\n",
    "    $$C = rH + aG$$\n",
    "    to:\n",
    "        $$C=rH + \\sum_{i=0}^n v_iG_i = rH + \\mathbf{v}\\mathbf{G}$$"
   ]
  },
  {
   "cell_type": "markdown",
   "metadata": {},
   "source": [
    "The individual G i s can be constructed using a simple algorithm of the form already mentioned (like, take a $\\mathcal{H}(encode(G)||i)$ where $\\mathcal{H}$ represents some hash function)."
   ]
  },
  {
   "cell_type": "code",
   "execution_count": 40,
   "metadata": {},
   "outputs": [],
   "source": [
    "from klefki.types.algebra.utils import encode, decode\n",
    "from hashlib import sha256"
   ]
  },
  {
   "cell_type": "code",
   "execution_count": 41,
   "metadata": {},
   "outputs": [],
   "source": [
    "G_is = list(\n",
    "    map(decode,\n",
    "        (map(lambda x: sha256(x.encode()).hexdigest(), encode(G)))\n",
    "       )\n",
    ")"
   ]
  },
  {
   "cell_type": "markdown",
   "metadata": {},
   "source": [
    "## 3 A zero knowledge argument of knowledge of a set of vectors"
   ]
  },
  {
   "cell_type": "markdown",
   "metadata": {},
   "source": [
    "### Schnorr’s identity protocol"
   ]
  },
  {
   "cell_type": "markdown",
   "metadata": {},
   "source": [
    "Prover starts with a public key P and a corresponding private key $x$ s.t. $P = xG$.\n",
    "Prover wishes to prove in zero knowledge, that he knows $x$.\n",
    "\n",
    "1. $P\\rightarrow V:xG$\n",
    "2. $P\\rightarrow V:R$ (a new random curve point, but $P$ knows $k$ s.t. $R=kG$)\n",
    "3. $V\\rightarrow P:e$ (a random scalar)\n",
    "4. $P\\rightarrow V:s$ (which $P$ calcuated from the quation $s=k+ex$)"
   ]
  },
  {
   "cell_type": "code",
   "execution_count": 51,
   "metadata": {},
   "outputs": [],
   "source": [
    "P, V = {}, {}\n",
    "# step 1\n",
    "P['x'] = random_cf()\n",
    "V['P'] = G @ P['x']\n",
    "\n",
    "# step 2\n",
    "P['k'] = random_cf()\n",
    "V['R'] = G @ P['k']\n",
    "\n",
    "# step 3\n",
    "V['e'] = random_cf()\n",
    "P['e'] = V['e']\n",
    "\n",
    "# step 4\n",
    "P['s'] = P['k'] + P['e'] * P['x']\n",
    "V['s'] = P['s']\n",
    "\n"
   ]
  },
  {
   "cell_type": "markdown",
   "metadata": {},
   "source": [
    "Veriﬁcation works fairly trivially: veriﬁer checks $sG =?R+eP$.\n",
    "\n",
    "The “Simulator”, which controls the execution of the veriﬁer, given the public key P, just as the Veriﬁer would be, can fake a valid transcript as follows:\n",
    "\n",
    "Choose $s$ randomly. Then, choose $e$, also randomly. Finally, we only need to choose $R$ to create a complete conversation transcript; it must be $R = sG − eP$. \n",
    "\n",
    "$$\n",
    "R=sG-eP\\\\\n",
    "kG=sG-eP\\\\\n",
    "sG=kG+eP\\\\\n",
    "sG=kG+xeG\\\\\n",
    "s=k+ex\\\\\n",
    "$$\n",
    "\n",
    "Then we have successfully simulated a conversation which is entirely valid: $(R, e, s)$, without ever knowing the secret key $x$, and which it’s easy to see is randomly distributed in the same way as a real one would be ($R$ is a free variable)."
   ]
  },
  {
   "cell_type": "code",
   "execution_count": 53,
   "metadata": {},
   "outputs": [],
   "source": [
    "s, e = random_cf(), random_cf()\n",
    "R = G @ V['s'] - V['P'] @ V['e']"
   ]
  },
  {
   "cell_type": "code",
   "execution_count": 56,
   "metadata": {},
   "outputs": [],
   "source": [
    "assert R == V['R']"
   ]
  },
  {
   "cell_type": "markdown",
   "metadata": {},
   "source": [
    "### vector proof of knowledge"
   ]
  },
  {
   "cell_type": "code",
   "execution_count": null,
   "metadata": {},
   "outputs": [],
   "source": []
  }
 ],
 "metadata": {
  "kernelspec": {
   "display_name": "Python 3",
   "language": "python",
   "name": "python3"
  },
  "language_info": {
   "codemirror_mode": {
    "name": "ipython",
    "version": 3
   },
   "file_extension": ".py",
   "mimetype": "text/x-python",
   "name": "python",
   "nbconvert_exporter": "python",
   "pygments_lexer": "ipython3",
   "version": "3.7.3"
  }
 },
 "nbformat": 4,
 "nbformat_minor": 2
}
