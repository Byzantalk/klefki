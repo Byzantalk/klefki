{
 "cells": [
  {
   "cell_type": "code",
   "execution_count": 30,
   "metadata": {},
   "outputs": [],
   "source": [
    "from klefki.asn import signature as sig\n",
    "from pyasn1.codec.der.encoder import encode\n",
    "from pyasn1.codec.der.decoder import decode"
   ]
  },
  {
   "cell_type": "markdown",
   "metadata": {},
   "source": [
    "ref :\n",
    "\n",
    "* https://en.bitcoin.it/wiki/Protocol_documentation#tx\n",
    "    "
   ]
  },
  {
   "cell_type": "markdown",
   "metadata": {},
   "source": [
    "* src: klefki/asn/signature.asn\n",
    "\n",
    "```asn1\n",
    "\n",
    "Ecdsa {modules(0)}\n",
    "\n",
    "-- https://tools.ietf.org/html/rfc3278#section-8.2\n",
    "DEFINITIONS EXPLICIT TAGS ::= BEGIN\n",
    "    ECDSA-Sig-Value ::= SEQUENCE {\n",
    "        r    INTEGER,\n",
    "        s    INTEGER\n",
    "    }\n",
    "END\n",
    "\n",
    "```\n"
   ]
  },
  {
   "cell_type": "markdown",
   "metadata": {},
   "source": [
    "### Create an ECDSA_Sig_Value Object"
   ]
  },
  {
   "cell_type": "code",
   "execution_count": 31,
   "metadata": {},
   "outputs": [
    {
     "data": {
      "text/plain": [
       "ECDSA_Sig_Value().setComponentByPosition(0, Integer(123)).setComponentByPosition(1, Integer(234))"
      ]
     },
     "execution_count": 31,
     "metadata": {},
     "output_type": "execute_result"
    }
   ],
   "source": [
    "sn = sig.ECDSA_Sig_Value()\n",
    "sn['r'] = 123\n",
    "sn['s'] = 234\n",
    "sn"
   ]
  },
  {
   "cell_type": "markdown",
   "metadata": {},
   "source": [
    "### Encode with DER"
   ]
  },
  {
   "cell_type": "code",
   "execution_count": 32,
   "metadata": {},
   "outputs": [
    {
     "data": {
      "text/plain": [
       "b'0\\x07\\x02\\x01{\\x02\\x02\\x00\\xea'"
      ]
     },
     "execution_count": 32,
     "metadata": {},
     "output_type": "execute_result"
    }
   ],
   "source": [
    "es = encode(sn)\n",
    "es"
   ]
  },
  {
   "cell_type": "code",
   "execution_count": 33,
   "metadata": {},
   "outputs": [
    {
     "name": "stdout",
     "output_type": "stream",
     "text": [
      "48\n",
      "7\n",
      "2\n",
      "1\n",
      "123\n",
      "2\n",
      "2\n",
      "0\n",
      "234\n"
     ]
    }
   ],
   "source": [
    "for i in es:\n",
    "    print(i)"
   ]
  },
  {
   "cell_type": "markdown",
   "metadata": {},
   "source": [
    "### Decode With DER"
   ]
  },
  {
   "cell_type": "code",
   "execution_count": 34,
   "metadata": {},
   "outputs": [],
   "source": [
    "a, b = decode(encode(sn), asn1Spec=sig.ECDSA_Sig_Value())"
   ]
  },
  {
   "cell_type": "code",
   "execution_count": 35,
   "metadata": {},
   "outputs": [
    {
     "data": {
      "text/plain": [
       "(123, 234)"
      ]
     },
     "execution_count": 35,
     "metadata": {},
     "output_type": "execute_result"
    }
   ],
   "source": [
    "a[0]._value, a[1]._value"
   ]
  },
  {
   "cell_type": "markdown",
   "metadata": {},
   "source": [
    "### Decode Without Spec"
   ]
  },
  {
   "cell_type": "code",
   "execution_count": 36,
   "metadata": {},
   "outputs": [],
   "source": [
    "a, b = decode(encode(sn))"
   ]
  },
  {
   "cell_type": "code",
   "execution_count": 37,
   "metadata": {},
   "outputs": [
    {
     "data": {
      "text/plain": [
       "(Integer(123, tagSet=TagSet((), Tag(tagClass=0, tagFormat=0, tagId=2))),\n",
       " Integer(234, tagSet=TagSet((), Tag(tagClass=0, tagFormat=0, tagId=2))))"
      ]
     },
     "execution_count": 37,
     "metadata": {},
     "output_type": "execute_result"
    }
   ],
   "source": [
    "a[0], a[1]"
   ]
  },
  {
   "cell_type": "markdown",
   "metadata": {},
   "source": [
    "### Decode Real world tx"
   ]
  },
  {
   "cell_type": "markdown",
   "metadata": {},
   "source": [
    "* https://bitcoin.stackexchange.com/questions/2376/ecdsa-r-s-encoding-as-a-signature\n"
   ]
  },
  {
   "cell_type": "code",
   "execution_count": 38,
   "metadata": {},
   "outputs": [],
   "source": [
    "tar = '30450220316eb3cad8b66fcf1494a6e6f9542c3555addbf337f04b62bf4758483fdc881d022100bf46d26cef45d998a2cb5d2d0b8342d70973fa7c3c37ae72234696524b2bc81201'"
   ]
  },
  {
   "cell_type": "code",
   "execution_count": 49,
   "metadata": {},
   "outputs": [
    {
     "data": {
      "text/plain": [
       "(ECDSA_Sig_Value().setComponentByPosition(0, Integer(22358923639033482709648311695441600736476014451748795348910990515721524250653)).setComponentByPosition(1, Integer(86516885677543805479105937789204707421550862272281398923746678861190254020626)),\n",
       " b'\\x01')"
      ]
     },
     "execution_count": 49,
     "metadata": {},
     "output_type": "execute_result"
    }
   ],
   "source": [
    "a, b = decode(bytes.fromhex(tar), asn1Spec=sig.ECDSA_Sig_Value())\n",
    "a, b"
   ]
  },
  {
   "cell_type": "code",
   "execution_count": 50,
   "metadata": {},
   "outputs": [
    {
     "data": {
      "text/plain": [
       "(Sequence(tagSet=TagSet((), Tag(tagClass=0, tagFormat=32, tagId=16))).setComponentByPosition(0, Integer(22358923639033482709648311695441600736476014451748795348910990515721524250653, tagSet=TagSet((), Tag(tagClass=0, tagFormat=0, tagId=2)))).setComponentByPosition(1, Integer(86516885677543805479105937789204707421550862272281398923746678861190254020626, tagSet=TagSet((), Tag(tagClass=0, tagFormat=0, tagId=2)))),\n",
       " b'\\x01')"
      ]
     },
     "execution_count": 50,
     "metadata": {},
     "output_type": "execute_result"
    }
   ],
   "source": [
    "decode(bytes.fromhex(tar))"
   ]
  },
  {
   "cell_type": "code",
   "execution_count": null,
   "metadata": {},
   "outputs": [],
   "source": []
  }
 ],
 "metadata": {
  "kernelspec": {
   "display_name": "Python 3",
   "language": "python",
   "name": "python3"
  },
  "language_info": {
   "codemirror_mode": {
    "name": "ipython",
    "version": 3
   },
   "file_extension": ".py",
   "mimetype": "text/x-python",
   "name": "python",
   "nbconvert_exporter": "python",
   "pygments_lexer": "ipython3",
   "version": "3.6.0"
  }
 },
 "nbformat": 4,
 "nbformat_minor": 2
}
