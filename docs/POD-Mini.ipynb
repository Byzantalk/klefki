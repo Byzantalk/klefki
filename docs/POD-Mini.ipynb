{
 "cells": [
  {
   "cell_type": "markdown",
   "metadata": {},
   "source": [
    "<center><h1>POD-Mini: minimized proof of delivery</h1></center>\n",
    "<center><h2>implemented via Python</h2><center>"
   ]
  },
  {
   "cell_type": "markdown",
   "metadata": {},
   "source": [
    "## Intro"
   ]
  },
  {
   "cell_type": "markdown",
   "metadata": {},
   "source": [
    "This is a Python implementaton of Pod-Mini of [zkPod](https://github.com/sec-bit/zkPoD-node) via klefki, for more details, just check the [technial Paper](https://github.com/sec-bit/zkPoD-node)."
   ]
  },
  {
   "cell_type": "code",
   "execution_count": 1,
   "metadata": {},
   "outputs": [],
   "source": [
    "from klefki.types.algebra.concrete import (\n",
    "    EllipticCurveGroupSecp256k1 as ECG,\n",
    "    EllipticCurveCyclicSubgroupSecp256k1 as CG,\n",
    "    FiniteFieldSecp256k1 as F,\n",
    "    FiniteFieldCyclicSecp256k1 as CF\n",
    ")\n",
    "\n",
    "\n",
    "G = CG.G"
   ]
  },
  {
   "cell_type": "code",
   "execution_count": 17,
   "metadata": {},
   "outputs": [],
   "source": [
    "import random\n",
    "\n",
    "N = 0xFFFFFFFFFFFFFFFFFFFFFFFFFFFFFFFEBAAEDCE6AF48A03BBFD25E8CD0364141\n",
    "random_f = lambda: CF(random.randint(1, N) % CF.P)\n",
    "\n",
    "q = random_f()\n",
    "H = G @ q\n",
    "    "
   ]
  },
  {
   "cell_type": "code",
   "execution_count": 18,
   "metadata": {},
   "outputs": [],
   "source": [
    "from hashlib import sha256\n",
    "\n",
    "hash = lambda x, y: CF(int(sha256(str(x.value + y).encode()).hexdigest(), 16) % N)"
   ]
  },
  {
   "cell_type": "markdown",
   "metadata": {},
   "source": [
    "## Initializer Phase"
   ]
  },
  {
   "cell_type": "code",
   "execution_count": 19,
   "metadata": {},
   "outputs": [],
   "source": [
    "data = 123456789\n",
    "tag = 6"
   ]
  },
  {
   "cell_type": "code",
   "execution_count": 22,
   "metadata": {},
   "outputs": [],
   "source": [
    "m = CF(data)\n",
    "o = CF(tag)"
   ]
  },
  {
   "cell_type": "code",
   "execution_count": 23,
   "metadata": {},
   "outputs": [],
   "source": [
    "sigma = G @ m + H @ o"
   ]
  },
  {
   "cell_type": "markdown",
   "metadata": {},
   "source": [
    "## Deliver Phase"
   ]
  },
  {
   "cell_type": "code",
   "execution_count": 24,
   "metadata": {},
   "outputs": [],
   "source": [
    "k_w = random_f()\n",
    "\n",
    "k = hash(k_w, 1)\n",
    "k_ = hash(k_w, 2)\n",
    "k0 = hash(k_w, 3)\n",
    "k0_ = hash(k_w, 4)"
   ]
  },
  {
   "cell_type": "code",
   "execution_count": 25,
   "metadata": {},
   "outputs": [
    {
     "data": {
      "text/plain": [
       "(EllipticCurveGroupSecp256k1::(FiniteFieldSecp256k1::4192133894987479521686609513582066668531014381843683945302788755767037189152, FiniteFieldSecp256k1::104216824248948063900856029232918945386834245436458613611954254638255878359112),\n",
       " EllipticCurveGroupSecp256k1::(FiniteFieldSecp256k1::84911789591068450313882454388126163502581911102858115020166344656333657793244, FiniteFieldSecp256k1::67495519763398757602804923572938985582440954931552251292769498802538287538334))"
      ]
     },
     "execution_count": 25,
     "metadata": {},
     "output_type": "execute_result"
    }
   ],
   "source": [
    "K = G @ k + H @ k_\n",
    "K0 = G @ k0 + H @ k0_\n",
    "(K, K0)"
   ]
  },
  {
   "cell_type": "markdown",
   "metadata": {},
   "source": [
    "* $S \\rightarrow R$: $(K, K_0)$"
   ]
  },
  {
   "cell_type": "code",
   "execution_count": 26,
   "metadata": {},
   "outputs": [],
   "source": [
    "c = random_f()"
   ]
  },
  {
   "cell_type": "markdown",
   "metadata": {},
   "source": [
    "* $R \\rightarrow S$: $c$"
   ]
  },
  {
   "cell_type": "code",
   "execution_count": 27,
   "metadata": {},
   "outputs": [
    {
     "data": {
      "text/plain": [
       "(FiniteFieldCyclicSecp256k1::111753046838732497637051533132157354014452335816056776976503298388519138824896,\n",
       " FiniteFieldCyclicSecp256k1::109803129159021823841277671733826972348060620797058786622158808107345148035543,\n",
       " FiniteFieldCyclicSecp256k1::68192318912878036677560258532401015223913045976096603326050271134237807559694,\n",
       " FiniteFieldCyclicSecp256k1::15311673516255252339494668905660435400990366245688893192147427968829657181944)"
      ]
     },
     "execution_count": 27,
     "metadata": {},
     "output_type": "execute_result"
    }
   ],
   "source": [
    "m_ = k + c * m\n",
    "o_ = k_ + c * o\n",
    "z = k0 + c * k\n",
    "z_ = k0_ + c * k_\n",
    "(m_, o_, z, z_)"
   ]
  },
  {
   "cell_type": "markdown",
   "metadata": {},
   "source": [
    "* $S \\rightarrow R: (\\bar{m}, \\bar{o}, z, z')$\n",
    "\n",
    "R should verify that:\n",
    "\n",
    "$$\n",
    "Com(m; o)^c \\cdot Com(k_0;k'_0) \\stackrel{?}{=} Com(\\bar{m}; \\bar{o})\\\\\n",
    "Com(k_0;k'_0) \\cdot Com(k;k')^c \\stackrel{?}{=} Com(z;z')\n",
    "$$"
   ]
  },
  {
   "cell_type": "code",
   "execution_count": 33,
   "metadata": {},
   "outputs": [],
   "source": [
    "assert sigma @ c + K == G @ m_ + H @ o_"
   ]
  },
  {
   "cell_type": "code",
   "execution_count": 34,
   "metadata": {},
   "outputs": [],
   "source": [
    "assert K0 + (K @ c) == G @ z + H @ z_"
   ]
  },
  {
   "cell_type": "markdown",
   "metadata": {},
   "source": [
    "### Reveal-phase\n",
    "\n",
    "* $R \\rightarrow J: \\rho$\n",
    "* $S \\rightarrow J: k_{\\omega}$\n",
    "\n",
    "$$\n",
    "z \\stackrel{?}{=} H(k_{\\omega}, 3) + c \\cdot H(k_{\\omega}, 1)\n",
    "$$"
   ]
  },
  {
   "cell_type": "code",
   "execution_count": 35,
   "metadata": {},
   "outputs": [],
   "source": [
    "assert z == hash(k_w, 3) + c @ hash(k_w, 1)"
   ]
  },
  {
   "cell_type": "code",
   "execution_count": 36,
   "metadata": {},
   "outputs": [],
   "source": [
    "assert m == (m_ - hash(k_w, 1)) / c"
   ]
  },
  {
   "cell_type": "code",
   "execution_count": 37,
   "metadata": {},
   "outputs": [
    {
     "data": {
      "text/plain": [
       "FiniteFieldCyclicSecp256k1::123456789"
      ]
     },
     "execution_count": 37,
     "metadata": {},
     "output_type": "execute_result"
    }
   ],
   "source": [
    "(m_ - hash(k_w, 1)) / c"
   ]
  },
  {
   "cell_type": "code",
   "execution_count": null,
   "metadata": {},
   "outputs": [],
   "source": []
  }
 ],
 "metadata": {
  "kernelspec": {
   "display_name": "Python 3",
   "language": "python",
   "name": "python3"
  },
  "language_info": {
   "codemirror_mode": {
    "name": "ipython",
    "version": 3
   },
   "file_extension": ".py",
   "mimetype": "text/x-python",
   "name": "python",
   "nbconvert_exporter": "python",
   "pygments_lexer": "ipython3",
   "version": "3.7.3"
  }
 },
 "nbformat": 4,
 "nbformat_minor": 2
}
