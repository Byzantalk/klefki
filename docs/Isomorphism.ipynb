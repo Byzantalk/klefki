{
 "cells": [
  {
   "cell_type": "markdown",
   "metadata": {},
   "source": [
    "### A morphism f : X → Y in a category is an isomorphism if it admits a two-sided inverse.\n"
   ]
  },
  {
   "cell_type": "code",
   "execution_count": 2,
   "metadata": {},
   "outputs": [],
   "source": [
    "from klefki.types.algebra.isomorphism import Isomorphism, bijection"
   ]
  },
  {
   "cell_type": "code",
   "execution_count": 3,
   "metadata": {},
   "outputs": [],
   "source": [
    "def inv(a):\n",
    "    return a - 1\n",
    "\n",
    "@Isomorphism\n",
    "@bijection(inv)\n",
    "def a(a):\n",
    "    return a + 1\n",
    "\n",
    "@Isomorphism\n",
    "@bijection(inv)\n",
    "def b(a):\n",
    "    return a + 1\n",
    "\n",
    "@Isomorphism\n",
    "@bijection(inv)\n",
    "def c(a):\n",
    "    return a + 1"
   ]
  },
  {
   "cell_type": "code",
   "execution_count": 4,
   "metadata": {},
   "outputs": [
    {
     "name": "stdout",
     "output_type": "stream",
     "text": [
      "[<function a at 0x10b8b8a60>, <function b at 0x10b8b89d8>, <function c at 0x10b8b8950>]\n",
      "[<function inv at 0x10b8b8ae8>, <function inv at 0x10b8b8ae8>, <function inv at 0x10b8b8ae8>]\n"
     ]
    }
   ],
   "source": [
    "assert (a << b << c)((a >> b >> c)(1)) == 1"
   ]
  },
  {
   "cell_type": "code",
   "execution_count": null,
   "metadata": {},
   "outputs": [],
   "source": []
  }
 ],
 "metadata": {
  "kernelspec": {
   "display_name": "Python 3",
   "language": "python",
   "name": "python3"
  },
  "language_info": {
   "codemirror_mode": {
    "name": "ipython",
    "version": 3
   },
   "file_extension": ".py",
   "mimetype": "text/x-python",
   "name": "python",
   "nbconvert_exporter": "python",
   "pygments_lexer": "ipython3",
   "version": "3.6.0"
  }
 },
 "nbformat": 4,
 "nbformat_minor": 2
}
