{
 "cells": [
  {
   "cell_type": "code",
   "execution_count": 278,
   "metadata": {},
   "outputs": [],
   "source": [
    "from types import FunctionType\n",
    "from functools import reduce\n",
    "\n",
    "class Isomorphism():\n",
    "    '''\n",
    "    A morphism f : X → Y in a category is an isomorphism if it admits a two-sided inverse.\n",
    "    '''\n",
    "    \n",
    "    class Trunks(list):\n",
    "            \n",
    "        def __call__(self, *args, **kwargs):\n",
    "            print(self)\n",
    "            \n",
    "            def _eval(args, fn):\n",
    "                if type(args) in [list, tuple]:\n",
    "                    return fn(*args)\n",
    "                if type(args) is dict:\n",
    "                    return fn(**args)\n",
    "                else:\n",
    "                    return fn(args)\n",
    "                \n",
    "                    \n",
    "            return reduce(_eval, self, kwargs or args)\n",
    "        \n",
    "        def __rshift__(self, next):\n",
    "            self.append(next)\n",
    "            return self\n",
    "        \n",
    "        def __lshift__(self, prev):\n",
    "            self.insert(0, prev.inverse)\n",
    "            return self\n",
    "        \n",
    "    def __init__(self, fn):\n",
    "        assert isinstance(fn, FunctionType) or isinstance(fn, self.__class__)\n",
    "        assert hasattr(fn, 'inverse')\n",
    "        self.fn = fn\n",
    "        self.inverse = fn.inverse\n",
    "\n",
    "    def __call__(self, *args, **kwargs):\n",
    "        return self.fn(*args, **kwargs)\n",
    "        \n",
    "    def __rshift__(self, next):\n",
    "        return self.Trunks([self, next])\n",
    "    \n",
    "    def __lshift__(self, prev):\n",
    "        return self.Trunks([self.inverse, prev.inverse])\n",
    "\n",
    "    \n",
    "    @staticmethod\n",
    "    def inv(inverse):\n",
    "        def _(fn):\n",
    "            fn.inverse = inverse\n",
    "            return fn\n",
    "        return _\n",
    "\n",
    "    def __repr__(self):\n",
    "        return self.fn.__repr__()"
   ]
  },
  {
   "cell_type": "code",
   "execution_count": 279,
   "metadata": {},
   "outputs": [],
   "source": [
    "def inv(a):\n",
    "    return a - 1\n",
    "\n",
    "@Isomorphism\n",
    "@Isomorphism.inv(inv)\n",
    "def a(a):\n",
    "    return a + 1\n",
    "\n",
    "@Isomorphism\n",
    "@Isomorphism.inv(inv)\n",
    "def b(a):\n",
    "    return a + 1\n",
    "\n",
    "@Isomorphism\n",
    "@Isomorphism.inv(inv)\n",
    "def c(a):\n",
    "    return a + 1"
   ]
  },
  {
   "cell_type": "code",
   "execution_count": 280,
   "metadata": {},
   "outputs": [
    {
     "name": "stdout",
     "output_type": "stream",
     "text": [
      "[<function a at 0x105727620>, <function b at 0x105727d08>, <function c at 0x10571eb70>]\n",
      "[<function inv at 0x1057272f0>, <function inv at 0x1057272f0>, <function inv at 0x1057272f0>]\n"
     ]
    }
   ],
   "source": [
    "assert (a << b << c)((a >> b >> c)(1)) == 1"
   ]
  },
  {
   "cell_type": "code",
   "execution_count": null,
   "metadata": {},
   "outputs": [],
   "source": []
  }
 ],
 "metadata": {
  "kernelspec": {
   "display_name": "Python 3",
   "language": "python",
   "name": "python3"
  },
  "language_info": {
   "codemirror_mode": {
    "name": "ipython",
    "version": 3
   },
   "file_extension": ".py",
   "mimetype": "text/x-python",
   "name": "python",
   "nbconvert_exporter": "python",
   "pygments_lexer": "ipython3",
   "version": "3.6.0"
  }
 },
 "nbformat": 4,
 "nbformat_minor": 2
}
