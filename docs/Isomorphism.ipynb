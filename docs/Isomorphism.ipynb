{
 "cells": [
  {
   "cell_type": "markdown",
   "metadata": {},
   "source": [
    "### A morphism f : X → Y in a category is an isomorphism if it admits a two-sided inverse.\n"
   ]
  },
  {
   "cell_type": "code",
   "execution_count": 1,
   "metadata": {},
   "outputs": [],
   "source": [
    "from klefki.types.algebra.isomorphism import Isomorphism"
   ]
  },
  {
   "cell_type": "code",
   "execution_count": 2,
   "metadata": {},
   "outputs": [],
   "source": [
    "def inv(a):\n",
    "    return a - 1\n",
    "\n",
    "@Isomorphism\n",
    "@Isomorphism.inv(inv)\n",
    "def a(a):\n",
    "    return a + 1\n",
    "\n",
    "@Isomorphism\n",
    "@Isomorphism.inv(inv)\n",
    "def b(a):\n",
    "    return a + 1\n",
    "\n",
    "@Isomorphism\n",
    "@Isomorphism.inv(inv)\n",
    "def c(a):\n",
    "    return a + 1"
   ]
  },
  {
   "cell_type": "code",
   "execution_count": 3,
   "metadata": {},
   "outputs": [
    {
     "name": "stdout",
     "output_type": "stream",
     "text": [
      "[<function a at 0x10a530f28>, <function b at 0x10a539048>, <function c at 0x10a530ea0>]\n",
      "[<function inv at 0x10a530e18>, <function inv at 0x10a530e18>, <function inv at 0x10a530e18>]\n"
     ]
    }
   ],
   "source": [
    "assert (a << b << c)((a >> b >> c)(1)) == 1"
   ]
  }
 ],
 "metadata": {
  "kernelspec": {
   "display_name": "Python 3",
   "language": "python",
   "name": "python3"
  },
  "language_info": {
   "codemirror_mode": {
    "name": "ipython",
    "version": 3
   },
   "file_extension": ".py",
   "mimetype": "text/x-python",
   "name": "python",
   "nbconvert_exporter": "python",
   "pygments_lexer": "ipython3",
   "version": "3.6.0"
  }
 },
 "nbformat": 4,
 "nbformat_minor": 2
}
